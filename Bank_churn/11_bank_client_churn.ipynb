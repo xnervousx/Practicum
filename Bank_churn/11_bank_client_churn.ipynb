{
 "cells": [
  {
   "cell_type": "markdown",
   "metadata": {},
   "source": [
    "# Финальный проект: Анализ оттока клиентов Банка"
   ]
  },
  {
   "cell_type": "markdown",
   "metadata": {
    "toc": true
   },
   "source": [
    "<h1>Table of Contents<span class=\"tocSkip\"></span></h1>\n",
    "<div class=\"toc\"><ul class=\"toc-item\"><li><span><a href=\"#Материалы\" data-toc-modified-id=\"Материалы-1\"><span class=\"toc-item-num\">1&nbsp;&nbsp;</span>Материалы</a></span></li><li><span><a href=\"#Описание-проекта:\" data-toc-modified-id=\"Описание-проекта:-2\"><span class=\"toc-item-num\">2&nbsp;&nbsp;</span>Описание проекта:</a></span></li><li><span><a href=\"#Загрузка-/-Изучение-данных\" data-toc-modified-id=\"Загрузка-/-Изучение-данных-3\"><span class=\"toc-item-num\">3&nbsp;&nbsp;</span>Загрузка / Изучение данных</a></span></li><li><span><a href=\"#Предобработка-данных\" data-toc-modified-id=\"Предобработка-данных-4\"><span class=\"toc-item-num\">4&nbsp;&nbsp;</span>Предобработка данных</a></span></li><li><span><a href=\"#Исследовательский-анализ-данных-(EDA)\" data-toc-modified-id=\"Исследовательский-анализ-данных-(EDA)-5\"><span class=\"toc-item-num\">5&nbsp;&nbsp;</span>Исследовательский анализ данных (EDA)</a></span><ul class=\"toc-item\"><li><span><a href=\"#Общий-Анализ-данных-без-разбивки-по-оттоку:\" data-toc-modified-id=\"Общий-Анализ-данных-без-разбивки-по-оттоку:-5.1\"><span class=\"toc-item-num\">5.1&nbsp;&nbsp;</span>Общий Анализ данных без разбивки по оттоку:</a></span></li><li><span><a href=\"#Анализ-клиентов-с-низкой-зарплатой\" data-toc-modified-id=\"Анализ-клиентов-с-низкой-зарплатой-5.2\"><span class=\"toc-item-num\">5.2&nbsp;&nbsp;</span>Анализ клиентов с низкой зарплатой</a></span></li><li><span><a href=\"#Анализ-средних-и-медианных-значений-в-разбивке-по-оттоку\" data-toc-modified-id=\"Анализ-средних-и-медианных-значений-в-разбивке-по-оттоку-5.3\"><span class=\"toc-item-num\">5.3&nbsp;&nbsp;</span>Анализ средних и медианных значений в разбивке по оттоку</a></span></li><li><span><a href=\"#Визуализация-данных-в-разбивке-по-оттоку\" data-toc-modified-id=\"Визуализация-данных-в-разбивке-по-оттоку-5.4\"><span class=\"toc-item-num\">5.4&nbsp;&nbsp;</span>Визуализация данных в разбивке по оттоку</a></span></li><li><span><a href=\"#Корреляционный-анализ\" data-toc-modified-id=\"Корреляционный-анализ-5.5\"><span class=\"toc-item-num\">5.5&nbsp;&nbsp;</span>Корреляционный анализ</a></span></li></ul></li><li><span><a href=\"#Выделение-портрета-клиентов\" data-toc-modified-id=\"Выделение-портрета-клиентов-6\"><span class=\"toc-item-num\">6&nbsp;&nbsp;</span>Выделение портрета клиентов</a></span><ul class=\"toc-item\"><li><span><a href=\"#Портрет-клиентов,-склонных-к-уходу\" data-toc-modified-id=\"Портрет-клиентов,-склонных-к-уходу-6.1\"><span class=\"toc-item-num\">6.1&nbsp;&nbsp;</span>Портрет клиентов, склонных к уходу</a></span></li><li><span><a href=\"#Портрет-клиентов,-не-склонных-к-уходу\" data-toc-modified-id=\"Портрет-клиентов,-не-склонных-к-уходу-6.2\"><span class=\"toc-item-num\">6.2&nbsp;&nbsp;</span>Портрет клиентов, не склонных к уходу</a></span></li></ul></li><li><span><a href=\"#Формулировка-и-проверка-гипотез\" data-toc-modified-id=\"Формулировка-и-проверка-гипотез-7\"><span class=\"toc-item-num\">7&nbsp;&nbsp;</span>Формулировка и проверка гипотез</a></span><ul class=\"toc-item\"><li><span><a href=\"#Гипотеза-о-различии-доходов-между-двумя-группами-(отток-и-оставшиеся-клиенты)\" data-toc-modified-id=\"Гипотеза-о-различии-доходов-между-двумя-группами-(отток-и-оставшиеся-клиенты)-7.1\"><span class=\"toc-item-num\">7.1&nbsp;&nbsp;</span>Гипотеза о различии доходов между двумя группами (отток и оставшиеся клиенты)</a></span></li><li><span><a href=\"#Гипотеза-о-различии-в-возрасте-между-двумя-группами-(отток-и-оставшиеся-клиенты)\" data-toc-modified-id=\"Гипотеза-о-различии-в-возрасте-между-двумя-группами-(отток-и-оставшиеся-клиенты)-7.2\"><span class=\"toc-item-num\">7.2&nbsp;&nbsp;</span>Гипотеза о различии в возрасте между двумя группами (отток и оставшиеся клиенты)</a></span></li></ul></li><li><span><a href=\"#Общие-выводы-и-рекомендации\" data-toc-modified-id=\"Общие-выводы-и-рекомендации-8\"><span class=\"toc-item-num\">8&nbsp;&nbsp;</span>Общие выводы и рекомендации</a></span></li></ul></div>"
   ]
  },
  {
   "cell_type": "markdown",
   "metadata": {},
   "source": [
    "## Материалы"
   ]
  },
  {
   "cell_type": "markdown",
   "metadata": {},
   "source": [
    "**Ссылка на презентацию:**    https://drive.google.com/file/d/175fDGKoG81VnH8nJMTJT0gROghhfMEN7/view?usp=drivesdk  \n",
    "**Дашборд:** https://public.tableau.com/app/profile/vitalik6380/viz/MetanPromDashboard_16651662943660/Dashboard1"
   ]
  },
  {
   "cell_type": "markdown",
   "metadata": {},
   "source": [
    "## Описание проекта:"
   ]
  },
  {
   "cell_type": "markdown",
   "metadata": {},
   "source": [
    "**Цель проекта**  - сформировать конкретные предложения по работе с различными сегментами клиентами в оттоке, предложив им условия / продукты / акции, которые помогут их удержать (помогут уменьшить отток).\n",
    "\n",
    "Для достижения цели выполним следующие\n",
    "**Задачи проекта**:\n",
    "\n",
    "- Проанализировать клиентов банка и выделить портрет клиентов, которые склонны уходить из банка.\n",
    "- Анализ основных параметров, наиболее сильно влияющих на отток;\n",
    "- Проверить статистические гипотезы о влиянии основных параметров на вероятность оттока клиентов.\n",
    "- Дать рекомендации об изменении/разработке новых продуктов для возврата клиентов в оттоке и привлечения новых:\n",
    "   - выделение целевых групп клиентов;\n",
    "   - предложение мер по снижению оттока;\n",
    "   - определение других особенностей взаимодействия с клиентами."
   ]
  },
  {
   "cell_type": "markdown",
   "metadata": {},
   "source": [
    "**Описание данных:**\n",
    "\n",
    "Датасет содержит данные о клиентах банка «Метанпром». Банк располагается в Ярославле и областных городах: Ростов Великий и Рыбинск.     \n",
    "Колонки:\n",
    "\n",
    "`userid` — идентификатор пользователя,    \n",
    "`score` — баллы кредитного скоринга,    \n",
    "`City` — город,     \n",
    "`Gender` — пол,    \n",
    "`Age` — возраст,    \n",
    "`Objects` — количество объектов в собственности,     \n",
    "`Balance` — баланс на счёте,    \n",
    "`Products` — количество продуктов, которыми пользуется клиент,     \n",
    "`CreditCard` — есть ли кредитная карта,    \n",
    "`Loyalty` — активный клиент,    \n",
    "`estimated_salary` — заработная плата клиента,    \n",
    "`Churn` — ушёл или нет. (1 - отток / 0 - клиент остался)    "
   ]
  },
  {
   "cell_type": "markdown",
   "metadata": {},
   "source": [
    "## Загрузка / Изучение данных"
   ]
  },
  {
   "cell_type": "markdown",
   "metadata": {},
   "source": [
    "Импорт библиотек"
   ]
  },
  {
   "cell_type": "code",
   "execution_count": 1,
   "metadata": {},
   "outputs": [],
   "source": [
    "import pandas as pd\n",
    "import numpy as np\n",
    "import seaborn as sns\n",
    "import matplotlib\n",
    "import matplotlib.pyplot as plt\n",
    "from scipy import stats as st\n",
    "\n",
    "import warnings\n",
    "warnings.filterwarnings('ignore')\n",
    "pd.set_option('display.max_columns', None)\n",
    "pd.options.display.float_format = '{:,.2f}'.format\n",
    "\n",
    "sns.set_theme(style=\"darkgrid\")\n",
    "sns.set_palette(['orange', 'blue'])"
   ]
  },
  {
   "cell_type": "markdown",
   "metadata": {},
   "source": [
    "Загрузим датасет:"
   ]
  },
  {
   "cell_type": "code",
   "execution_count": 2,
   "metadata": {},
   "outputs": [
    {
     "data": {
      "text/html": [
       "<div>\n",
       "<style scoped>\n",
       "    .dataframe tbody tr th:only-of-type {\n",
       "        vertical-align: middle;\n",
       "    }\n",
       "\n",
       "    .dataframe tbody tr th {\n",
       "        vertical-align: top;\n",
       "    }\n",
       "\n",
       "    .dataframe thead th {\n",
       "        text-align: right;\n",
       "    }\n",
       "</style>\n",
       "<table border=\"1\" class=\"dataframe\">\n",
       "  <thead>\n",
       "    <tr style=\"text-align: right;\">\n",
       "      <th></th>\n",
       "      <th>userid</th>\n",
       "      <th>score</th>\n",
       "      <th>City</th>\n",
       "      <th>Gender</th>\n",
       "      <th>Age</th>\n",
       "      <th>Objects</th>\n",
       "      <th>Balance</th>\n",
       "      <th>Products</th>\n",
       "      <th>CreditCard</th>\n",
       "      <th>Loyalty</th>\n",
       "      <th>estimated_salary</th>\n",
       "      <th>Churn</th>\n",
       "    </tr>\n",
       "  </thead>\n",
       "  <tbody>\n",
       "    <tr>\n",
       "      <th>0</th>\n",
       "      <td>15677338</td>\n",
       "      <td>619</td>\n",
       "      <td>Ярославль</td>\n",
       "      <td>Ж</td>\n",
       "      <td>42</td>\n",
       "      <td>2</td>\n",
       "      <td>NaN</td>\n",
       "      <td>1</td>\n",
       "      <td>1</td>\n",
       "      <td>1</td>\n",
       "      <td>101,348.88</td>\n",
       "      <td>1</td>\n",
       "    </tr>\n",
       "    <tr>\n",
       "      <th>1</th>\n",
       "      <td>15690047</td>\n",
       "      <td>608</td>\n",
       "      <td>Рыбинск</td>\n",
       "      <td>Ж</td>\n",
       "      <td>41</td>\n",
       "      <td>1</td>\n",
       "      <td>83,807.86</td>\n",
       "      <td>1</td>\n",
       "      <td>0</td>\n",
       "      <td>1</td>\n",
       "      <td>112,542.58</td>\n",
       "      <td>0</td>\n",
       "    </tr>\n",
       "    <tr>\n",
       "      <th>2</th>\n",
       "      <td>15662040</td>\n",
       "      <td>502</td>\n",
       "      <td>Ярославль</td>\n",
       "      <td>Ж</td>\n",
       "      <td>42</td>\n",
       "      <td>8</td>\n",
       "      <td>159,660.80</td>\n",
       "      <td>3</td>\n",
       "      <td>1</td>\n",
       "      <td>0</td>\n",
       "      <td>113,931.57</td>\n",
       "      <td>1</td>\n",
       "    </tr>\n",
       "    <tr>\n",
       "      <th>3</th>\n",
       "      <td>15744090</td>\n",
       "      <td>699</td>\n",
       "      <td>Ярославль</td>\n",
       "      <td>Ж</td>\n",
       "      <td>39</td>\n",
       "      <td>1</td>\n",
       "      <td>NaN</td>\n",
       "      <td>2</td>\n",
       "      <td>0</td>\n",
       "      <td>0</td>\n",
       "      <td>93,826.63</td>\n",
       "      <td>0</td>\n",
       "    </tr>\n",
       "    <tr>\n",
       "      <th>4</th>\n",
       "      <td>15780624</td>\n",
       "      <td>850</td>\n",
       "      <td>Рыбинск</td>\n",
       "      <td>Ж</td>\n",
       "      <td>43</td>\n",
       "      <td>2</td>\n",
       "      <td>125,510.82</td>\n",
       "      <td>1</td>\n",
       "      <td>1</td>\n",
       "      <td>1</td>\n",
       "      <td>79,084.10</td>\n",
       "      <td>0</td>\n",
       "    </tr>\n",
       "    <tr>\n",
       "      <th>...</th>\n",
       "      <td>...</td>\n",
       "      <td>...</td>\n",
       "      <td>...</td>\n",
       "      <td>...</td>\n",
       "      <td>...</td>\n",
       "      <td>...</td>\n",
       "      <td>...</td>\n",
       "      <td>...</td>\n",
       "      <td>...</td>\n",
       "      <td>...</td>\n",
       "      <td>...</td>\n",
       "      <td>...</td>\n",
       "    </tr>\n",
       "    <tr>\n",
       "      <th>9995</th>\n",
       "      <td>15648965</td>\n",
       "      <td>771</td>\n",
       "      <td>Ярославль</td>\n",
       "      <td>М</td>\n",
       "      <td>39</td>\n",
       "      <td>5</td>\n",
       "      <td>NaN</td>\n",
       "      <td>2</td>\n",
       "      <td>1</td>\n",
       "      <td>0</td>\n",
       "      <td>96,270.64</td>\n",
       "      <td>0</td>\n",
       "    </tr>\n",
       "    <tr>\n",
       "      <th>9996</th>\n",
       "      <td>15612628</td>\n",
       "      <td>516</td>\n",
       "      <td>Ярославль</td>\n",
       "      <td>М</td>\n",
       "      <td>35</td>\n",
       "      <td>10</td>\n",
       "      <td>57,369.61</td>\n",
       "      <td>1</td>\n",
       "      <td>1</td>\n",
       "      <td>1</td>\n",
       "      <td>101,699.77</td>\n",
       "      <td>0</td>\n",
       "    </tr>\n",
       "    <tr>\n",
       "      <th>9997</th>\n",
       "      <td>15627268</td>\n",
       "      <td>709</td>\n",
       "      <td>Ярославль</td>\n",
       "      <td>Ж</td>\n",
       "      <td>36</td>\n",
       "      <td>7</td>\n",
       "      <td>NaN</td>\n",
       "      <td>1</td>\n",
       "      <td>0</td>\n",
       "      <td>1</td>\n",
       "      <td>42,085.58</td>\n",
       "      <td>1</td>\n",
       "    </tr>\n",
       "    <tr>\n",
       "      <th>9998</th>\n",
       "      <td>15725091</td>\n",
       "      <td>772</td>\n",
       "      <td>Ростов Великий</td>\n",
       "      <td>М</td>\n",
       "      <td>42</td>\n",
       "      <td>3</td>\n",
       "      <td>75,075.31</td>\n",
       "      <td>2</td>\n",
       "      <td>1</td>\n",
       "      <td>0</td>\n",
       "      <td>92,888.52</td>\n",
       "      <td>1</td>\n",
       "    </tr>\n",
       "    <tr>\n",
       "      <th>9999</th>\n",
       "      <td>15671055</td>\n",
       "      <td>792</td>\n",
       "      <td>Ярославль</td>\n",
       "      <td>Ж</td>\n",
       "      <td>28</td>\n",
       "      <td>4</td>\n",
       "      <td>130,142.79</td>\n",
       "      <td>1</td>\n",
       "      <td>1</td>\n",
       "      <td>0</td>\n",
       "      <td>38,190.78</td>\n",
       "      <td>0</td>\n",
       "    </tr>\n",
       "  </tbody>\n",
       "</table>\n",
       "<p>10000 rows × 12 columns</p>\n",
       "</div>"
      ],
      "text/plain": [
       "        userid  score            City Gender  Age  Objects    Balance  \\\n",
       "0     15677338    619       Ярославль      Ж   42        2        NaN   \n",
       "1     15690047    608         Рыбинск      Ж   41        1  83,807.86   \n",
       "2     15662040    502       Ярославль      Ж   42        8 159,660.80   \n",
       "3     15744090    699       Ярославль      Ж   39        1        NaN   \n",
       "4     15780624    850         Рыбинск      Ж   43        2 125,510.82   \n",
       "...        ...    ...             ...    ...  ...      ...        ...   \n",
       "9995  15648965    771       Ярославль      М   39        5        NaN   \n",
       "9996  15612628    516       Ярославль      М   35       10  57,369.61   \n",
       "9997  15627268    709       Ярославль      Ж   36        7        NaN   \n",
       "9998  15725091    772  Ростов Великий      М   42        3  75,075.31   \n",
       "9999  15671055    792       Ярославль      Ж   28        4 130,142.79   \n",
       "\n",
       "      Products  CreditCard  Loyalty  estimated_salary  Churn  \n",
       "0            1           1        1        101,348.88      1  \n",
       "1            1           0        1        112,542.58      0  \n",
       "2            3           1        0        113,931.57      1  \n",
       "3            2           0        0         93,826.63      0  \n",
       "4            1           1        1         79,084.10      0  \n",
       "...        ...         ...      ...               ...    ...  \n",
       "9995         2           1        0         96,270.64      0  \n",
       "9996         1           1        1        101,699.77      0  \n",
       "9997         1           0        1         42,085.58      1  \n",
       "9998         2           1        0         92,888.52      1  \n",
       "9999         1           1        0         38,190.78      0  \n",
       "\n",
       "[10000 rows x 12 columns]"
      ]
     },
     "execution_count": 2,
     "metadata": {},
     "output_type": "execute_result"
    }
   ],
   "source": [
    "data = pd.read_csv('/datasets/bank_dataset.csv')\n",
    "data"
   ]
  },
  {
   "cell_type": "markdown",
   "metadata": {},
   "source": [
    "Рассмотрим основную информацию"
   ]
  },
  {
   "cell_type": "code",
   "execution_count": 3,
   "metadata": {},
   "outputs": [
    {
     "name": "stdout",
     "output_type": "stream",
     "text": [
      "<class 'pandas.core.frame.DataFrame'>\n",
      "RangeIndex: 10000 entries, 0 to 9999\n",
      "Data columns (total 12 columns):\n",
      " #   Column            Non-Null Count  Dtype  \n",
      "---  ------            --------------  -----  \n",
      " 0   userid            10000 non-null  int64  \n",
      " 1   score             10000 non-null  int64  \n",
      " 2   City              10000 non-null  object \n",
      " 3   Gender            10000 non-null  object \n",
      " 4   Age               10000 non-null  int64  \n",
      " 5   Objects           10000 non-null  int64  \n",
      " 6   Balance           6383 non-null   float64\n",
      " 7   Products          10000 non-null  int64  \n",
      " 8   CreditCard        10000 non-null  int64  \n",
      " 9   Loyalty           10000 non-null  int64  \n",
      " 10  estimated_salary  10000 non-null  float64\n",
      " 11  Churn             10000 non-null  int64  \n",
      "dtypes: float64(2), int64(8), object(2)\n",
      "memory usage: 937.6+ KB\n",
      "\n",
      "Количество дублей: 0\n",
      "Количество уникальных пользователей: 10000\n"
     ]
    },
    {
     "data": {
      "text/plain": [
       "userid                 0\n",
       "score                  0\n",
       "City                   0\n",
       "Gender                 0\n",
       "Age                    0\n",
       "Objects                0\n",
       "Balance             3617\n",
       "Products               0\n",
       "CreditCard             0\n",
       "Loyalty                0\n",
       "estimated_salary       0\n",
       "Churn                  0\n",
       "dtype: int64"
      ]
     },
     "execution_count": 3,
     "metadata": {},
     "output_type": "execute_result"
    }
   ],
   "source": [
    "data.info()\n",
    "print()\n",
    "print('Количество дублей:', data.duplicated().sum())\n",
    "print('Количество уникальных пользователей:',len(data['userid'].unique()))\n",
    "data.isna().sum()"
   ]
  },
  {
   "cell_type": "markdown",
   "metadata": {},
   "source": [
    "**Выводы / Наблюдения:**\n",
    "- имеем датасет 10 000 строк / 11 столбцов\n",
    "- типы данных вполне корректны\n",
    "- полных дубликатов строк нет\n",
    "- в столбце Balance (остаток денежных средств на счете) 3617 пропусков (NaN) - что составляет 36,17 % от общего числа."
   ]
  },
  {
   "cell_type": "markdown",
   "metadata": {},
   "source": [
    "## Предобработка данных"
   ]
  },
  {
   "cell_type": "markdown",
   "metadata": {},
   "source": [
    "Подготовим предоставленные данные к дальнейшему анализу     \n",
    "Приведем названия столбцов к нижнему регистру и переименуем для дальнейшего удобства:"
   ]
  },
  {
   "cell_type": "code",
   "execution_count": 4,
   "metadata": {},
   "outputs": [
    {
     "data": {
      "text/html": [
       "<div>\n",
       "<style scoped>\n",
       "    .dataframe tbody tr th:only-of-type {\n",
       "        vertical-align: middle;\n",
       "    }\n",
       "\n",
       "    .dataframe tbody tr th {\n",
       "        vertical-align: top;\n",
       "    }\n",
       "\n",
       "    .dataframe thead th {\n",
       "        text-align: right;\n",
       "    }\n",
       "</style>\n",
       "<table border=\"1\" class=\"dataframe\">\n",
       "  <thead>\n",
       "    <tr style=\"text-align: right;\">\n",
       "      <th></th>\n",
       "      <th>user_id</th>\n",
       "      <th>score</th>\n",
       "      <th>city</th>\n",
       "      <th>gender</th>\n",
       "      <th>age</th>\n",
       "      <th>objects</th>\n",
       "      <th>balance</th>\n",
       "      <th>products</th>\n",
       "      <th>credit_card</th>\n",
       "      <th>loyalty</th>\n",
       "      <th>estimated_salary</th>\n",
       "      <th>churn</th>\n",
       "    </tr>\n",
       "  </thead>\n",
       "  <tbody>\n",
       "    <tr>\n",
       "      <th>0</th>\n",
       "      <td>15677338</td>\n",
       "      <td>619</td>\n",
       "      <td>Ярославль</td>\n",
       "      <td>Ж</td>\n",
       "      <td>42</td>\n",
       "      <td>2</td>\n",
       "      <td>NaN</td>\n",
       "      <td>1</td>\n",
       "      <td>1</td>\n",
       "      <td>1</td>\n",
       "      <td>101,348.88</td>\n",
       "      <td>1</td>\n",
       "    </tr>\n",
       "    <tr>\n",
       "      <th>1</th>\n",
       "      <td>15690047</td>\n",
       "      <td>608</td>\n",
       "      <td>Рыбинск</td>\n",
       "      <td>Ж</td>\n",
       "      <td>41</td>\n",
       "      <td>1</td>\n",
       "      <td>83,807.86</td>\n",
       "      <td>1</td>\n",
       "      <td>0</td>\n",
       "      <td>1</td>\n",
       "      <td>112,542.58</td>\n",
       "      <td>0</td>\n",
       "    </tr>\n",
       "    <tr>\n",
       "      <th>2</th>\n",
       "      <td>15662040</td>\n",
       "      <td>502</td>\n",
       "      <td>Ярославль</td>\n",
       "      <td>Ж</td>\n",
       "      <td>42</td>\n",
       "      <td>8</td>\n",
       "      <td>159,660.80</td>\n",
       "      <td>3</td>\n",
       "      <td>1</td>\n",
       "      <td>0</td>\n",
       "      <td>113,931.57</td>\n",
       "      <td>1</td>\n",
       "    </tr>\n",
       "    <tr>\n",
       "      <th>3</th>\n",
       "      <td>15744090</td>\n",
       "      <td>699</td>\n",
       "      <td>Ярославль</td>\n",
       "      <td>Ж</td>\n",
       "      <td>39</td>\n",
       "      <td>1</td>\n",
       "      <td>NaN</td>\n",
       "      <td>2</td>\n",
       "      <td>0</td>\n",
       "      <td>0</td>\n",
       "      <td>93,826.63</td>\n",
       "      <td>0</td>\n",
       "    </tr>\n",
       "    <tr>\n",
       "      <th>4</th>\n",
       "      <td>15780624</td>\n",
       "      <td>850</td>\n",
       "      <td>Рыбинск</td>\n",
       "      <td>Ж</td>\n",
       "      <td>43</td>\n",
       "      <td>2</td>\n",
       "      <td>125,510.82</td>\n",
       "      <td>1</td>\n",
       "      <td>1</td>\n",
       "      <td>1</td>\n",
       "      <td>79,084.10</td>\n",
       "      <td>0</td>\n",
       "    </tr>\n",
       "    <tr>\n",
       "      <th>...</th>\n",
       "      <td>...</td>\n",
       "      <td>...</td>\n",
       "      <td>...</td>\n",
       "      <td>...</td>\n",
       "      <td>...</td>\n",
       "      <td>...</td>\n",
       "      <td>...</td>\n",
       "      <td>...</td>\n",
       "      <td>...</td>\n",
       "      <td>...</td>\n",
       "      <td>...</td>\n",
       "      <td>...</td>\n",
       "    </tr>\n",
       "    <tr>\n",
       "      <th>9995</th>\n",
       "      <td>15648965</td>\n",
       "      <td>771</td>\n",
       "      <td>Ярославль</td>\n",
       "      <td>М</td>\n",
       "      <td>39</td>\n",
       "      <td>5</td>\n",
       "      <td>NaN</td>\n",
       "      <td>2</td>\n",
       "      <td>1</td>\n",
       "      <td>0</td>\n",
       "      <td>96,270.64</td>\n",
       "      <td>0</td>\n",
       "    </tr>\n",
       "    <tr>\n",
       "      <th>9996</th>\n",
       "      <td>15612628</td>\n",
       "      <td>516</td>\n",
       "      <td>Ярославль</td>\n",
       "      <td>М</td>\n",
       "      <td>35</td>\n",
       "      <td>10</td>\n",
       "      <td>57,369.61</td>\n",
       "      <td>1</td>\n",
       "      <td>1</td>\n",
       "      <td>1</td>\n",
       "      <td>101,699.77</td>\n",
       "      <td>0</td>\n",
       "    </tr>\n",
       "    <tr>\n",
       "      <th>9997</th>\n",
       "      <td>15627268</td>\n",
       "      <td>709</td>\n",
       "      <td>Ярославль</td>\n",
       "      <td>Ж</td>\n",
       "      <td>36</td>\n",
       "      <td>7</td>\n",
       "      <td>NaN</td>\n",
       "      <td>1</td>\n",
       "      <td>0</td>\n",
       "      <td>1</td>\n",
       "      <td>42,085.58</td>\n",
       "      <td>1</td>\n",
       "    </tr>\n",
       "    <tr>\n",
       "      <th>9998</th>\n",
       "      <td>15725091</td>\n",
       "      <td>772</td>\n",
       "      <td>Ростов Великий</td>\n",
       "      <td>М</td>\n",
       "      <td>42</td>\n",
       "      <td>3</td>\n",
       "      <td>75,075.31</td>\n",
       "      <td>2</td>\n",
       "      <td>1</td>\n",
       "      <td>0</td>\n",
       "      <td>92,888.52</td>\n",
       "      <td>1</td>\n",
       "    </tr>\n",
       "    <tr>\n",
       "      <th>9999</th>\n",
       "      <td>15671055</td>\n",
       "      <td>792</td>\n",
       "      <td>Ярославль</td>\n",
       "      <td>Ж</td>\n",
       "      <td>28</td>\n",
       "      <td>4</td>\n",
       "      <td>130,142.79</td>\n",
       "      <td>1</td>\n",
       "      <td>1</td>\n",
       "      <td>0</td>\n",
       "      <td>38,190.78</td>\n",
       "      <td>0</td>\n",
       "    </tr>\n",
       "  </tbody>\n",
       "</table>\n",
       "<p>10000 rows × 12 columns</p>\n",
       "</div>"
      ],
      "text/plain": [
       "       user_id  score            city gender  age  objects    balance  \\\n",
       "0     15677338    619       Ярославль      Ж   42        2        NaN   \n",
       "1     15690047    608         Рыбинск      Ж   41        1  83,807.86   \n",
       "2     15662040    502       Ярославль      Ж   42        8 159,660.80   \n",
       "3     15744090    699       Ярославль      Ж   39        1        NaN   \n",
       "4     15780624    850         Рыбинск      Ж   43        2 125,510.82   \n",
       "...        ...    ...             ...    ...  ...      ...        ...   \n",
       "9995  15648965    771       Ярославль      М   39        5        NaN   \n",
       "9996  15612628    516       Ярославль      М   35       10  57,369.61   \n",
       "9997  15627268    709       Ярославль      Ж   36        7        NaN   \n",
       "9998  15725091    772  Ростов Великий      М   42        3  75,075.31   \n",
       "9999  15671055    792       Ярославль      Ж   28        4 130,142.79   \n",
       "\n",
       "      products  credit_card  loyalty  estimated_salary  churn  \n",
       "0            1            1        1        101,348.88      1  \n",
       "1            1            0        1        112,542.58      0  \n",
       "2            3            1        0        113,931.57      1  \n",
       "3            2            0        0         93,826.63      0  \n",
       "4            1            1        1         79,084.10      0  \n",
       "...        ...          ...      ...               ...    ...  \n",
       "9995         2            1        0         96,270.64      0  \n",
       "9996         1            1        1        101,699.77      0  \n",
       "9997         1            0        1         42,085.58      1  \n",
       "9998         2            1        0         92,888.52      1  \n",
       "9999         1            1        0         38,190.78      0  \n",
       "\n",
       "[10000 rows x 12 columns]"
      ]
     },
     "execution_count": 4,
     "metadata": {},
     "output_type": "execute_result"
    }
   ],
   "source": [
    "data.columns = data.columns.str.lower()\n",
    "data = data.rename(columns = {'userid':'user_id','creditcard':'credit_card'})\n",
    "data"
   ]
  },
  {
   "cell_type": "markdown",
   "metadata": {},
   "source": [
    "Посмотрим аномалии:"
   ]
  },
  {
   "cell_type": "code",
   "execution_count": 5,
   "metadata": {},
   "outputs": [
    {
     "data": {
      "text/html": [
       "<div>\n",
       "<style scoped>\n",
       "    .dataframe tbody tr th:only-of-type {\n",
       "        vertical-align: middle;\n",
       "    }\n",
       "\n",
       "    .dataframe tbody tr th {\n",
       "        vertical-align: top;\n",
       "    }\n",
       "\n",
       "    .dataframe thead th {\n",
       "        text-align: right;\n",
       "    }\n",
       "</style>\n",
       "<table border=\"1\" class=\"dataframe\">\n",
       "  <thead>\n",
       "    <tr style=\"text-align: right;\">\n",
       "      <th></th>\n",
       "      <th>user_id</th>\n",
       "      <th>score</th>\n",
       "      <th>age</th>\n",
       "      <th>objects</th>\n",
       "      <th>balance</th>\n",
       "      <th>products</th>\n",
       "      <th>credit_card</th>\n",
       "      <th>loyalty</th>\n",
       "      <th>estimated_salary</th>\n",
       "      <th>churn</th>\n",
       "    </tr>\n",
       "  </thead>\n",
       "  <tbody>\n",
       "    <tr>\n",
       "      <th>count</th>\n",
       "      <td>10,000.00</td>\n",
       "      <td>10,000.00</td>\n",
       "      <td>10,000.00</td>\n",
       "      <td>10,000.00</td>\n",
       "      <td>6,383.00</td>\n",
       "      <td>10,000.00</td>\n",
       "      <td>10,000.00</td>\n",
       "      <td>10,000.00</td>\n",
       "      <td>10,000.00</td>\n",
       "      <td>10,000.00</td>\n",
       "    </tr>\n",
       "    <tr>\n",
       "      <th>mean</th>\n",
       "      <td>15,733,676.57</td>\n",
       "      <td>650.53</td>\n",
       "      <td>38.92</td>\n",
       "      <td>5.01</td>\n",
       "      <td>119,827.49</td>\n",
       "      <td>1.53</td>\n",
       "      <td>0.71</td>\n",
       "      <td>0.52</td>\n",
       "      <td>100,090.24</td>\n",
       "      <td>0.20</td>\n",
       "    </tr>\n",
       "    <tr>\n",
       "      <th>std</th>\n",
       "      <td>71,936.19</td>\n",
       "      <td>96.65</td>\n",
       "      <td>10.49</td>\n",
       "      <td>2.89</td>\n",
       "      <td>30,095.06</td>\n",
       "      <td>0.58</td>\n",
       "      <td>0.46</td>\n",
       "      <td>0.50</td>\n",
       "      <td>57,510.49</td>\n",
       "      <td>0.40</td>\n",
       "    </tr>\n",
       "    <tr>\n",
       "      <th>min</th>\n",
       "      <td>15,608,437.00</td>\n",
       "      <td>350.00</td>\n",
       "      <td>18.00</td>\n",
       "      <td>0.00</td>\n",
       "      <td>3,768.69</td>\n",
       "      <td>1.00</td>\n",
       "      <td>0.00</td>\n",
       "      <td>0.00</td>\n",
       "      <td>11.58</td>\n",
       "      <td>0.00</td>\n",
       "    </tr>\n",
       "    <tr>\n",
       "      <th>25%</th>\n",
       "      <td>15,671,264.25</td>\n",
       "      <td>584.00</td>\n",
       "      <td>32.00</td>\n",
       "      <td>3.00</td>\n",
       "      <td>100,181.98</td>\n",
       "      <td>1.00</td>\n",
       "      <td>0.00</td>\n",
       "      <td>0.00</td>\n",
       "      <td>51,002.11</td>\n",
       "      <td>0.00</td>\n",
       "    </tr>\n",
       "    <tr>\n",
       "      <th>50%</th>\n",
       "      <td>15,733,474.00</td>\n",
       "      <td>652.00</td>\n",
       "      <td>37.00</td>\n",
       "      <td>5.00</td>\n",
       "      <td>119,839.69</td>\n",
       "      <td>1.00</td>\n",
       "      <td>1.00</td>\n",
       "      <td>1.00</td>\n",
       "      <td>100,193.91</td>\n",
       "      <td>0.00</td>\n",
       "    </tr>\n",
       "    <tr>\n",
       "      <th>75%</th>\n",
       "      <td>15,795,969.75</td>\n",
       "      <td>718.00</td>\n",
       "      <td>44.00</td>\n",
       "      <td>7.00</td>\n",
       "      <td>139,512.29</td>\n",
       "      <td>2.00</td>\n",
       "      <td>1.00</td>\n",
       "      <td>1.00</td>\n",
       "      <td>149,388.25</td>\n",
       "      <td>0.00</td>\n",
       "    </tr>\n",
       "    <tr>\n",
       "      <th>max</th>\n",
       "      <td>15,858,426.00</td>\n",
       "      <td>850.00</td>\n",
       "      <td>92.00</td>\n",
       "      <td>10.00</td>\n",
       "      <td>250,898.09</td>\n",
       "      <td>4.00</td>\n",
       "      <td>1.00</td>\n",
       "      <td>1.00</td>\n",
       "      <td>199,992.48</td>\n",
       "      <td>1.00</td>\n",
       "    </tr>\n",
       "  </tbody>\n",
       "</table>\n",
       "</div>"
      ],
      "text/plain": [
       "            user_id     score       age   objects    balance  products  \\\n",
       "count     10,000.00 10,000.00 10,000.00 10,000.00   6,383.00 10,000.00   \n",
       "mean  15,733,676.57    650.53     38.92      5.01 119,827.49      1.53   \n",
       "std       71,936.19     96.65     10.49      2.89  30,095.06      0.58   \n",
       "min   15,608,437.00    350.00     18.00      0.00   3,768.69      1.00   \n",
       "25%   15,671,264.25    584.00     32.00      3.00 100,181.98      1.00   \n",
       "50%   15,733,474.00    652.00     37.00      5.00 119,839.69      1.00   \n",
       "75%   15,795,969.75    718.00     44.00      7.00 139,512.29      2.00   \n",
       "max   15,858,426.00    850.00     92.00     10.00 250,898.09      4.00   \n",
       "\n",
       "       credit_card   loyalty  estimated_salary     churn  \n",
       "count    10,000.00 10,000.00         10,000.00 10,000.00  \n",
       "mean          0.71      0.52        100,090.24      0.20  \n",
       "std           0.46      0.50         57,510.49      0.40  \n",
       "min           0.00      0.00             11.58      0.00  \n",
       "25%           0.00      0.00         51,002.11      0.00  \n",
       "50%           1.00      1.00        100,193.91      0.00  \n",
       "75%           1.00      1.00        149,388.25      0.00  \n",
       "max           1.00      1.00        199,992.48      1.00  "
      ]
     },
     "execution_count": 5,
     "metadata": {},
     "output_type": "execute_result"
    }
   ],
   "source": [
    "data.describe()"
   ]
  },
  {
   "cell_type": "markdown",
   "metadata": {},
   "source": [
    "В целом средние показатели близки к медианным - крупных выбросов / аномальных  значений предварительно не наблюдается, \n",
    "кроме минимальной зарплаты (11,58) - вероятно тех. ошибка при внесении данных (забыли 000 добавить)."
   ]
  },
  {
   "cell_type": "markdown",
   "metadata": {},
   "source": [
    "Обработка пропусков в столбце Balance:"
   ]
  },
  {
   "cell_type": "code",
   "execution_count": 6,
   "metadata": {},
   "outputs": [
    {
     "name": "stdout",
     "output_type": "stream",
     "text": [
      "Min значение Balance: 3768.69\n",
      "Max значение Balance: 250898.09\n"
     ]
    }
   ],
   "source": [
    "print('Min значение Balance:',data['balance'].min())\n",
    "print('Max значение Balance:', data['balance'].max())"
   ]
  },
  {
   "cell_type": "markdown",
   "metadata": {},
   "source": [
    "Нулевого баланса не наблюдается. Минимальный  остаток 3768   \n",
    "Рассмотрим таблицу клиентов с пропущенными значениями подробнее:"
   ]
  },
  {
   "cell_type": "code",
   "execution_count": 7,
   "metadata": {},
   "outputs": [
    {
     "data": {
      "text/html": [
       "<div>\n",
       "<style scoped>\n",
       "    .dataframe tbody tr th:only-of-type {\n",
       "        vertical-align: middle;\n",
       "    }\n",
       "\n",
       "    .dataframe tbody tr th {\n",
       "        vertical-align: top;\n",
       "    }\n",
       "\n",
       "    .dataframe thead th {\n",
       "        text-align: right;\n",
       "    }\n",
       "</style>\n",
       "<table border=\"1\" class=\"dataframe\">\n",
       "  <thead>\n",
       "    <tr style=\"text-align: right;\">\n",
       "      <th></th>\n",
       "      <th>user_id</th>\n",
       "      <th>score</th>\n",
       "      <th>city</th>\n",
       "      <th>gender</th>\n",
       "      <th>age</th>\n",
       "      <th>objects</th>\n",
       "      <th>balance</th>\n",
       "      <th>products</th>\n",
       "      <th>credit_card</th>\n",
       "      <th>loyalty</th>\n",
       "      <th>estimated_salary</th>\n",
       "      <th>churn</th>\n",
       "    </tr>\n",
       "  </thead>\n",
       "  <tbody>\n",
       "    <tr>\n",
       "      <th>0</th>\n",
       "      <td>15677338</td>\n",
       "      <td>619</td>\n",
       "      <td>Ярославль</td>\n",
       "      <td>Ж</td>\n",
       "      <td>42</td>\n",
       "      <td>2</td>\n",
       "      <td>NaN</td>\n",
       "      <td>1</td>\n",
       "      <td>1</td>\n",
       "      <td>1</td>\n",
       "      <td>101,348.88</td>\n",
       "      <td>1</td>\n",
       "    </tr>\n",
       "    <tr>\n",
       "      <th>3</th>\n",
       "      <td>15744090</td>\n",
       "      <td>699</td>\n",
       "      <td>Ярославль</td>\n",
       "      <td>Ж</td>\n",
       "      <td>39</td>\n",
       "      <td>1</td>\n",
       "      <td>NaN</td>\n",
       "      <td>2</td>\n",
       "      <td>0</td>\n",
       "      <td>0</td>\n",
       "      <td>93,826.63</td>\n",
       "      <td>0</td>\n",
       "    </tr>\n",
       "    <tr>\n",
       "      <th>6</th>\n",
       "      <td>15635267</td>\n",
       "      <td>822</td>\n",
       "      <td>Ярославль</td>\n",
       "      <td>М</td>\n",
       "      <td>50</td>\n",
       "      <td>7</td>\n",
       "      <td>NaN</td>\n",
       "      <td>2</td>\n",
       "      <td>1</td>\n",
       "      <td>1</td>\n",
       "      <td>10,062.80</td>\n",
       "      <td>0</td>\n",
       "    </tr>\n",
       "    <tr>\n",
       "      <th>11</th>\n",
       "      <td>15779909</td>\n",
       "      <td>497</td>\n",
       "      <td>Рыбинск</td>\n",
       "      <td>М</td>\n",
       "      <td>24</td>\n",
       "      <td>3</td>\n",
       "      <td>NaN</td>\n",
       "      <td>2</td>\n",
       "      <td>1</td>\n",
       "      <td>0</td>\n",
       "      <td>76,390.01</td>\n",
       "      <td>0</td>\n",
       "    </tr>\n",
       "    <tr>\n",
       "      <th>12</th>\n",
       "      <td>15675000</td>\n",
       "      <td>476</td>\n",
       "      <td>Ярославль</td>\n",
       "      <td>Ж</td>\n",
       "      <td>34</td>\n",
       "      <td>10</td>\n",
       "      <td>NaN</td>\n",
       "      <td>2</td>\n",
       "      <td>1</td>\n",
       "      <td>0</td>\n",
       "      <td>26,260.98</td>\n",
       "      <td>0</td>\n",
       "    </tr>\n",
       "    <tr>\n",
       "      <th>...</th>\n",
       "      <td>...</td>\n",
       "      <td>...</td>\n",
       "      <td>...</td>\n",
       "      <td>...</td>\n",
       "      <td>...</td>\n",
       "      <td>...</td>\n",
       "      <td>...</td>\n",
       "      <td>...</td>\n",
       "      <td>...</td>\n",
       "      <td>...</td>\n",
       "      <td>...</td>\n",
       "      <td>...</td>\n",
       "    </tr>\n",
       "    <tr>\n",
       "      <th>9989</th>\n",
       "      <td>15648358</td>\n",
       "      <td>841</td>\n",
       "      <td>Рыбинск</td>\n",
       "      <td>М</td>\n",
       "      <td>28</td>\n",
       "      <td>4</td>\n",
       "      <td>NaN</td>\n",
       "      <td>2</td>\n",
       "      <td>1</td>\n",
       "      <td>1</td>\n",
       "      <td>179,436.60</td>\n",
       "      <td>0</td>\n",
       "    </tr>\n",
       "    <tr>\n",
       "      <th>9992</th>\n",
       "      <td>15699841</td>\n",
       "      <td>726</td>\n",
       "      <td>Рыбинск</td>\n",
       "      <td>М</td>\n",
       "      <td>36</td>\n",
       "      <td>2</td>\n",
       "      <td>NaN</td>\n",
       "      <td>1</td>\n",
       "      <td>1</td>\n",
       "      <td>0</td>\n",
       "      <td>195,192.40</td>\n",
       "      <td>0</td>\n",
       "    </tr>\n",
       "    <tr>\n",
       "      <th>9994</th>\n",
       "      <td>15762030</td>\n",
       "      <td>800</td>\n",
       "      <td>Ярославль</td>\n",
       "      <td>Ж</td>\n",
       "      <td>29</td>\n",
       "      <td>2</td>\n",
       "      <td>NaN</td>\n",
       "      <td>2</td>\n",
       "      <td>0</td>\n",
       "      <td>0</td>\n",
       "      <td>167,773.55</td>\n",
       "      <td>0</td>\n",
       "    </tr>\n",
       "    <tr>\n",
       "      <th>9995</th>\n",
       "      <td>15648965</td>\n",
       "      <td>771</td>\n",
       "      <td>Ярославль</td>\n",
       "      <td>М</td>\n",
       "      <td>39</td>\n",
       "      <td>5</td>\n",
       "      <td>NaN</td>\n",
       "      <td>2</td>\n",
       "      <td>1</td>\n",
       "      <td>0</td>\n",
       "      <td>96,270.64</td>\n",
       "      <td>0</td>\n",
       "    </tr>\n",
       "    <tr>\n",
       "      <th>9997</th>\n",
       "      <td>15627268</td>\n",
       "      <td>709</td>\n",
       "      <td>Ярославль</td>\n",
       "      <td>Ж</td>\n",
       "      <td>36</td>\n",
       "      <td>7</td>\n",
       "      <td>NaN</td>\n",
       "      <td>1</td>\n",
       "      <td>0</td>\n",
       "      <td>1</td>\n",
       "      <td>42,085.58</td>\n",
       "      <td>1</td>\n",
       "    </tr>\n",
       "  </tbody>\n",
       "</table>\n",
       "<p>3617 rows × 12 columns</p>\n",
       "</div>"
      ],
      "text/plain": [
       "       user_id  score       city gender  age  objects  balance  products  \\\n",
       "0     15677338    619  Ярославль      Ж   42        2      NaN         1   \n",
       "3     15744090    699  Ярославль      Ж   39        1      NaN         2   \n",
       "6     15635267    822  Ярославль      М   50        7      NaN         2   \n",
       "11    15779909    497    Рыбинск      М   24        3      NaN         2   \n",
       "12    15675000    476  Ярославль      Ж   34       10      NaN         2   \n",
       "...        ...    ...        ...    ...  ...      ...      ...       ...   \n",
       "9989  15648358    841    Рыбинск      М   28        4      NaN         2   \n",
       "9992  15699841    726    Рыбинск      М   36        2      NaN         1   \n",
       "9994  15762030    800  Ярославль      Ж   29        2      NaN         2   \n",
       "9995  15648965    771  Ярославль      М   39        5      NaN         2   \n",
       "9997  15627268    709  Ярославль      Ж   36        7      NaN         1   \n",
       "\n",
       "      credit_card  loyalty  estimated_salary  churn  \n",
       "0               1        1        101,348.88      1  \n",
       "3               0        0         93,826.63      0  \n",
       "6               1        1         10,062.80      0  \n",
       "11              1        0         76,390.01      0  \n",
       "12              1        0         26,260.98      0  \n",
       "...           ...      ...               ...    ...  \n",
       "9989            1        1        179,436.60      0  \n",
       "9992            1        0        195,192.40      0  \n",
       "9994            0        0        167,773.55      0  \n",
       "9995            1        0         96,270.64      0  \n",
       "9997            0        1         42,085.58      1  \n",
       "\n",
       "[3617 rows x 12 columns]"
      ]
     },
     "metadata": {},
     "output_type": "display_data"
    },
    {
     "data": {
      "text/html": [
       "<div>\n",
       "<style scoped>\n",
       "    .dataframe tbody tr th:only-of-type {\n",
       "        vertical-align: middle;\n",
       "    }\n",
       "\n",
       "    .dataframe tbody tr th {\n",
       "        vertical-align: top;\n",
       "    }\n",
       "\n",
       "    .dataframe thead th {\n",
       "        text-align: right;\n",
       "    }\n",
       "</style>\n",
       "<table border=\"1\" class=\"dataframe\">\n",
       "  <thead>\n",
       "    <tr style=\"text-align: right;\">\n",
       "      <th></th>\n",
       "      <th>user_id</th>\n",
       "      <th>score</th>\n",
       "      <th>age</th>\n",
       "      <th>objects</th>\n",
       "      <th>balance</th>\n",
       "      <th>products</th>\n",
       "      <th>credit_card</th>\n",
       "      <th>loyalty</th>\n",
       "      <th>estimated_salary</th>\n",
       "      <th>churn</th>\n",
       "    </tr>\n",
       "  </thead>\n",
       "  <tbody>\n",
       "    <tr>\n",
       "      <th>count</th>\n",
       "      <td>3,617.00</td>\n",
       "      <td>3,617.00</td>\n",
       "      <td>3,617.00</td>\n",
       "      <td>3,617.00</td>\n",
       "      <td>0.00</td>\n",
       "      <td>3,617.00</td>\n",
       "      <td>3,617.00</td>\n",
       "      <td>3,617.00</td>\n",
       "      <td>3,617.00</td>\n",
       "      <td>3,617.00</td>\n",
       "    </tr>\n",
       "    <tr>\n",
       "      <th>mean</th>\n",
       "      <td>15,734,685.59</td>\n",
       "      <td>649.45</td>\n",
       "      <td>38.43</td>\n",
       "      <td>5.07</td>\n",
       "      <td>NaN</td>\n",
       "      <td>1.78</td>\n",
       "      <td>0.72</td>\n",
       "      <td>0.52</td>\n",
       "      <td>98,983.56</td>\n",
       "      <td>0.14</td>\n",
       "    </tr>\n",
       "    <tr>\n",
       "      <th>std</th>\n",
       "      <td>71,947.49</td>\n",
       "      <td>96.16</td>\n",
       "      <td>10.49</td>\n",
       "      <td>2.86</td>\n",
       "      <td>NaN</td>\n",
       "      <td>0.50</td>\n",
       "      <td>0.45</td>\n",
       "      <td>0.50</td>\n",
       "      <td>57,730.83</td>\n",
       "      <td>0.35</td>\n",
       "    </tr>\n",
       "    <tr>\n",
       "      <th>min</th>\n",
       "      <td>15,608,442.00</td>\n",
       "      <td>350.00</td>\n",
       "      <td>18.00</td>\n",
       "      <td>0.00</td>\n",
       "      <td>NaN</td>\n",
       "      <td>1.00</td>\n",
       "      <td>0.00</td>\n",
       "      <td>0.00</td>\n",
       "      <td>90.07</td>\n",
       "      <td>0.00</td>\n",
       "    </tr>\n",
       "    <tr>\n",
       "      <th>25%</th>\n",
       "      <td>15,672,255.00</td>\n",
       "      <td>583.00</td>\n",
       "      <td>31.00</td>\n",
       "      <td>3.00</td>\n",
       "      <td>NaN</td>\n",
       "      <td>1.00</td>\n",
       "      <td>0.00</td>\n",
       "      <td>0.00</td>\n",
       "      <td>49,506.82</td>\n",
       "      <td>0.00</td>\n",
       "    </tr>\n",
       "    <tr>\n",
       "      <th>50%</th>\n",
       "      <td>15,736,083.00</td>\n",
       "      <td>651.00</td>\n",
       "      <td>37.00</td>\n",
       "      <td>5.00</td>\n",
       "      <td>NaN</td>\n",
       "      <td>2.00</td>\n",
       "      <td>1.00</td>\n",
       "      <td>1.00</td>\n",
       "      <td>98,618.79</td>\n",
       "      <td>0.00</td>\n",
       "    </tr>\n",
       "    <tr>\n",
       "      <th>75%</th>\n",
       "      <td>15,796,286.00</td>\n",
       "      <td>717.00</td>\n",
       "      <td>43.00</td>\n",
       "      <td>7.00</td>\n",
       "      <td>NaN</td>\n",
       "      <td>2.00</td>\n",
       "      <td>1.00</td>\n",
       "      <td>1.00</td>\n",
       "      <td>148,330.97</td>\n",
       "      <td>0.00</td>\n",
       "    </tr>\n",
       "    <tr>\n",
       "      <th>max</th>\n",
       "      <td>15,858,100.00</td>\n",
       "      <td>850.00</td>\n",
       "      <td>88.00</td>\n",
       "      <td>10.00</td>\n",
       "      <td>NaN</td>\n",
       "      <td>4.00</td>\n",
       "      <td>1.00</td>\n",
       "      <td>1.00</td>\n",
       "      <td>199,992.48</td>\n",
       "      <td>1.00</td>\n",
       "    </tr>\n",
       "  </tbody>\n",
       "</table>\n",
       "</div>"
      ],
      "text/plain": [
       "            user_id    score      age  objects  balance  products  \\\n",
       "count      3,617.00 3,617.00 3,617.00 3,617.00     0.00  3,617.00   \n",
       "mean  15,734,685.59   649.45    38.43     5.07      NaN      1.78   \n",
       "std       71,947.49    96.16    10.49     2.86      NaN      0.50   \n",
       "min   15,608,442.00   350.00    18.00     0.00      NaN      1.00   \n",
       "25%   15,672,255.00   583.00    31.00     3.00      NaN      1.00   \n",
       "50%   15,736,083.00   651.00    37.00     5.00      NaN      2.00   \n",
       "75%   15,796,286.00   717.00    43.00     7.00      NaN      2.00   \n",
       "max   15,858,100.00   850.00    88.00    10.00      NaN      4.00   \n",
       "\n",
       "       credit_card  loyalty  estimated_salary    churn  \n",
       "count     3,617.00 3,617.00          3,617.00 3,617.00  \n",
       "mean          0.72     0.52         98,983.56     0.14  \n",
       "std           0.45     0.50         57,730.83     0.35  \n",
       "min           0.00     0.00             90.07     0.00  \n",
       "25%           0.00     0.00         49,506.82     0.00  \n",
       "50%           1.00     1.00         98,618.79     0.00  \n",
       "75%           1.00     1.00        148,330.97     0.00  \n",
       "max           1.00     1.00        199,992.48     1.00  "
      ]
     },
     "execution_count": 7,
     "metadata": {},
     "output_type": "execute_result"
    }
   ],
   "source": [
    "data_nan = data[data['balance'].isna() == True]\n",
    "display(data_nan)\n",
    "data_nan.describe()"
   ]
  },
  {
   "cell_type": "code",
   "execution_count": 8,
   "metadata": {},
   "outputs": [
    {
     "data": {
      "text/plain": [
       "Ярославль    2418\n",
       "Рыбинск      1199\n",
       "Name: city, dtype: int64"
      ]
     },
     "metadata": {},
     "output_type": "display_data"
    },
    {
     "data": {
      "text/plain": [
       "М    1963\n",
       "Ж    1654\n",
       "Name: gender, dtype: int64"
      ]
     },
     "metadata": {},
     "output_type": "display_data"
    },
    {
     "data": {
      "text/plain": [
       "2    2600\n",
       "1     905\n",
       "3      98\n",
       "4      14\n",
       "Name: products, dtype: int64"
      ]
     },
     "metadata": {},
     "output_type": "display_data"
    },
    {
     "data": {
      "text/plain": [
       "1    2592\n",
       "0    1025\n",
       "Name: credit_card, dtype: int64"
      ]
     },
     "metadata": {},
     "output_type": "display_data"
    },
    {
     "data": {
      "text/plain": [
       "1    1873\n",
       "0    1744\n",
       "Name: loyalty, dtype: int64"
      ]
     },
     "metadata": {},
     "output_type": "display_data"
    },
    {
     "data": {
      "text/plain": [
       "0    3117\n",
       "1     500\n",
       "Name: churn, dtype: int64"
      ]
     },
     "metadata": {},
     "output_type": "display_data"
    }
   ],
   "source": [
    "for column in ['city', 'gender', 'products', 'credit_card', 'loyalty', 'churn']:\n",
    "    display (data_nan[column].value_counts())"
   ]
  },
  {
   "cell_type": "markdown",
   "metadata": {},
   "source": [
    "Рассмотрим процент пропущенных значений в разрезе значений категориальных параметров:"
   ]
  },
  {
   "cell_type": "code",
   "execution_count": 9,
   "metadata": {},
   "outputs": [
    {
     "data": {
      "text/plain": [
       "Ростов Великий    NaN\n",
       "Рыбинск          0.48\n",
       "Ярославль        0.48\n",
       "Name: city, dtype: float64"
      ]
     },
     "metadata": {},
     "output_type": "display_data"
    },
    {
     "data": {
      "text/plain": [
       "М   0.36\n",
       "Ж   0.36\n",
       "Name: gender, dtype: float64"
      ]
     },
     "metadata": {},
     "output_type": "display_data"
    },
    {
     "data": {
      "text/plain": [
       "0    0.33\n",
       "1    0.34\n",
       "2    0.36\n",
       "3    0.35\n",
       "4    0.37\n",
       "5    0.37\n",
       "6    0.38\n",
       "7    0.38\n",
       "8    0.35\n",
       "9    0.37\n",
       "10   0.36\n",
       "Name: objects, dtype: float64"
      ]
     },
     "metadata": {},
     "output_type": "display_data"
    },
    {
     "data": {
      "text/plain": [
       "1   0.18\n",
       "2   0.57\n",
       "3   0.37\n",
       "4   0.23\n",
       "Name: products, dtype: float64"
      ]
     },
     "metadata": {},
     "output_type": "display_data"
    },
    {
     "data": {
      "text/plain": [
       "1   0.37\n",
       "0   0.35\n",
       "Name: credit_card, dtype: float64"
      ]
     },
     "metadata": {},
     "output_type": "display_data"
    },
    {
     "data": {
      "text/plain": [
       "1   0.36\n",
       "0   0.36\n",
       "Name: loyalty, dtype: float64"
      ]
     },
     "metadata": {},
     "output_type": "display_data"
    },
    {
     "data": {
      "text/plain": [
       "0   0.39\n",
       "1   0.25\n",
       "Name: churn, dtype: float64"
      ]
     },
     "metadata": {},
     "output_type": "display_data"
    }
   ],
   "source": [
    "for column in ['city', 'gender', 'objects', 'products', 'credit_card', 'loyalty', 'churn']:\n",
    "    display ((data_nan[column].value_counts() / data[column].value_counts()))"
   ]
  },
  {
   "cell_type": "markdown",
   "metadata": {},
   "source": [
    "**Выводы / наблюдения по клиентам с пропусками в поле Balance:**\n",
    "\n",
    "- Ростов без пропусков. Пропуски в Рыбинске и Ярославле составляют до половины (48%) значений.\n",
    "- В разрезе  большинсва категориальных параметров пропуски в balance составляют 30-40%.\n",
    "- Среди тех, кто пользуется одним продуктом, наиболее полные данные, больше всего пропусков среди тех, у кого 2 продукта (57%);\n",
    "- 71% пользуются двумя продуктами Банка, 25% - одним;\n",
    "- 71% пользуются кредитной карточкой;\n",
    "- 51% активных пользователей;\n",
    "- отток среди пользователей с нулевым балансом составляет 14%;\n",
    "- средняя заработная плата - 98,983.56 руб.;\n",
    "- средний возраст - 38 лет\n",
    "\n",
    "**Возможные причины пропусков:**\n",
    "\n",
    "- Некорректная выгрузка из БД: возможно под пропусками подразумевается нулевой баланс, особенно учитывая, что \"нулевых\"  значений в датасете нет;\n",
    "- Нет счета как такового (клиенты без открытия счета...)\n",
    "- Использование только кредитных продуктов Банка (нет остатков на счете), учитывая, что 71% клиентов имеют кредитку, а также более низкий уровень оттока (т.к. возможно связаны долгосрочными долговыми обязательствами) - т.е. это те, у кого кредитная карточка, потребительский кредит, ипотека, либо просто нет денег на балансе (вывели, потратили и т.д.)\n",
    "\n",
    "Скорее всего пропуски - это нулевой баланс (т.к. сложно подобрать причины, почему выгрузка не смогла отразить значения от 0 до 3,768.69 руб., если это не нулевые значения) либо использование только кредитных продуктов Банка (нет остатков на счете)\n",
    "\n",
    "Т.к. пропуски составляют > 36% - удалить их будет нецелесообразно.     \n",
    "Можно заменить пропуски на \"0\", а можно оставить без изменений. Оставим без изменений."
   ]
  },
  {
   "cell_type": "markdown",
   "metadata": {},
   "source": [
    "**Вывод по итогам предобработки:**\n",
    "\n",
    "- приведены названия столбцов к нижнему регистру;\n",
    "- скорректированы названия столбцов;\n",
    "- дубликатов не обнаружено;\n",
    "- все 10000 строк - это уникальные, не повторяющиеся клиенты;\n",
    "- все данные, за исключением отсутствия нулевого баланса и необычайно низкой заработной платы являются нормальными, значительных аномалий не наблюдается;\n",
    "- пропуски в столбце Balance на \"0\" - 3617 строк или 36%  - удалять не стал, на основании предположения о том, что это ошибка при выгрузке из БД, которая подразумевает нулевой остаток на счете, либо отсуствие счета,  использвание клиентами только кредитных продуктов Банка."
   ]
  },
  {
   "cell_type": "markdown",
   "metadata": {},
   "source": [
    "## Исследовательский анализ данных (EDA)"
   ]
  },
  {
   "cell_type": "markdown",
   "metadata": {},
   "source": [
    "### Общий Анализ данных без разбивки по оттоку:\n",
    "\n"
   ]
  },
  {
   "cell_type": "code",
   "execution_count": 10,
   "metadata": {},
   "outputs": [
    {
     "data": {
      "text/html": [
       "<div>\n",
       "<style scoped>\n",
       "    .dataframe tbody tr th:only-of-type {\n",
       "        vertical-align: middle;\n",
       "    }\n",
       "\n",
       "    .dataframe tbody tr th {\n",
       "        vertical-align: top;\n",
       "    }\n",
       "\n",
       "    .dataframe thead th {\n",
       "        text-align: right;\n",
       "    }\n",
       "</style>\n",
       "<table border=\"1\" class=\"dataframe\">\n",
       "  <thead>\n",
       "    <tr style=\"text-align: right;\">\n",
       "      <th></th>\n",
       "      <th>user_id</th>\n",
       "      <th>score</th>\n",
       "      <th>age</th>\n",
       "      <th>objects</th>\n",
       "      <th>balance</th>\n",
       "      <th>products</th>\n",
       "      <th>credit_card</th>\n",
       "      <th>loyalty</th>\n",
       "      <th>estimated_salary</th>\n",
       "      <th>churn</th>\n",
       "    </tr>\n",
       "  </thead>\n",
       "  <tbody>\n",
       "    <tr>\n",
       "      <th>count</th>\n",
       "      <td>10,000.00</td>\n",
       "      <td>10,000.00</td>\n",
       "      <td>10,000.00</td>\n",
       "      <td>10,000.00</td>\n",
       "      <td>6,383.00</td>\n",
       "      <td>10,000.00</td>\n",
       "      <td>10,000.00</td>\n",
       "      <td>10,000.00</td>\n",
       "      <td>10,000.00</td>\n",
       "      <td>10,000.00</td>\n",
       "    </tr>\n",
       "    <tr>\n",
       "      <th>mean</th>\n",
       "      <td>15,733,676.57</td>\n",
       "      <td>650.53</td>\n",
       "      <td>38.92</td>\n",
       "      <td>5.01</td>\n",
       "      <td>119,827.49</td>\n",
       "      <td>1.53</td>\n",
       "      <td>0.71</td>\n",
       "      <td>0.52</td>\n",
       "      <td>100,090.24</td>\n",
       "      <td>0.20</td>\n",
       "    </tr>\n",
       "    <tr>\n",
       "      <th>std</th>\n",
       "      <td>71,936.19</td>\n",
       "      <td>96.65</td>\n",
       "      <td>10.49</td>\n",
       "      <td>2.89</td>\n",
       "      <td>30,095.06</td>\n",
       "      <td>0.58</td>\n",
       "      <td>0.46</td>\n",
       "      <td>0.50</td>\n",
       "      <td>57,510.49</td>\n",
       "      <td>0.40</td>\n",
       "    </tr>\n",
       "    <tr>\n",
       "      <th>min</th>\n",
       "      <td>15,608,437.00</td>\n",
       "      <td>350.00</td>\n",
       "      <td>18.00</td>\n",
       "      <td>0.00</td>\n",
       "      <td>3,768.69</td>\n",
       "      <td>1.00</td>\n",
       "      <td>0.00</td>\n",
       "      <td>0.00</td>\n",
       "      <td>11.58</td>\n",
       "      <td>0.00</td>\n",
       "    </tr>\n",
       "    <tr>\n",
       "      <th>25%</th>\n",
       "      <td>15,671,264.25</td>\n",
       "      <td>584.00</td>\n",
       "      <td>32.00</td>\n",
       "      <td>3.00</td>\n",
       "      <td>100,181.98</td>\n",
       "      <td>1.00</td>\n",
       "      <td>0.00</td>\n",
       "      <td>0.00</td>\n",
       "      <td>51,002.11</td>\n",
       "      <td>0.00</td>\n",
       "    </tr>\n",
       "    <tr>\n",
       "      <th>50%</th>\n",
       "      <td>15,733,474.00</td>\n",
       "      <td>652.00</td>\n",
       "      <td>37.00</td>\n",
       "      <td>5.00</td>\n",
       "      <td>119,839.69</td>\n",
       "      <td>1.00</td>\n",
       "      <td>1.00</td>\n",
       "      <td>1.00</td>\n",
       "      <td>100,193.91</td>\n",
       "      <td>0.00</td>\n",
       "    </tr>\n",
       "    <tr>\n",
       "      <th>75%</th>\n",
       "      <td>15,795,969.75</td>\n",
       "      <td>718.00</td>\n",
       "      <td>44.00</td>\n",
       "      <td>7.00</td>\n",
       "      <td>139,512.29</td>\n",
       "      <td>2.00</td>\n",
       "      <td>1.00</td>\n",
       "      <td>1.00</td>\n",
       "      <td>149,388.25</td>\n",
       "      <td>0.00</td>\n",
       "    </tr>\n",
       "    <tr>\n",
       "      <th>max</th>\n",
       "      <td>15,858,426.00</td>\n",
       "      <td>850.00</td>\n",
       "      <td>92.00</td>\n",
       "      <td>10.00</td>\n",
       "      <td>250,898.09</td>\n",
       "      <td>4.00</td>\n",
       "      <td>1.00</td>\n",
       "      <td>1.00</td>\n",
       "      <td>199,992.48</td>\n",
       "      <td>1.00</td>\n",
       "    </tr>\n",
       "  </tbody>\n",
       "</table>\n",
       "</div>"
      ],
      "text/plain": [
       "            user_id     score       age   objects    balance  products  \\\n",
       "count     10,000.00 10,000.00 10,000.00 10,000.00   6,383.00 10,000.00   \n",
       "mean  15,733,676.57    650.53     38.92      5.01 119,827.49      1.53   \n",
       "std       71,936.19     96.65     10.49      2.89  30,095.06      0.58   \n",
       "min   15,608,437.00    350.00     18.00      0.00   3,768.69      1.00   \n",
       "25%   15,671,264.25    584.00     32.00      3.00 100,181.98      1.00   \n",
       "50%   15,733,474.00    652.00     37.00      5.00 119,839.69      1.00   \n",
       "75%   15,795,969.75    718.00     44.00      7.00 139,512.29      2.00   \n",
       "max   15,858,426.00    850.00     92.00     10.00 250,898.09      4.00   \n",
       "\n",
       "       credit_card   loyalty  estimated_salary     churn  \n",
       "count    10,000.00 10,000.00         10,000.00 10,000.00  \n",
       "mean          0.71      0.52        100,090.24      0.20  \n",
       "std           0.46      0.50         57,510.49      0.40  \n",
       "min           0.00      0.00             11.58      0.00  \n",
       "25%           0.00      0.00         51,002.11      0.00  \n",
       "50%           1.00      1.00        100,193.91      0.00  \n",
       "75%           1.00      1.00        149,388.25      0.00  \n",
       "max           1.00      1.00        199,992.48      1.00  "
      ]
     },
     "execution_count": 10,
     "metadata": {},
     "output_type": "execute_result"
    }
   ],
   "source": [
    "data.describe()"
   ]
  },
  {
   "cell_type": "code",
   "execution_count": 11,
   "metadata": {},
   "outputs": [
    {
     "data": {
      "text/plain": [
       "Ярославль         5014\n",
       "Ростов Великий    2509\n",
       "Рыбинск           2477\n",
       "Name: city, dtype: int64"
      ]
     },
     "metadata": {},
     "output_type": "display_data"
    },
    {
     "data": {
      "text/plain": [
       "М    5457\n",
       "Ж    4543\n",
       "Name: gender, dtype: int64"
      ]
     },
     "metadata": {},
     "output_type": "display_data"
    },
    {
     "data": {
      "text/plain": [
       "1    5084\n",
       "2    4590\n",
       "3     266\n",
       "4      60\n",
       "Name: products, dtype: int64"
      ]
     },
     "metadata": {},
     "output_type": "display_data"
    },
    {
     "data": {
      "text/plain": [
       "1    7055\n",
       "0    2945\n",
       "Name: credit_card, dtype: int64"
      ]
     },
     "metadata": {},
     "output_type": "display_data"
    },
    {
     "data": {
      "text/plain": [
       "1    5151\n",
       "0    4849\n",
       "Name: loyalty, dtype: int64"
      ]
     },
     "metadata": {},
     "output_type": "display_data"
    },
    {
     "data": {
      "text/plain": [
       "0    7963\n",
       "1    2037\n",
       "Name: churn, dtype: int64"
      ]
     },
     "metadata": {},
     "output_type": "display_data"
    }
   ],
   "source": [
    "for column in ['city', 'gender', 'products', 'credit_card', 'loyalty', 'churn']:\n",
    "    display (data[column].value_counts())"
   ]
  },
  {
   "cell_type": "markdown",
   "metadata": {},
   "source": [
    "**Выводы / Наблюдения:**\n",
    "\n",
    "- Больше половины клиентов из Ярославля - 5014 клиентов, второй - Ростов Великий (2509), третий - Рыбинск (2477);\n",
    "- Мужчины преобладают - их 54,57%;\n",
    "- Активные и не активные клиенты распределны почти поровну - 5151 и 4849 соответственно;\n",
    "- Клиенты, попавшие в отток составляют 20,37% от общего числа;\n",
    "- Минимальный скоринговый балл - 350, а максимальный - 850, В наших данных среднее и медианное значение почти одинаково - 650 \n",
    "- Средний возраст - почти 39 лет (38,92), медианный - 37 лет;\n",
    "- Максимальное количетсво объектов в собственности среди клиентов - 10, среднее и медианное - 5 объектов;\n",
    "- Средняя сумма баланса - 119 827,49 руб. Минимальная сумма на балансе - 3 768,69 руб., максимальная - 250 898,09 руб. Нет пользователей с нулевым балансом;\n",
    "- В большинстве пользователи пользуются одним-двумя продуктами Банка, 3 и 4 продукта на клиента - редкое явление (266 и 60 клиентов соответственно);\n",
    "- 70,55% клиентов имеют кредитную карту;\n",
    "- Средняя зарплата - 100 090,24 руб (медианная - 100 193,91 руб.) - хороший показатель, нормальное распределение.\n",
    "- Больше всего вопросов вызывает минимальная зарплата - 11,58 руб. Возможно данные по зарплате клиентов собираются с ошибками.   "
   ]
  },
  {
   "cell_type": "markdown",
   "metadata": {},
   "source": [
    "### Анализ клиентов с низкой зарплатой\n",
    "Рассмотрим более подробно клиентов с низкой зарплатой (возьмем данные с уровнем зарплаты ниже официального уровня МРОТ):"
   ]
  },
  {
   "cell_type": "code",
   "execution_count": 12,
   "metadata": {},
   "outputs": [
    {
     "data": {
      "text/html": [
       "<div>\n",
       "<style scoped>\n",
       "    .dataframe tbody tr th:only-of-type {\n",
       "        vertical-align: middle;\n",
       "    }\n",
       "\n",
       "    .dataframe tbody tr th {\n",
       "        vertical-align: top;\n",
       "    }\n",
       "\n",
       "    .dataframe thead th {\n",
       "        text-align: right;\n",
       "    }\n",
       "</style>\n",
       "<table border=\"1\" class=\"dataframe\">\n",
       "  <thead>\n",
       "    <tr style=\"text-align: right;\">\n",
       "      <th></th>\n",
       "      <th>user_id</th>\n",
       "      <th>score</th>\n",
       "      <th>city</th>\n",
       "      <th>gender</th>\n",
       "      <th>age</th>\n",
       "      <th>objects</th>\n",
       "      <th>balance</th>\n",
       "      <th>products</th>\n",
       "      <th>credit_card</th>\n",
       "      <th>loyalty</th>\n",
       "      <th>estimated_salary</th>\n",
       "      <th>churn</th>\n",
       "    </tr>\n",
       "  </thead>\n",
       "  <tbody>\n",
       "    <tr>\n",
       "      <th>6</th>\n",
       "      <td>15635267</td>\n",
       "      <td>822</td>\n",
       "      <td>Ярославль</td>\n",
       "      <td>М</td>\n",
       "      <td>50</td>\n",
       "      <td>7</td>\n",
       "      <td>NaN</td>\n",
       "      <td>2</td>\n",
       "      <td>1</td>\n",
       "      <td>1</td>\n",
       "      <td>10,062.80</td>\n",
       "      <td>0</td>\n",
       "    </tr>\n",
       "    <tr>\n",
       "      <th>16</th>\n",
       "      <td>15780188</td>\n",
       "      <td>653</td>\n",
       "      <td>Ростов Великий</td>\n",
       "      <td>М</td>\n",
       "      <td>58</td>\n",
       "      <td>1</td>\n",
       "      <td>132,602.88</td>\n",
       "      <td>1</td>\n",
       "      <td>1</td>\n",
       "      <td>0</td>\n",
       "      <td>5,097.67</td>\n",
       "      <td>1</td>\n",
       "    </tr>\n",
       "    <tr>\n",
       "      <th>17</th>\n",
       "      <td>15830954</td>\n",
       "      <td>549</td>\n",
       "      <td>Рыбинск</td>\n",
       "      <td>Ж</td>\n",
       "      <td>24</td>\n",
       "      <td>9</td>\n",
       "      <td>NaN</td>\n",
       "      <td>2</td>\n",
       "      <td>1</td>\n",
       "      <td>1</td>\n",
       "      <td>14,406.41</td>\n",
       "      <td>0</td>\n",
       "    </tr>\n",
       "    <tr>\n",
       "      <th>23</th>\n",
       "      <td>15768473</td>\n",
       "      <td>669</td>\n",
       "      <td>Ярославль</td>\n",
       "      <td>М</td>\n",
       "      <td>46</td>\n",
       "      <td>3</td>\n",
       "      <td>NaN</td>\n",
       "      <td>2</td>\n",
       "      <td>0</td>\n",
       "      <td>1</td>\n",
       "      <td>8,487.75</td>\n",
       "      <td>0</td>\n",
       "    </tr>\n",
       "    <tr>\n",
       "      <th>58</th>\n",
       "      <td>15666680</td>\n",
       "      <td>511</td>\n",
       "      <td>Рыбинск</td>\n",
       "      <td>Ж</td>\n",
       "      <td>66</td>\n",
       "      <td>4</td>\n",
       "      <td>NaN</td>\n",
       "      <td>1</td>\n",
       "      <td>1</td>\n",
       "      <td>0</td>\n",
       "      <td>1,643.11</td>\n",
       "      <td>1</td>\n",
       "    </tr>\n",
       "    <tr>\n",
       "      <th>...</th>\n",
       "      <td>...</td>\n",
       "      <td>...</td>\n",
       "      <td>...</td>\n",
       "      <td>...</td>\n",
       "      <td>...</td>\n",
       "      <td>...</td>\n",
       "      <td>...</td>\n",
       "      <td>...</td>\n",
       "      <td>...</td>\n",
       "      <td>...</td>\n",
       "      <td>...</td>\n",
       "      <td>...</td>\n",
       "    </tr>\n",
       "    <tr>\n",
       "      <th>9948</th>\n",
       "      <td>15777814</td>\n",
       "      <td>724</td>\n",
       "      <td>Ростов Великий</td>\n",
       "      <td>Ж</td>\n",
       "      <td>53</td>\n",
       "      <td>1</td>\n",
       "      <td>139,687.66</td>\n",
       "      <td>2</td>\n",
       "      <td>1</td>\n",
       "      <td>1</td>\n",
       "      <td>12,913.92</td>\n",
       "      <td>0</td>\n",
       "    </tr>\n",
       "    <tr>\n",
       "      <th>9954</th>\n",
       "      <td>15782586</td>\n",
       "      <td>645</td>\n",
       "      <td>Ярославль</td>\n",
       "      <td>М</td>\n",
       "      <td>45</td>\n",
       "      <td>6</td>\n",
       "      <td>155,417.61</td>\n",
       "      <td>1</td>\n",
       "      <td>0</td>\n",
       "      <td>1</td>\n",
       "      <td>3,449.22</td>\n",
       "      <td>0</td>\n",
       "    </tr>\n",
       "    <tr>\n",
       "      <th>9974</th>\n",
       "      <td>15738210</td>\n",
       "      <td>583</td>\n",
       "      <td>Ярославль</td>\n",
       "      <td>М</td>\n",
       "      <td>33</td>\n",
       "      <td>7</td>\n",
       "      <td>122,531.86</td>\n",
       "      <td>1</td>\n",
       "      <td>1</td>\n",
       "      <td>0</td>\n",
       "      <td>13,549.24</td>\n",
       "      <td>0</td>\n",
       "    </tr>\n",
       "    <tr>\n",
       "      <th>9979</th>\n",
       "      <td>15735400</td>\n",
       "      <td>677</td>\n",
       "      <td>Ярославль</td>\n",
       "      <td>Ж</td>\n",
       "      <td>58</td>\n",
       "      <td>1</td>\n",
       "      <td>90,022.85</td>\n",
       "      <td>1</td>\n",
       "      <td>0</td>\n",
       "      <td>1</td>\n",
       "      <td>2,988.28</td>\n",
       "      <td>0</td>\n",
       "    </tr>\n",
       "    <tr>\n",
       "      <th>9987</th>\n",
       "      <td>15631575</td>\n",
       "      <td>606</td>\n",
       "      <td>Рыбинск</td>\n",
       "      <td>М</td>\n",
       "      <td>30</td>\n",
       "      <td>8</td>\n",
       "      <td>180,307.73</td>\n",
       "      <td>2</td>\n",
       "      <td>1</td>\n",
       "      <td>1</td>\n",
       "      <td>1,914.41</td>\n",
       "      <td>0</td>\n",
       "    </tr>\n",
       "  </tbody>\n",
       "</table>\n",
       "<p>761 rows × 12 columns</p>\n",
       "</div>"
      ],
      "text/plain": [
       "       user_id  score            city gender  age  objects    balance  \\\n",
       "6     15635267    822       Ярославль      М   50        7        NaN   \n",
       "16    15780188    653  Ростов Великий      М   58        1 132,602.88   \n",
       "17    15830954    549         Рыбинск      Ж   24        9        NaN   \n",
       "23    15768473    669       Ярославль      М   46        3        NaN   \n",
       "58    15666680    511         Рыбинск      Ж   66        4        NaN   \n",
       "...        ...    ...             ...    ...  ...      ...        ...   \n",
       "9948  15777814    724  Ростов Великий      Ж   53        1 139,687.66   \n",
       "9954  15782586    645       Ярославль      М   45        6 155,417.61   \n",
       "9974  15738210    583       Ярославль      М   33        7 122,531.86   \n",
       "9979  15735400    677       Ярославль      Ж   58        1  90,022.85   \n",
       "9987  15631575    606         Рыбинск      М   30        8 180,307.73   \n",
       "\n",
       "      products  credit_card  loyalty  estimated_salary  churn  \n",
       "6            2            1        1         10,062.80      0  \n",
       "16           1            1        0          5,097.67      1  \n",
       "17           2            1        1         14,406.41      0  \n",
       "23           2            0        1          8,487.75      0  \n",
       "58           1            1        0          1,643.11      1  \n",
       "...        ...          ...      ...               ...    ...  \n",
       "9948         2            1        1         12,913.92      0  \n",
       "9954         1            0        1          3,449.22      0  \n",
       "9974         1            1        0         13,549.24      0  \n",
       "9979         1            0        1          2,988.28      0  \n",
       "9987         2            1        1          1,914.41      0  \n",
       "\n",
       "[761 rows x 12 columns]"
      ]
     },
     "metadata": {},
     "output_type": "display_data"
    },
    {
     "name": "stdout",
     "output_type": "stream",
     "text": [
      "<class 'pandas.core.frame.DataFrame'>\n",
      "Int64Index: 761 entries, 6 to 9987\n",
      "Data columns (total 12 columns):\n",
      " #   Column            Non-Null Count  Dtype  \n",
      "---  ------            --------------  -----  \n",
      " 0   user_id           761 non-null    int64  \n",
      " 1   score             761 non-null    int64  \n",
      " 2   city              761 non-null    object \n",
      " 3   gender            761 non-null    object \n",
      " 4   age               761 non-null    int64  \n",
      " 5   objects           761 non-null    int64  \n",
      " 6   balance           447 non-null    float64\n",
      " 7   products          761 non-null    int64  \n",
      " 8   credit_card       761 non-null    int64  \n",
      " 9   loyalty           761 non-null    int64  \n",
      " 10  estimated_salary  761 non-null    float64\n",
      " 11  churn             761 non-null    int64  \n",
      "dtypes: float64(2), int64(8), object(2)\n",
      "memory usage: 77.3+ KB\n"
     ]
    },
    {
     "data": {
      "text/html": [
       "<div>\n",
       "<style scoped>\n",
       "    .dataframe tbody tr th:only-of-type {\n",
       "        vertical-align: middle;\n",
       "    }\n",
       "\n",
       "    .dataframe tbody tr th {\n",
       "        vertical-align: top;\n",
       "    }\n",
       "\n",
       "    .dataframe thead th {\n",
       "        text-align: right;\n",
       "    }\n",
       "</style>\n",
       "<table border=\"1\" class=\"dataframe\">\n",
       "  <thead>\n",
       "    <tr style=\"text-align: right;\">\n",
       "      <th></th>\n",
       "      <th>user_id</th>\n",
       "      <th>score</th>\n",
       "      <th>age</th>\n",
       "      <th>objects</th>\n",
       "      <th>balance</th>\n",
       "      <th>products</th>\n",
       "      <th>credit_card</th>\n",
       "      <th>loyalty</th>\n",
       "      <th>estimated_salary</th>\n",
       "      <th>churn</th>\n",
       "    </tr>\n",
       "  </thead>\n",
       "  <tbody>\n",
       "    <tr>\n",
       "      <th>count</th>\n",
       "      <td>761.00</td>\n",
       "      <td>761.00</td>\n",
       "      <td>761.00</td>\n",
       "      <td>761.00</td>\n",
       "      <td>447.00</td>\n",
       "      <td>761.00</td>\n",
       "      <td>761.00</td>\n",
       "      <td>761.00</td>\n",
       "      <td>761.00</td>\n",
       "      <td>761.00</td>\n",
       "    </tr>\n",
       "    <tr>\n",
       "      <th>mean</th>\n",
       "      <td>15,731,500.99</td>\n",
       "      <td>645.06</td>\n",
       "      <td>38.69</td>\n",
       "      <td>4.93</td>\n",
       "      <td>119,107.93</td>\n",
       "      <td>1.54</td>\n",
       "      <td>0.68</td>\n",
       "      <td>0.52</td>\n",
       "      <td>7,496.94</td>\n",
       "      <td>0.20</td>\n",
       "    </tr>\n",
       "    <tr>\n",
       "      <th>std</th>\n",
       "      <td>71,833.94</td>\n",
       "      <td>98.44</td>\n",
       "      <td>10.47</td>\n",
       "      <td>2.86</td>\n",
       "      <td>29,556.37</td>\n",
       "      <td>0.57</td>\n",
       "      <td>0.47</td>\n",
       "      <td>0.50</td>\n",
       "      <td>4,423.22</td>\n",
       "      <td>0.40</td>\n",
       "    </tr>\n",
       "    <tr>\n",
       "      <th>min</th>\n",
       "      <td>15,608,947.00</td>\n",
       "      <td>412.00</td>\n",
       "      <td>18.00</td>\n",
       "      <td>0.00</td>\n",
       "      <td>27,517.15</td>\n",
       "      <td>1.00</td>\n",
       "      <td>0.00</td>\n",
       "      <td>0.00</td>\n",
       "      <td>11.58</td>\n",
       "      <td>0.00</td>\n",
       "    </tr>\n",
       "    <tr>\n",
       "      <th>25%</th>\n",
       "      <td>15,671,044.00</td>\n",
       "      <td>578.00</td>\n",
       "      <td>31.00</td>\n",
       "      <td>2.00</td>\n",
       "      <td>98,596.29</td>\n",
       "      <td>1.00</td>\n",
       "      <td>0.00</td>\n",
       "      <td>0.00</td>\n",
       "      <td>3,626.47</td>\n",
       "      <td>0.00</td>\n",
       "    </tr>\n",
       "    <tr>\n",
       "      <th>50%</th>\n",
       "      <td>15,728,955.00</td>\n",
       "      <td>645.00</td>\n",
       "      <td>37.00</td>\n",
       "      <td>5.00</td>\n",
       "      <td>118,723.11</td>\n",
       "      <td>2.00</td>\n",
       "      <td>1.00</td>\n",
       "      <td>1.00</td>\n",
       "      <td>7,611.61</td>\n",
       "      <td>0.00</td>\n",
       "    </tr>\n",
       "    <tr>\n",
       "      <th>75%</th>\n",
       "      <td>15,792,319.00</td>\n",
       "      <td>711.00</td>\n",
       "      <td>43.00</td>\n",
       "      <td>7.00</td>\n",
       "      <td>138,582.62</td>\n",
       "      <td>2.00</td>\n",
       "      <td>1.00</td>\n",
       "      <td>1.00</td>\n",
       "      <td>11,159.19</td>\n",
       "      <td>0.00</td>\n",
       "    </tr>\n",
       "    <tr>\n",
       "      <th>max</th>\n",
       "      <td>15,858,164.00</td>\n",
       "      <td>850.00</td>\n",
       "      <td>77.00</td>\n",
       "      <td>10.00</td>\n",
       "      <td>204,510.94</td>\n",
       "      <td>4.00</td>\n",
       "      <td>1.00</td>\n",
       "      <td>1.00</td>\n",
       "      <td>15,246.83</td>\n",
       "      <td>1.00</td>\n",
       "    </tr>\n",
       "  </tbody>\n",
       "</table>\n",
       "</div>"
      ],
      "text/plain": [
       "            user_id  score    age  objects    balance  products  credit_card  \\\n",
       "count        761.00 761.00 761.00   761.00     447.00    761.00       761.00   \n",
       "mean  15,731,500.99 645.06  38.69     4.93 119,107.93      1.54         0.68   \n",
       "std       71,833.94  98.44  10.47     2.86  29,556.37      0.57         0.47   \n",
       "min   15,608,947.00 412.00  18.00     0.00  27,517.15      1.00         0.00   \n",
       "25%   15,671,044.00 578.00  31.00     2.00  98,596.29      1.00         0.00   \n",
       "50%   15,728,955.00 645.00  37.00     5.00 118,723.11      2.00         1.00   \n",
       "75%   15,792,319.00 711.00  43.00     7.00 138,582.62      2.00         1.00   \n",
       "max   15,858,164.00 850.00  77.00    10.00 204,510.94      4.00         1.00   \n",
       "\n",
       "       loyalty  estimated_salary  churn  \n",
       "count   761.00            761.00 761.00  \n",
       "mean      0.52          7,496.94   0.20  \n",
       "std       0.50          4,423.22   0.40  \n",
       "min       0.00             11.58   0.00  \n",
       "25%       0.00          3,626.47   0.00  \n",
       "50%       1.00          7,611.61   0.00  \n",
       "75%       1.00         11,159.19   0.00  \n",
       "max       1.00         15,246.83   1.00  "
      ]
     },
     "execution_count": 12,
     "metadata": {},
     "output_type": "execute_result"
    }
   ],
   "source": [
    "data_mrot = data[data['estimated_salary'] < 15279]\n",
    "display(data_mrot)\n",
    "data_mrot.info()\n",
    "data_mrot.describe()"
   ]
  },
  {
   "cell_type": "code",
   "execution_count": 13,
   "metadata": {},
   "outputs": [
    {
     "data": {
      "text/plain": [
       "Ярославль         383\n",
       "Рыбинск           195\n",
       "Ростов Великий    183\n",
       "Name: city, dtype: int64"
      ]
     },
     "metadata": {},
     "output_type": "display_data"
    },
    {
     "data": {
      "text/plain": [
       "М    418\n",
       "Ж    343\n",
       "Name: gender, dtype: int64"
      ]
     },
     "metadata": {},
     "output_type": "display_data"
    },
    {
     "data": {
      "text/plain": [
       "1    379\n",
       "2    359\n",
       "3     19\n",
       "4      4\n",
       "Name: products, dtype: int64"
      ]
     },
     "metadata": {},
     "output_type": "display_data"
    },
    {
     "data": {
      "text/plain": [
       "1    518\n",
       "0    243\n",
       "Name: credit_card, dtype: int64"
      ]
     },
     "metadata": {},
     "output_type": "display_data"
    },
    {
     "data": {
      "text/plain": [
       "1    394\n",
       "0    367\n",
       "Name: loyalty, dtype: int64"
      ]
     },
     "metadata": {},
     "output_type": "display_data"
    },
    {
     "data": {
      "text/plain": [
       "0    608\n",
       "1    153\n",
       "Name: churn, dtype: int64"
      ]
     },
     "metadata": {},
     "output_type": "display_data"
    }
   ],
   "source": [
    "for column in ['city', 'gender', 'products', 'credit_card', 'loyalty', 'churn']:\n",
    "    display (data_mrot[column].value_counts())"
   ]
  },
  {
   "cell_type": "markdown",
   "metadata": {},
   "source": [
    "У 314 клиентов из 761, с зарплатой ниже МРОТ, пропущенные значения в столбце balance (41%)."
   ]
  },
  {
   "cell_type": "markdown",
   "metadata": {},
   "source": [
    "**Вывод** по клиентам с уровнем зарплаты ниже МРОТ:\n",
    "- данных клиентов в Ярославле (383) столько же, сколько в Рыбинске и Ростове Великом вместе взятых (195 и 183 соответственно);\n",
    "- преобладают Мужчины - 418 против 343;\n",
    "- активных и не активных клиентов практически поровну (394 и 367 соответственно);\n",
    "- большинство пользуются кредитной картой - 518 человек, 243 - не пользуются;\n",
    "- большинство данных клиентов не попали в отток - таковых всего 153 против 608 действующих клиентов (20%);\n",
    "- среднее значение зарплаты - 7496 руб (медиана - 7611 руб.), но в то же время по остальным параметрам (таким как баланс счета, количество объектов в собственности, возраст и т.д.) практически нет отличий от клиентов c зарплатой выше МРОТ).\n",
    "- есть значения меньше МРОТ (и менее 1000 руб.) при практически идентичных значениях остальных параметров - таких как баллы кредитного скоринга, количество объектов в собственности, остаток на балансе и пр.;\n",
    "\n",
    "\n",
    "Необходимо уточнить / проверить механизм предоставления данных по зарплате:\n",
    "- как и на основании чего выгружаются данные по з/п\n",
    "- насколько актуален источник данных (анкета клиента, например, при получении кредитного продукта, или фактические поступления з/п за определенный промежуток времени, или средние значения поступлений, включаются ли в данные социальные выплаты, декретные и пр.)"
   ]
  },
  {
   "cell_type": "markdown",
   "metadata": {},
   "source": [
    "### Анализ средних и медианных значений в разбивке по оттоку\n",
    "Разобьем клиентов на две группы - тех, кто ушел, и тех, кто остался."
   ]
  },
  {
   "cell_type": "markdown",
   "metadata": {},
   "source": [
    "Заменим значения столбца Пол с \"М\" и \"Ж\" на числовые, чтобы отобразить средние значения:"
   ]
  },
  {
   "cell_type": "code",
   "execution_count": 14,
   "metadata": {},
   "outputs": [],
   "source": [
    "data['gender'] = data['gender'].replace({'Ж':0, 'М': 1})"
   ]
  },
  {
   "cell_type": "markdown",
   "metadata": {},
   "source": [
    "Рассмотрим средние значения двух групп:\n"
   ]
  },
  {
   "cell_type": "code",
   "execution_count": 15,
   "metadata": {},
   "outputs": [
    {
     "data": {
      "text/html": [
       "<div>\n",
       "<style scoped>\n",
       "    .dataframe tbody tr th:only-of-type {\n",
       "        vertical-align: middle;\n",
       "    }\n",
       "\n",
       "    .dataframe tbody tr th {\n",
       "        vertical-align: top;\n",
       "    }\n",
       "\n",
       "    .dataframe thead th {\n",
       "        text-align: right;\n",
       "    }\n",
       "</style>\n",
       "<table border=\"1\" class=\"dataframe\">\n",
       "  <thead>\n",
       "    <tr style=\"text-align: right;\">\n",
       "      <th>churn</th>\n",
       "      <th>0</th>\n",
       "      <th>1</th>\n",
       "    </tr>\n",
       "  </thead>\n",
       "  <tbody>\n",
       "    <tr>\n",
       "      <th>user_id</th>\n",
       "      <td>15,733,903.88</td>\n",
       "      <td>15,732,787.96</td>\n",
       "    </tr>\n",
       "    <tr>\n",
       "      <th>score</th>\n",
       "      <td>651.85</td>\n",
       "      <td>645.35</td>\n",
       "    </tr>\n",
       "    <tr>\n",
       "      <th>gender</th>\n",
       "      <td>0.57</td>\n",
       "      <td>0.44</td>\n",
       "    </tr>\n",
       "    <tr>\n",
       "      <th>age</th>\n",
       "      <td>37.41</td>\n",
       "      <td>44.84</td>\n",
       "    </tr>\n",
       "    <tr>\n",
       "      <th>objects</th>\n",
       "      <td>5.03</td>\n",
       "      <td>4.93</td>\n",
       "    </tr>\n",
       "    <tr>\n",
       "      <th>balance</th>\n",
       "      <td>119,535.86</td>\n",
       "      <td>120,746.97</td>\n",
       "    </tr>\n",
       "    <tr>\n",
       "      <th>products</th>\n",
       "      <td>1.54</td>\n",
       "      <td>1.48</td>\n",
       "    </tr>\n",
       "    <tr>\n",
       "      <th>credit_card</th>\n",
       "      <td>0.71</td>\n",
       "      <td>0.70</td>\n",
       "    </tr>\n",
       "    <tr>\n",
       "      <th>loyalty</th>\n",
       "      <td>0.55</td>\n",
       "      <td>0.36</td>\n",
       "    </tr>\n",
       "    <tr>\n",
       "      <th>estimated_salary</th>\n",
       "      <td>99,738.39</td>\n",
       "      <td>101,465.68</td>\n",
       "    </tr>\n",
       "  </tbody>\n",
       "</table>\n",
       "</div>"
      ],
      "text/plain": [
       "churn                        0             1\n",
       "user_id          15,733,903.88 15,732,787.96\n",
       "score                   651.85        645.35\n",
       "gender                    0.57          0.44\n",
       "age                      37.41         44.84\n",
       "objects                   5.03          4.93\n",
       "balance             119,535.86    120,746.97\n",
       "products                  1.54          1.48\n",
       "credit_card               0.71          0.70\n",
       "loyalty                   0.55          0.36\n",
       "estimated_salary     99,738.39    101,465.68"
      ]
     },
     "execution_count": 15,
     "metadata": {},
     "output_type": "execute_result"
    }
   ],
   "source": [
    "data.groupby('churn').agg('mean').T"
   ]
  },
  {
   "cell_type": "markdown",
   "metadata": {},
   "source": [
    "Рассмотрим медианные значения двух групп:"
   ]
  },
  {
   "cell_type": "code",
   "execution_count": 16,
   "metadata": {},
   "outputs": [
    {
     "data": {
      "text/html": [
       "<div>\n",
       "<style scoped>\n",
       "    .dataframe tbody tr th:only-of-type {\n",
       "        vertical-align: middle;\n",
       "    }\n",
       "\n",
       "    .dataframe tbody tr th {\n",
       "        vertical-align: top;\n",
       "    }\n",
       "\n",
       "    .dataframe thead th {\n",
       "        text-align: right;\n",
       "    }\n",
       "</style>\n",
       "<table border=\"1\" class=\"dataframe\">\n",
       "  <thead>\n",
       "    <tr style=\"text-align: right;\">\n",
       "      <th>churn</th>\n",
       "      <th>0</th>\n",
       "      <th>1</th>\n",
       "    </tr>\n",
       "  </thead>\n",
       "  <tbody>\n",
       "    <tr>\n",
       "      <th>user_id</th>\n",
       "      <td>15,734,279.00</td>\n",
       "      <td>15,731,699.00</td>\n",
       "    </tr>\n",
       "    <tr>\n",
       "      <th>score</th>\n",
       "      <td>653.00</td>\n",
       "      <td>646.00</td>\n",
       "    </tr>\n",
       "    <tr>\n",
       "      <th>gender</th>\n",
       "      <td>1.00</td>\n",
       "      <td>0.00</td>\n",
       "    </tr>\n",
       "    <tr>\n",
       "      <th>age</th>\n",
       "      <td>36.00</td>\n",
       "      <td>45.00</td>\n",
       "    </tr>\n",
       "    <tr>\n",
       "      <th>objects</th>\n",
       "      <td>5.00</td>\n",
       "      <td>5.00</td>\n",
       "    </tr>\n",
       "    <tr>\n",
       "      <th>balance</th>\n",
       "      <td>119,791.21</td>\n",
       "      <td>119,948.09</td>\n",
       "    </tr>\n",
       "    <tr>\n",
       "      <th>products</th>\n",
       "      <td>2.00</td>\n",
       "      <td>1.00</td>\n",
       "    </tr>\n",
       "    <tr>\n",
       "      <th>credit_card</th>\n",
       "      <td>1.00</td>\n",
       "      <td>1.00</td>\n",
       "    </tr>\n",
       "    <tr>\n",
       "      <th>loyalty</th>\n",
       "      <td>1.00</td>\n",
       "      <td>0.00</td>\n",
       "    </tr>\n",
       "    <tr>\n",
       "      <th>estimated_salary</th>\n",
       "      <td>99,645.04</td>\n",
       "      <td>102,460.84</td>\n",
       "    </tr>\n",
       "  </tbody>\n",
       "</table>\n",
       "</div>"
      ],
      "text/plain": [
       "churn                        0             1\n",
       "user_id          15,734,279.00 15,731,699.00\n",
       "score                   653.00        646.00\n",
       "gender                    1.00          0.00\n",
       "age                      36.00         45.00\n",
       "objects                   5.00          5.00\n",
       "balance             119,791.21    119,948.09\n",
       "products                  2.00          1.00\n",
       "credit_card               1.00          1.00\n",
       "loyalty                   1.00          0.00\n",
       "estimated_salary     99,645.04    102,460.84"
      ]
     },
     "execution_count": 16,
     "metadata": {},
     "output_type": "execute_result"
    }
   ],
   "source": [
    "data.groupby('churn').agg('median').T"
   ]
  },
  {
   "cell_type": "markdown",
   "metadata": {},
   "source": [
    "**Отличия клиентов, попавших в отток:**\n",
    "- Чуть меньше средний балл кредитного скоринга - 645 против 651 (медианные значения - 646 против 653);\n",
    "- Преобладает женский пол;\n",
    "- Старше в среднем на 7 лет (по медиане - разница в 9 лет);\n",
    "- Средний баланс покинувших Банк клиентов больше  всего на ~1211 руб. (по медиане - оличия не существенные);\n",
    "- Активность ниже - 0.36 против 0.55 у оставшихся клиентов, т.е. по их счетам реже проводятся транзакции;\n",
    "- Средняя зарплата выше на 1727 руб(по медиане - на 2815 руб).\n",
    "- По остальным критериям обе группы схожи - по количеству объектов в собственности, количеству используемых банковских продуктов, большинство имеет кредитную карточку."
   ]
  },
  {
   "cell_type": "markdown",
   "metadata": {},
   "source": [
    "### Визуализация данных в разбивке по оттоку"
   ]
  },
  {
   "cell_type": "markdown",
   "metadata": {},
   "source": [
    "Разделим  данные клиентов по оттоку: "
   ]
  },
  {
   "cell_type": "code",
   "execution_count": 17,
   "metadata": {},
   "outputs": [],
   "source": [
    "churn_1 = data[data['churn']==1]  # отток\n",
    "churn_0 = data[data['churn']==0]  # клиент остался"
   ]
  },
  {
   "cell_type": "markdown",
   "metadata": {},
   "source": [
    "**Рассмотрим Количественные признаки:**"
   ]
  },
  {
   "cell_type": "code",
   "execution_count": 18,
   "metadata": {
    "scrolled": false
   },
   "outputs": [
    {
     "data": {
      "image/png": "[encoded data removed]",
      "text/plain": [
       "<Figure size 1080x576 with 1 Axes>"
      ]
     },
     "metadata": {},
     "output_type": "display_data"
    },
    {
     "data": {
      "image/png": "[encoded data removed]",
      "text/plain": [
       "<Figure size 1080x576 with 1 Axes>"
      ]
     },
     "metadata": {},
     "output_type": "display_data"
    },
    {
     "data": {
      "image/png": "[encoded data removed]",
      "text/plain": [
       "<Figure size 1080x576 with 1 Axes>"
      ]
     },
     "metadata": {},
     "output_type": "display_data"
    },
    {
     "data": {
      "image/png": "[encoded data removed]",
      "text/plain": [
       "<Figure size 1080x576 with 1 Axes>"
      ]
     },
     "metadata": {},
     "output_type": "display_data"
    },
    {
     "data": {
      "image/png": "[encoded data removed]",
      "text/plain": [
       "<Figure size 1080x576 with 1 Axes>"
      ]
     },
     "metadata": {},
     "output_type": "display_data"
    }
   ],
   "source": [
    "for column in ['score', 'age', 'objects', 'balance', 'estimated_salary']:\n",
    "    plt.figure(figsize=(15, 8))\n",
    "    sns.distplot(churn_0[column], bins=50, kde=False)\n",
    "    sns.distplot(churn_1[column], bins=50, kde=False)\n",
    "    plt.title('Распределение признака ' +column, fontsize=15)\n",
    "    plt.xlabel(column, fontsize=15)\n",
    "    plt.ylabel('Количество клиентов', fontsize=15)\n",
    "    plt.legend(['Оставшиеся', 'Отток']);"
   ]
  },
  {
   "cell_type": "markdown",
   "metadata": {},
   "source": [
    "Рассмотрим количественные признаки подробнее, построив диаграммы размаха:"
   ]
  },
  {
   "cell_type": "code",
   "execution_count": 19,
   "metadata": {
    "scrolled": false
   },
   "outputs": [
    {
     "data": {
      "image/png": "[encoded data removed]",
      "text/plain": [
       "<Figure size 576x432 with 1 Axes>"
      ]
     },
     "metadata": {},
     "output_type": "display_data"
    },
    {
     "data": {
      "image/png": "[encoded data removed]",
      "text/plain": [
       "<Figure size 576x432 with 1 Axes>"
      ]
     },
     "metadata": {},
     "output_type": "display_data"
    },
    {
     "data": {
      "image/png": "[encoded data removed]",
      "text/plain": [
       "<Figure size 576x432 with 1 Axes>"
      ]
     },
     "metadata": {},
     "output_type": "display_data"
    },
    {
     "data": {
      "image/png": "[encoded data removed]",
      "text/plain": [
       "<Figure size 576x432 with 1 Axes>"
      ]
     },
     "metadata": {},
     "output_type": "display_data"
    },
    {
     "data": {
      "image/png": "[encoded data removed]",
      "text/plain": [
       "<Figure size 576x432 with 1 Axes>"
      ]
     },
     "metadata": {},
     "output_type": "display_data"
    }
   ],
   "source": [
    "for column in ['score', 'age', 'objects', 'balance', 'estimated_salary']:\n",
    "    plt.figure(figsize=(8,6))\n",
    "    sns.boxplot(data=data, x='churn', y=column, showfliers=False, showmeans=True, \n",
    "                meanprops={\"marker\":\"s\",\"markerfacecolor\":\"white\", \"markeredgecolor\":\"blue\"})\\\n",
    "               .set(xlabel = column, ylabel = 'Количество клиентов',)"
   ]
  },
  {
   "cell_type": "markdown",
   "metadata": {},
   "source": [
    "**Рассмотрим категориальные признаки:**"
   ]
  },
  {
   "cell_type": "code",
   "execution_count": 20,
   "metadata": {
    "scrolled": false
   },
   "outputs": [
    {
     "data": {
      "image/png": "[encoded data removed]",
      "text/plain": [
       "<Figure size 720x360 with 1 Axes>"
      ]
     },
     "metadata": {},
     "output_type": "display_data"
    },
    {
     "data": {
      "image/png": "[encoded data removed]",
      "text/plain": [
       "<Figure size 720x360 with 1 Axes>"
      ]
     },
     "metadata": {},
     "output_type": "display_data"
    },
    {
     "data": {
      "image/png": "[encoded data removed]",
      "text/plain": [
       "<Figure size 720x360 with 1 Axes>"
      ]
     },
     "metadata": {},
     "output_type": "display_data"
    },
    {
     "data": {
      "image/png": "[encoded data removed]",
      "text/plain": [
       "<Figure size 720x360 with 1 Axes>"
      ]
     },
     "metadata": {},
     "output_type": "display_data"
    },
    {
     "data": {
      "image/png": "[encoded data removed]",
      "text/plain": [
       "<Figure size 720x360 with 1 Axes>"
      ]
     },
     "metadata": {},
     "output_type": "display_data"
    },
    {
     "data": {
      "image/png": "[encoded data removed]",
      "text/plain": [
       "<Figure size 720x360 with 1 Axes>"
      ]
     },
     "metadata": {},
     "output_type": "display_data"
    }
   ],
   "source": [
    "for column in ['city', 'gender', 'products', 'credit_card', 'loyalty', 'churn']:\n",
    "    plt.figure(figsize=(10, 5))\n",
    "    data.groupby('churn')[column].hist()\n",
    "    plt.title('Распределение признака '+column, fontsize=15)\n",
    "    plt.xlabel(column, fontsize=18)\n",
    "    plt.ylabel('Количество клиентов', fontsize=15)\n",
    "    plt.legend(['Оставшиеся', 'Отток']);"
   ]
  },
  {
   "cell_type": "markdown",
   "metadata": {},
   "source": [
    "Рассмотрим категориальные признаки подробнее, построив тепловые карты:"
   ]
  },
  {
   "cell_type": "code",
   "execution_count": 21,
   "metadata": {},
   "outputs": [
    {
     "data": {
      "image/png": "[encoded data removed]",
      "text/plain": [
       "<Figure size 1296x144 with 2 Axes>"
      ]
     },
     "metadata": {},
     "output_type": "display_data"
    },
    {
     "data": {
      "image/png": "[encoded data removed]",
      "text/plain": [
       "<Figure size 1296x144 with 2 Axes>"
      ]
     },
     "metadata": {},
     "output_type": "display_data"
    },
    {
     "data": {
      "image/png": "[encoded data removed]",
      "text/plain": [
       "<Figure size 1296x144 with 2 Axes>"
      ]
     },
     "metadata": {},
     "output_type": "display_data"
    },
    {
     "data": {
      "image/png": "[encoded data removed]",
      "text/plain": [
       "<Figure size 1296x144 with 2 Axes>"
      ]
     },
     "metadata": {},
     "output_type": "display_data"
    },
    {
     "data": {
      "image/png": "[encoded data removed]",
      "text/plain": [
       "<Figure size 1296x144 with 2 Axes>"
      ]
     },
     "metadata": {},
     "output_type": "display_data"
    },
    {
     "data": {
      "image/png": "[encoded data removed]",
      "text/plain": [
       "<Figure size 1296x144 with 2 Axes>"
      ]
     },
     "metadata": {},
     "output_type": "display_data"
    }
   ],
   "source": [
    "for column in ['objects', 'city', 'gender', 'products', 'credit_card', 'loyalty']:\n",
    "    data_heatmap = data.pivot_table(index='churn',\n",
    "                                    columns=column,\n",
    "                                    values='user_id',\n",
    "                                    aggfunc='count')      \n",
    "            \n",
    "    plt.figure(figsize=(18, 2))\n",
    "    sns.heatmap(data_heatmap, cmap='coolwarm', annot=True, fmt='.0f')\n",
    "    plt.title('Тепловая карта '+column, fontsize=15)\n",
    "    plt.ylabel('Отток', fontsize=15)"
   ]
  },
  {
   "cell_type": "markdown",
   "metadata": {},
   "source": [
    "**Выводы:**\n",
    "\n",
    "- Среди остающихся клиентов минимальнй балл скоринга - 400 (при нижней границе в 300 баллов), пиковые значения - от 650 до 700; у клиентов в оттоке пиковые значения от 620 до 670, далее идет спад. Наблюдается аномальный рост количества клиентов с макс.850 баллами в обеих группах;\n",
    "- Можно утверждать, что клиенты склонные к оттоку старше (примерно + 10 лет). В возрасте от 50 до 60 лет количество клиентов, склонных к оттоку, больше, чем остающихся;\n",
    "- Клиентов с 0 и 10 объектами в собственности меньше всего, в целом от количества объектов отток малозависим - по всем объектам процент оттока примерно 20%, самый высокий - у владельцев 1 объекта в собственности - 23%;\n",
    "- Распределнеи двух групп по количеству средств на счете (баланс) практически одинаковое, в расчет не попадают клиенты с пустым балансом(пропущенными значениями);\n",
    "- Зарплата распределена равномерно, нет явно выделяющихся групп зарплат - обычно при рассмотрении такого параметра как зарплата, ожидается обратная зависимость - чем больше з/п, тем меньшее количество клиентов;\n",
    "- Самые лояльные Банку клиенты проживают в Ярославле (16%), за ним следует Рыбинск(17%), более всего склонные к уходу - в Ростове Великом, 32% от всех клиентов в этом городе покинули Банк;\n",
    "- Женщины более склонны к уходу из Банка - 25% попало в отток, в то время как у мужчин процент оттока составляет 16%;\n",
    "- Самые лояльные Банку клиенты - те, кто пользуется 2 банковскими продуктами, у тех же, кто пользуется 3 продуктами - 83% оттока, а 4 продуктами - 100 % оттока;\n",
    "- Наличие кредитки не влияет на отток - 20-21% оттока в обеих группах;\n",
    "- Неактивные клиенты чаще уходят в отток - из них 27% ушли, среди активных - 14%"
   ]
  },
  {
   "cell_type": "markdown",
   "metadata": {},
   "source": [
    "### Корреляционный анализ"
   ]
  },
  {
   "cell_type": "markdown",
   "metadata": {},
   "source": [
    "Построим матрицу корреляций между параметрами и оттоком.    \n",
    "В том числе посмотрим корреляцию между категориальной переменной \"Город\", для этого необходимо закодировать параметр города.      \n",
    "Применим метод get_dummies:\n"
   ]
  },
  {
   "cell_type": "code",
   "execution_count": 22,
   "metadata": {},
   "outputs": [
    {
     "data": {
      "text/html": [
       "<div>\n",
       "<style scoped>\n",
       "    .dataframe tbody tr th:only-of-type {\n",
       "        vertical-align: middle;\n",
       "    }\n",
       "\n",
       "    .dataframe tbody tr th {\n",
       "        vertical-align: top;\n",
       "    }\n",
       "\n",
       "    .dataframe thead th {\n",
       "        text-align: right;\n",
       "    }\n",
       "</style>\n",
       "<table border=\"1\" class=\"dataframe\">\n",
       "  <thead>\n",
       "    <tr style=\"text-align: right;\">\n",
       "      <th></th>\n",
       "      <th>user_id</th>\n",
       "      <th>score</th>\n",
       "      <th>gender</th>\n",
       "      <th>age</th>\n",
       "      <th>objects</th>\n",
       "      <th>balance</th>\n",
       "      <th>products</th>\n",
       "      <th>credit_card</th>\n",
       "      <th>loyalty</th>\n",
       "      <th>estimated_salary</th>\n",
       "      <th>churn</th>\n",
       "      <th>city_Ростов Великий</th>\n",
       "      <th>city_Рыбинск</th>\n",
       "      <th>city_Ярославль</th>\n",
       "    </tr>\n",
       "  </thead>\n",
       "  <tbody>\n",
       "    <tr>\n",
       "      <th>0</th>\n",
       "      <td>15677338</td>\n",
       "      <td>619</td>\n",
       "      <td>0</td>\n",
       "      <td>42</td>\n",
       "      <td>2</td>\n",
       "      <td>NaN</td>\n",
       "      <td>1</td>\n",
       "      <td>1</td>\n",
       "      <td>1</td>\n",
       "      <td>101,348.88</td>\n",
       "      <td>1</td>\n",
       "      <td>0</td>\n",
       "      <td>0</td>\n",
       "      <td>1</td>\n",
       "    </tr>\n",
       "    <tr>\n",
       "      <th>1</th>\n",
       "      <td>15690047</td>\n",
       "      <td>608</td>\n",
       "      <td>0</td>\n",
       "      <td>41</td>\n",
       "      <td>1</td>\n",
       "      <td>83,807.86</td>\n",
       "      <td>1</td>\n",
       "      <td>0</td>\n",
       "      <td>1</td>\n",
       "      <td>112,542.58</td>\n",
       "      <td>0</td>\n",
       "      <td>0</td>\n",
       "      <td>1</td>\n",
       "      <td>0</td>\n",
       "    </tr>\n",
       "    <tr>\n",
       "      <th>2</th>\n",
       "      <td>15662040</td>\n",
       "      <td>502</td>\n",
       "      <td>0</td>\n",
       "      <td>42</td>\n",
       "      <td>8</td>\n",
       "      <td>159,660.80</td>\n",
       "      <td>3</td>\n",
       "      <td>1</td>\n",
       "      <td>0</td>\n",
       "      <td>113,931.57</td>\n",
       "      <td>1</td>\n",
       "      <td>0</td>\n",
       "      <td>0</td>\n",
       "      <td>1</td>\n",
       "    </tr>\n",
       "    <tr>\n",
       "      <th>3</th>\n",
       "      <td>15744090</td>\n",
       "      <td>699</td>\n",
       "      <td>0</td>\n",
       "      <td>39</td>\n",
       "      <td>1</td>\n",
       "      <td>NaN</td>\n",
       "      <td>2</td>\n",
       "      <td>0</td>\n",
       "      <td>0</td>\n",
       "      <td>93,826.63</td>\n",
       "      <td>0</td>\n",
       "      <td>0</td>\n",
       "      <td>0</td>\n",
       "      <td>1</td>\n",
       "    </tr>\n",
       "    <tr>\n",
       "      <th>4</th>\n",
       "      <td>15780624</td>\n",
       "      <td>850</td>\n",
       "      <td>0</td>\n",
       "      <td>43</td>\n",
       "      <td>2</td>\n",
       "      <td>125,510.82</td>\n",
       "      <td>1</td>\n",
       "      <td>1</td>\n",
       "      <td>1</td>\n",
       "      <td>79,084.10</td>\n",
       "      <td>0</td>\n",
       "      <td>0</td>\n",
       "      <td>1</td>\n",
       "      <td>0</td>\n",
       "    </tr>\n",
       "    <tr>\n",
       "      <th>...</th>\n",
       "      <td>...</td>\n",
       "      <td>...</td>\n",
       "      <td>...</td>\n",
       "      <td>...</td>\n",
       "      <td>...</td>\n",
       "      <td>...</td>\n",
       "      <td>...</td>\n",
       "      <td>...</td>\n",
       "      <td>...</td>\n",
       "      <td>...</td>\n",
       "      <td>...</td>\n",
       "      <td>...</td>\n",
       "      <td>...</td>\n",
       "      <td>...</td>\n",
       "    </tr>\n",
       "    <tr>\n",
       "      <th>9995</th>\n",
       "      <td>15648965</td>\n",
       "      <td>771</td>\n",
       "      <td>1</td>\n",
       "      <td>39</td>\n",
       "      <td>5</td>\n",
       "      <td>NaN</td>\n",
       "      <td>2</td>\n",
       "      <td>1</td>\n",
       "      <td>0</td>\n",
       "      <td>96,270.64</td>\n",
       "      <td>0</td>\n",
       "      <td>0</td>\n",
       "      <td>0</td>\n",
       "      <td>1</td>\n",
       "    </tr>\n",
       "    <tr>\n",
       "      <th>9996</th>\n",
       "      <td>15612628</td>\n",
       "      <td>516</td>\n",
       "      <td>1</td>\n",
       "      <td>35</td>\n",
       "      <td>10</td>\n",
       "      <td>57,369.61</td>\n",
       "      <td>1</td>\n",
       "      <td>1</td>\n",
       "      <td>1</td>\n",
       "      <td>101,699.77</td>\n",
       "      <td>0</td>\n",
       "      <td>0</td>\n",
       "      <td>0</td>\n",
       "      <td>1</td>\n",
       "    </tr>\n",
       "    <tr>\n",
       "      <th>9997</th>\n",
       "      <td>15627268</td>\n",
       "      <td>709</td>\n",
       "      <td>0</td>\n",
       "      <td>36</td>\n",
       "      <td>7</td>\n",
       "      <td>NaN</td>\n",
       "      <td>1</td>\n",
       "      <td>0</td>\n",
       "      <td>1</td>\n",
       "      <td>42,085.58</td>\n",
       "      <td>1</td>\n",
       "      <td>0</td>\n",
       "      <td>0</td>\n",
       "      <td>1</td>\n",
       "    </tr>\n",
       "    <tr>\n",
       "      <th>9998</th>\n",
       "      <td>15725091</td>\n",
       "      <td>772</td>\n",
       "      <td>1</td>\n",
       "      <td>42</td>\n",
       "      <td>3</td>\n",
       "      <td>75,075.31</td>\n",
       "      <td>2</td>\n",
       "      <td>1</td>\n",
       "      <td>0</td>\n",
       "      <td>92,888.52</td>\n",
       "      <td>1</td>\n",
       "      <td>1</td>\n",
       "      <td>0</td>\n",
       "      <td>0</td>\n",
       "    </tr>\n",
       "    <tr>\n",
       "      <th>9999</th>\n",
       "      <td>15671055</td>\n",
       "      <td>792</td>\n",
       "      <td>0</td>\n",
       "      <td>28</td>\n",
       "      <td>4</td>\n",
       "      <td>130,142.79</td>\n",
       "      <td>1</td>\n",
       "      <td>1</td>\n",
       "      <td>0</td>\n",
       "      <td>38,190.78</td>\n",
       "      <td>0</td>\n",
       "      <td>0</td>\n",
       "      <td>0</td>\n",
       "      <td>1</td>\n",
       "    </tr>\n",
       "  </tbody>\n",
       "</table>\n",
       "<p>10000 rows × 14 columns</p>\n",
       "</div>"
      ],
      "text/plain": [
       "       user_id  score  gender  age  objects    balance  products  credit_card  \\\n",
       "0     15677338    619       0   42        2        NaN         1            1   \n",
       "1     15690047    608       0   41        1  83,807.86         1            0   \n",
       "2     15662040    502       0   42        8 159,660.80         3            1   \n",
       "3     15744090    699       0   39        1        NaN         2            0   \n",
       "4     15780624    850       0   43        2 125,510.82         1            1   \n",
       "...        ...    ...     ...  ...      ...        ...       ...          ...   \n",
       "9995  15648965    771       1   39        5        NaN         2            1   \n",
       "9996  15612628    516       1   35       10  57,369.61         1            1   \n",
       "9997  15627268    709       0   36        7        NaN         1            0   \n",
       "9998  15725091    772       1   42        3  75,075.31         2            1   \n",
       "9999  15671055    792       0   28        4 130,142.79         1            1   \n",
       "\n",
       "      loyalty  estimated_salary  churn  city_Ростов Великий  city_Рыбинск  \\\n",
       "0           1        101,348.88      1                    0             0   \n",
       "1           1        112,542.58      0                    0             1   \n",
       "2           0        113,931.57      1                    0             0   \n",
       "3           0         93,826.63      0                    0             0   \n",
       "4           1         79,084.10      0                    0             1   \n",
       "...       ...               ...    ...                  ...           ...   \n",
       "9995        0         96,270.64      0                    0             0   \n",
       "9996        1        101,699.77      0                    0             0   \n",
       "9997        1         42,085.58      1                    0             0   \n",
       "9998        0         92,888.52      1                    1             0   \n",
       "9999        0         38,190.78      0                    0             0   \n",
       "\n",
       "      city_Ярославль  \n",
       "0                  1  \n",
       "1                  0  \n",
       "2                  1  \n",
       "3                  1  \n",
       "4                  0  \n",
       "...              ...  \n",
       "9995               1  \n",
       "9996               1  \n",
       "9997               1  \n",
       "9998               0  \n",
       "9999               1  \n",
       "\n",
       "[10000 rows x 14 columns]"
      ]
     },
     "execution_count": 22,
     "metadata": {},
     "output_type": "execute_result"
    }
   ],
   "source": [
    "data = pd.get_dummies(data, columns=['city'])\n",
    "data "
   ]
  },
  {
   "cell_type": "code",
   "execution_count": 23,
   "metadata": {},
   "outputs": [
    {
     "data": {
      "image/png": "[encoded data removed]",
      "text/plain": [
       "<Figure size 1080x720 with 2 Axes>"
      ]
     },
     "metadata": {},
     "output_type": "display_data"
    }
   ],
   "source": [
    "corr_m = data.corr()\n",
    "plt.figure(figsize = (15,10))\n",
    "sns.heatmap(corr_m, square = True, annot = True, fmt = '0.2f', cmap= 'Greens', \n",
    "            linewidths=1, linecolor='black')\n",
    "plt.title('Корреляция между параметрами', fontsize=15);"
   ]
  },
  {
   "cell_type": "markdown",
   "metadata": {},
   "source": [
    "**Выводы:**\n",
    "- Нет явной зависимости оттока от какого-либо из признаков;\n",
    "- Больше всего на отток влияют: Возраст(0.29), Пол клиента(-0.11) и Активность клиента(-0.16).\n",
    "- Почти все остальные признаки имеют почти нулевую корреляцию, соответственно практически не влияют на отток - Баллы скоринга, Зарплата, Объекты в собственности, Количество банковских продуктов на клиента, пользутеся ли кредитной карточкой - у всех корреляция от -0.05 до 0.01.\n",
    "- **Из городов самая большая корреляция с оттоком у Ростова Великого (0.17), затем идут Ярославль (-0.10) и Рыбинск(-0.05)**\n",
    "- Существенной корреляции между параметром города и остальными признаками не наблюдается.\n"
   ]
  },
  {
   "cell_type": "markdown",
   "metadata": {},
   "source": [
    "## Выделение портрета клиентов"
   ]
  },
  {
   "cell_type": "markdown",
   "metadata": {},
   "source": [
    "### Портрет клиентов, склонных к уходу"
   ]
  },
  {
   "cell_type": "code",
   "execution_count": 24,
   "metadata": {},
   "outputs": [
    {
     "data": {
      "text/html": [
       "<div>\n",
       "<style scoped>\n",
       "    .dataframe tbody tr th:only-of-type {\n",
       "        vertical-align: middle;\n",
       "    }\n",
       "\n",
       "    .dataframe tbody tr th {\n",
       "        vertical-align: top;\n",
       "    }\n",
       "\n",
       "    .dataframe thead th {\n",
       "        text-align: right;\n",
       "    }\n",
       "</style>\n",
       "<table border=\"1\" class=\"dataframe\">\n",
       "  <thead>\n",
       "    <tr style=\"text-align: right;\">\n",
       "      <th></th>\n",
       "      <th>user_id</th>\n",
       "      <th>score</th>\n",
       "      <th>gender</th>\n",
       "      <th>age</th>\n",
       "      <th>objects</th>\n",
       "      <th>balance</th>\n",
       "      <th>products</th>\n",
       "      <th>credit_card</th>\n",
       "      <th>loyalty</th>\n",
       "      <th>estimated_salary</th>\n",
       "      <th>churn</th>\n",
       "    </tr>\n",
       "  </thead>\n",
       "  <tbody>\n",
       "    <tr>\n",
       "      <th>count</th>\n",
       "      <td>2,037.00</td>\n",
       "      <td>2,037.00</td>\n",
       "      <td>2,037.00</td>\n",
       "      <td>2,037.00</td>\n",
       "      <td>2,037.00</td>\n",
       "      <td>1,537.00</td>\n",
       "      <td>2,037.00</td>\n",
       "      <td>2,037.00</td>\n",
       "      <td>2,037.00</td>\n",
       "      <td>2,037.00</td>\n",
       "      <td>2,037.00</td>\n",
       "    </tr>\n",
       "    <tr>\n",
       "      <th>mean</th>\n",
       "      <td>15,732,787.96</td>\n",
       "      <td>645.35</td>\n",
       "      <td>0.44</td>\n",
       "      <td>44.84</td>\n",
       "      <td>4.93</td>\n",
       "      <td>120,746.97</td>\n",
       "      <td>1.48</td>\n",
       "      <td>0.70</td>\n",
       "      <td>0.36</td>\n",
       "      <td>101,465.68</td>\n",
       "      <td>1.00</td>\n",
       "    </tr>\n",
       "    <tr>\n",
       "      <th>std</th>\n",
       "      <td>72,692.62</td>\n",
       "      <td>100.32</td>\n",
       "      <td>0.50</td>\n",
       "      <td>9.76</td>\n",
       "      <td>2.94</td>\n",
       "      <td>30,555.19</td>\n",
       "      <td>0.80</td>\n",
       "      <td>0.46</td>\n",
       "      <td>0.48</td>\n",
       "      <td>57,912.42</td>\n",
       "      <td>0.00</td>\n",
       "    </tr>\n",
       "    <tr>\n",
       "      <th>min</th>\n",
       "      <td>15,608,442.00</td>\n",
       "      <td>350.00</td>\n",
       "      <td>0.00</td>\n",
       "      <td>18.00</td>\n",
       "      <td>0.00</td>\n",
       "      <td>3,768.69</td>\n",
       "      <td>1.00</td>\n",
       "      <td>0.00</td>\n",
       "      <td>0.00</td>\n",
       "      <td>11.58</td>\n",
       "      <td>1.00</td>\n",
       "    </tr>\n",
       "    <tr>\n",
       "      <th>25%</th>\n",
       "      <td>15,670,096.00</td>\n",
       "      <td>578.00</td>\n",
       "      <td>0.00</td>\n",
       "      <td>38.00</td>\n",
       "      <td>2.00</td>\n",
       "      <td>103,700.69</td>\n",
       "      <td>1.00</td>\n",
       "      <td>0.00</td>\n",
       "      <td>0.00</td>\n",
       "      <td>51,907.72</td>\n",
       "      <td>1.00</td>\n",
       "    </tr>\n",
       "    <tr>\n",
       "      <th>50%</th>\n",
       "      <td>15,731,699.00</td>\n",
       "      <td>646.00</td>\n",
       "      <td>0.00</td>\n",
       "      <td>45.00</td>\n",
       "      <td>5.00</td>\n",
       "      <td>119,948.09</td>\n",
       "      <td>1.00</td>\n",
       "      <td>1.00</td>\n",
       "      <td>0.00</td>\n",
       "      <td>102,460.84</td>\n",
       "      <td>1.00</td>\n",
       "    </tr>\n",
       "    <tr>\n",
       "      <th>75%</th>\n",
       "      <td>15,795,828.00</td>\n",
       "      <td>716.00</td>\n",
       "      <td>1.00</td>\n",
       "      <td>51.00</td>\n",
       "      <td>8.00</td>\n",
       "      <td>137,986.58</td>\n",
       "      <td>2.00</td>\n",
       "      <td>1.00</td>\n",
       "      <td>1.00</td>\n",
       "      <td>152,422.91</td>\n",
       "      <td>1.00</td>\n",
       "    </tr>\n",
       "    <tr>\n",
       "      <th>max</th>\n",
       "      <td>15,858,392.00</td>\n",
       "      <td>850.00</td>\n",
       "      <td>1.00</td>\n",
       "      <td>84.00</td>\n",
       "      <td>10.00</td>\n",
       "      <td>250,898.09</td>\n",
       "      <td>4.00</td>\n",
       "      <td>1.00</td>\n",
       "      <td>1.00</td>\n",
       "      <td>199,808.10</td>\n",
       "      <td>1.00</td>\n",
       "    </tr>\n",
       "  </tbody>\n",
       "</table>\n",
       "</div>"
      ],
      "text/plain": [
       "            user_id    score   gender      age  objects    balance  products  \\\n",
       "count      2,037.00 2,037.00 2,037.00 2,037.00 2,037.00   1,537.00  2,037.00   \n",
       "mean  15,732,787.96   645.35     0.44    44.84     4.93 120,746.97      1.48   \n",
       "std       72,692.62   100.32     0.50     9.76     2.94  30,555.19      0.80   \n",
       "min   15,608,442.00   350.00     0.00    18.00     0.00   3,768.69      1.00   \n",
       "25%   15,670,096.00   578.00     0.00    38.00     2.00 103,700.69      1.00   \n",
       "50%   15,731,699.00   646.00     0.00    45.00     5.00 119,948.09      1.00   \n",
       "75%   15,795,828.00   716.00     1.00    51.00     8.00 137,986.58      2.00   \n",
       "max   15,858,392.00   850.00     1.00    84.00    10.00 250,898.09      4.00   \n",
       "\n",
       "       credit_card  loyalty  estimated_salary    churn  \n",
       "count     2,037.00 2,037.00          2,037.00 2,037.00  \n",
       "mean          0.70     0.36        101,465.68     1.00  \n",
       "std           0.46     0.48         57,912.42     0.00  \n",
       "min           0.00     0.00             11.58     1.00  \n",
       "25%           0.00     0.00         51,907.72     1.00  \n",
       "50%           1.00     0.00        102,460.84     1.00  \n",
       "75%           1.00     1.00        152,422.91     1.00  \n",
       "max           1.00     1.00        199,808.10     1.00  "
      ]
     },
     "execution_count": 24,
     "metadata": {},
     "output_type": "execute_result"
    }
   ],
   "source": [
    "churn_1.describe()"
   ]
  },
  {
   "cell_type": "markdown",
   "metadata": {},
   "source": [
    "- Проживают в г. Ростов Великий;\n",
    "- От 40 лет (старше в среднем на 7 лет (по медиане - разница в 9 лет);\n",
    "- Пол: преемущественно женский;\n",
    "- Количество используемых банковских продуктов - 1, 3 или 4. Причем те, у кого 4 продукта - 100% показатель оттока;\n",
    "- Не активные клиенты;\n",
    "- Средний размер баланса - 119 948 руб. \n",
    "- Средняя зарплата - 102 460 руб. (выше на 2815 руб.-  несущественная разница)"
   ]
  },
  {
   "cell_type": "markdown",
   "metadata": {},
   "source": [
    "### Портрет клиентов, не склонных к уходу"
   ]
  },
  {
   "cell_type": "code",
   "execution_count": 25,
   "metadata": {},
   "outputs": [
    {
     "data": {
      "text/html": [
       "<div>\n",
       "<style scoped>\n",
       "    .dataframe tbody tr th:only-of-type {\n",
       "        vertical-align: middle;\n",
       "    }\n",
       "\n",
       "    .dataframe tbody tr th {\n",
       "        vertical-align: top;\n",
       "    }\n",
       "\n",
       "    .dataframe thead th {\n",
       "        text-align: right;\n",
       "    }\n",
       "</style>\n",
       "<table border=\"1\" class=\"dataframe\">\n",
       "  <thead>\n",
       "    <tr style=\"text-align: right;\">\n",
       "      <th></th>\n",
       "      <th>user_id</th>\n",
       "      <th>score</th>\n",
       "      <th>gender</th>\n",
       "      <th>age</th>\n",
       "      <th>objects</th>\n",
       "      <th>balance</th>\n",
       "      <th>products</th>\n",
       "      <th>credit_card</th>\n",
       "      <th>loyalty</th>\n",
       "      <th>estimated_salary</th>\n",
       "      <th>churn</th>\n",
       "    </tr>\n",
       "  </thead>\n",
       "  <tbody>\n",
       "    <tr>\n",
       "      <th>count</th>\n",
       "      <td>7,963.00</td>\n",
       "      <td>7,963.00</td>\n",
       "      <td>7,963.00</td>\n",
       "      <td>7,963.00</td>\n",
       "      <td>7,963.00</td>\n",
       "      <td>4,846.00</td>\n",
       "      <td>7,963.00</td>\n",
       "      <td>7,963.00</td>\n",
       "      <td>7,963.00</td>\n",
       "      <td>7,963.00</td>\n",
       "      <td>7,963.00</td>\n",
       "    </tr>\n",
       "    <tr>\n",
       "      <th>mean</th>\n",
       "      <td>15,733,903.88</td>\n",
       "      <td>651.85</td>\n",
       "      <td>0.57</td>\n",
       "      <td>37.41</td>\n",
       "      <td>5.03</td>\n",
       "      <td>119,535.86</td>\n",
       "      <td>1.54</td>\n",
       "      <td>0.71</td>\n",
       "      <td>0.55</td>\n",
       "      <td>99,738.39</td>\n",
       "      <td>0.00</td>\n",
       "    </tr>\n",
       "    <tr>\n",
       "      <th>std</th>\n",
       "      <td>71,744.23</td>\n",
       "      <td>95.65</td>\n",
       "      <td>0.49</td>\n",
       "      <td>10.13</td>\n",
       "      <td>2.88</td>\n",
       "      <td>29,944.93</td>\n",
       "      <td>0.51</td>\n",
       "      <td>0.46</td>\n",
       "      <td>0.50</td>\n",
       "      <td>57,405.59</td>\n",
       "      <td>0.00</td>\n",
       "    </tr>\n",
       "    <tr>\n",
       "      <th>min</th>\n",
       "      <td>15,608,437.00</td>\n",
       "      <td>405.00</td>\n",
       "      <td>0.00</td>\n",
       "      <td>18.00</td>\n",
       "      <td>0.00</td>\n",
       "      <td>14,262.80</td>\n",
       "      <td>1.00</td>\n",
       "      <td>0.00</td>\n",
       "      <td>0.00</td>\n",
       "      <td>90.07</td>\n",
       "      <td>0.00</td>\n",
       "    </tr>\n",
       "    <tr>\n",
       "      <th>25%</th>\n",
       "      <td>15,671,554.50</td>\n",
       "      <td>585.00</td>\n",
       "      <td>0.00</td>\n",
       "      <td>31.00</td>\n",
       "      <td>3.00</td>\n",
       "      <td>99,118.23</td>\n",
       "      <td>1.00</td>\n",
       "      <td>0.00</td>\n",
       "      <td>0.00</td>\n",
       "      <td>50,783.49</td>\n",
       "      <td>0.00</td>\n",
       "    </tr>\n",
       "    <tr>\n",
       "      <th>50%</th>\n",
       "      <td>15,734,279.00</td>\n",
       "      <td>653.00</td>\n",
       "      <td>1.00</td>\n",
       "      <td>36.00</td>\n",
       "      <td>5.00</td>\n",
       "      <td>119,791.21</td>\n",
       "      <td>2.00</td>\n",
       "      <td>1.00</td>\n",
       "      <td>1.00</td>\n",
       "      <td>99,645.04</td>\n",
       "      <td>0.00</td>\n",
       "    </tr>\n",
       "    <tr>\n",
       "      <th>75%</th>\n",
       "      <td>15,796,088.50</td>\n",
       "      <td>718.00</td>\n",
       "      <td>1.00</td>\n",
       "      <td>41.00</td>\n",
       "      <td>7.00</td>\n",
       "      <td>139,747.40</td>\n",
       "      <td>2.00</td>\n",
       "      <td>1.00</td>\n",
       "      <td>1.00</td>\n",
       "      <td>148,609.96</td>\n",
       "      <td>0.00</td>\n",
       "    </tr>\n",
       "    <tr>\n",
       "      <th>max</th>\n",
       "      <td>15,858,426.00</td>\n",
       "      <td>850.00</td>\n",
       "      <td>1.00</td>\n",
       "      <td>92.00</td>\n",
       "      <td>10.00</td>\n",
       "      <td>221,532.80</td>\n",
       "      <td>3.00</td>\n",
       "      <td>1.00</td>\n",
       "      <td>1.00</td>\n",
       "      <td>199,992.48</td>\n",
       "      <td>0.00</td>\n",
       "    </tr>\n",
       "  </tbody>\n",
       "</table>\n",
       "</div>"
      ],
      "text/plain": [
       "            user_id    score   gender      age  objects    balance  products  \\\n",
       "count      7,963.00 7,963.00 7,963.00 7,963.00 7,963.00   4,846.00  7,963.00   \n",
       "mean  15,733,903.88   651.85     0.57    37.41     5.03 119,535.86      1.54   \n",
       "std       71,744.23    95.65     0.49    10.13     2.88  29,944.93      0.51   \n",
       "min   15,608,437.00   405.00     0.00    18.00     0.00  14,262.80      1.00   \n",
       "25%   15,671,554.50   585.00     0.00    31.00     3.00  99,118.23      1.00   \n",
       "50%   15,734,279.00   653.00     1.00    36.00     5.00 119,791.21      2.00   \n",
       "75%   15,796,088.50   718.00     1.00    41.00     7.00 139,747.40      2.00   \n",
       "max   15,858,426.00   850.00     1.00    92.00    10.00 221,532.80      3.00   \n",
       "\n",
       "       credit_card  loyalty  estimated_salary    churn  \n",
       "count     7,963.00 7,963.00          7,963.00 7,963.00  \n",
       "mean          0.71     0.55         99,738.39     0.00  \n",
       "std           0.46     0.50         57,405.59     0.00  \n",
       "min           0.00     0.00             90.07     0.00  \n",
       "25%           0.00     0.00         50,783.49     0.00  \n",
       "50%           1.00     1.00         99,645.04     0.00  \n",
       "75%           1.00     1.00        148,609.96     0.00  \n",
       "max           1.00     1.00        199,992.48     0.00  "
      ]
     },
     "execution_count": 25,
     "metadata": {},
     "output_type": "execute_result"
    }
   ],
   "source": [
    "churn_0.describe()"
   ]
  },
  {
   "cell_type": "markdown",
   "metadata": {},
   "source": [
    "- Проживают в г. Рыбинск и г. Ярославль;\n",
    "- Возраст - от 30 до 40 лет;\n",
    "- Пол: преемущественно мужской;\n",
    "- Количество используемых банковских продуктов - 2 (92% лояльных Банку клиентов);\n",
    "- Активные клиенты (86% лояльных клиентов);\n",
    "- Средний размер баланса - 119 791 руб. (меньше на 157 руб. - несущественное различие);\n",
    "- Средняя зарплата - 99 645руб. (меньше на 2815 руб.)"
   ]
  },
  {
   "cell_type": "markdown",
   "metadata": {},
   "source": [
    "## Формулировка и проверка гипотез"
   ]
  },
  {
   "cell_type": "markdown",
   "metadata": {},
   "source": [
    "### Гипотеза о различии доходов между двумя группами (отток и оставшиеся клиенты)"
   ]
  },
  {
   "cell_type": "markdown",
   "metadata": {},
   "source": [
    "**Нулевая гипотеза**: Доходы двух групп клиентов (отток и оставшиеся клиенты) равны.    \n",
    "**Обратная гипотеза**: Доходы двух групп клиентов (отток и оставшиеся клиенты) не равны.  "
   ]
  },
  {
   "cell_type": "markdown",
   "metadata": {},
   "source": [
    "График распределения доходов клиентов для обеих групп:"
   ]
  },
  {
   "cell_type": "code",
   "execution_count": 26,
   "metadata": {},
   "outputs": [
    {
     "data": {
      "image/png": "[encoded data removed]",
      "text/plain": [
       "<Figure size 1080x576 with 1 Axes>"
      ]
     },
     "metadata": {},
     "output_type": "display_data"
    }
   ],
   "source": [
    "plt.figure(figsize=(15, 8))\n",
    "sns.distplot(churn_0['estimated_salary'])\n",
    "sns.distplot(churn_1['estimated_salary'],bins = 30)\n",
    "plt.title('Распределение доходов клиентов (salary)', fontsize=15)\n",
    "plt.ylabel('Количество клиентов', fontsize=15)\n",
    "plt.legend(['Оставшиеся', 'Отток']);"
   ]
  },
  {
   "cell_type": "markdown",
   "metadata": {},
   "source": [
    "Распределение не нормальное. Проверим гипотезу о различии доходов между двумя группами (отток и оставшиеся клиенты) при помощи U-критерия Манна-Уитни."
   ]
  },
  {
   "cell_type": "code",
   "execution_count": 27,
   "metadata": {},
   "outputs": [
    {
     "name": "stdout",
     "output_type": "stream",
     "text": [
      "p-value:  0.22705150930153783\n",
      "Не получилось отвергнуть нулевую гипотезу:\n",
      "Между двумя группами (отток и оставшиеся клиенты) нет статистически значимых различий в доходах.\n"
     ]
    }
   ],
   "source": [
    "alpha = 0.05\n",
    "\n",
    "pvalue = st.mannwhitneyu(churn_0['estimated_salary'], churn_1['estimated_salary']).pvalue\n",
    "\n",
    "print('p-value: ', pvalue)\n",
    "\n",
    "if (pvalue < alpha):\n",
    "    print('Отвергаем нулевую гипотезу: Между двумя группами (отток и оставшиеся клиенты) есть статистически значимые различия в доходах.')\n",
    "else:\n",
    "    print('Не получилось отвергнуть нулевую гипотезу:\\nМежду двумя группами (отток и оставшиеся клиенты) нет статистически значимых различий в доходах.')"
   ]
  },
  {
   "cell_type": "markdown",
   "metadata": {},
   "source": [
    "**Вывод:**    \n",
    "Новых данных относительно выводов из предыдущих этапов анализа не получено - нулевую гипотезу о том, что между двумя группами (отток и оставшиеся клиенты) нет статистически значимых различий в доходах, отвергнуть не удалось."
   ]
  },
  {
   "cell_type": "markdown",
   "metadata": {},
   "source": [
    "### Гипотеза о различии в возрасте между двумя группами (отток и оставшиеся клиенты)"
   ]
  },
  {
   "cell_type": "markdown",
   "metadata": {},
   "source": [
    "**Нулевая гипотеза**: Между двумя группами (отток и оставшиеся клиенты) нет статистически значимых различий в возрасте      \n",
    "**Обратная гипотеза**: Между двумя группами (отток и оставшиеся клиенты) есть статистически значимые различия в возрасте"
   ]
  },
  {
   "cell_type": "markdown",
   "metadata": {},
   "source": [
    "График распределения возраста клиентов для обеих групп:"
   ]
  },
  {
   "cell_type": "code",
   "execution_count": 28,
   "metadata": {},
   "outputs": [
    {
     "data": {
      "image/png": "[encoded data removed]",
      "text/plain": [
       "<Figure size 1080x576 with 1 Axes>"
      ]
     },
     "metadata": {},
     "output_type": "display_data"
    }
   ],
   "source": [
    "plt.figure(figsize=(15, 8))\n",
    "sns.distplot(churn_0['age'])\n",
    "sns.distplot(churn_1['age'])\n",
    "plt.title('Распределение клиентов по возрасту (age)', fontsize=15)\n",
    "plt.ylabel('Количество клиентов', fontsize=15)\n",
    "plt.legend(['Оставшиеся', 'Отток']);"
   ]
  },
  {
   "cell_type": "markdown",
   "metadata": {},
   "source": [
    "Наблюдается перекос влево в распределении среди оставшихся - клиенты в возрасте 20-40 склонны оставаться в банке, тогда как клиенты старше 60 лет склонны к оттоку.      \n",
    "Проверим гипотезу о различии в возрасте между двумя группами (отток и оставшиеся клиенты) также при помощи U-критерия Манна-Уитни:"
   ]
  },
  {
   "cell_type": "code",
   "execution_count": 29,
   "metadata": {},
   "outputs": [
    {
     "name": "stdout",
     "output_type": "stream",
     "text": [
      "p-значение:  3.2104014319371675e-230\n",
      "Отвергаем нулевую гипотезу:\n",
      "Между двумя группами (отток и оставшиеся клиенты) есть статистически значимые различия в возрасте.\n"
     ]
    }
   ],
   "source": [
    "alpha = 0.05\n",
    "\n",
    "pvalue = st.mannwhitneyu(churn_0['age'], churn_1['age']).pvalue\n",
    "\n",
    "print('p-значение: ', pvalue)\n",
    "\n",
    "if (pvalue < alpha):\n",
    "    print(\"Отвергаем нулевую гипотезу:\\nМежду двумя группами (отток и оставшиеся клиенты) есть статистически значимые различия в возрасте.\")\n",
    "else:\n",
    "    print(\"Не получилось отвергнуть нулевую гипотезу:\\nМежду двумя группами (отток и оставшиеся клиенты) нет статистически значимых различий в возрасте.\")"
   ]
  },
  {
   "cell_type": "markdown",
   "metadata": {},
   "source": [
    "**Вывод:**    \n",
    "Отвергаем нулевую гипотезу: Между двумя группами (отток и оставшиеся клиенты) есть статистически значимые различия в возрасте, что подтверждается в п. 5.3 исследования:\n",
    "\n",
    "- Средний возраст клиентов в оттоке - 44.8 года, медианный - 45 лет;\n",
    "- Средний возраст оставшихся клиентов - 37.4 лет, медианный - 36 лет"
   ]
  },
  {
   "cell_type": "markdown",
   "metadata": {},
   "source": [
    "## Общие выводы и рекомендации"
   ]
  },
  {
   "cell_type": "markdown",
   "metadata": {},
   "source": [
    "**В результате предобработки данных:**"
   ]
  },
  {
   "cell_type": "markdown",
   "metadata": {},
   "source": [
    "- все 10000 строк - это уникальные, не повторяющиеся клиенты;\n",
    "- типы данных корректны, замен / удалений строк не производилось.  \n",
    "- приведены названия столбцов к нижнему регистру;\n",
    "- скорректированы названия столбцов;\n",
    "- дубликатов не обнаружено;\n",
    "- все данные, за исключением отсутствия нулевого баланса и необычайно низкой заработной платы являются нормальными;\n",
    "-  пропуски в столбце Balance   3617 строк или 36% оставлены без изменений - на основании предположения о том, что это ошибка при выгрузке из БД, которая подразумевает нулевой остаток на счете, либо отсуствие счета,  использвание клиентами только кредитных продуктов Банка."
   ]
  },
  {
   "cell_type": "markdown",
   "metadata": {},
   "source": [
    "**По результатам исследовательского анализа данных сформированы портреты клиентов:**\n"
   ]
  },
  {
   "cell_type": "markdown",
   "metadata": {},
   "source": [
    "Портрет клиентов, **склонных к уходу:**\n",
    "\n",
    "- Проживают в г.Ростов Великий;\n",
    "- От 40 лет (старше в среднем на 7 лет (по медиане - разница в 9 лет);\n",
    "- Пол: преемущественно женский;\n",
    "- Количество используемых банковских продуктов - 1, 3 или 4. Причем те, у кого 4 продукта - 100% показатель оттока;\n",
    "- Не активные клиенты;\n",
    "- Средний размер баланса - 119 948 руб. \n",
    "- Средняя зарплата - 102 460 руб. (выше на 2815 руб.-  несущественная разница)\n",
    "\n",
    "\n",
    "Портрет клиентов, **не склонных к уходу:**\n",
    "\n",
    "- Проживают в г.Рыбинск и г.Ярославль;\n",
    "- Возраст - от 30 до 40 лет;\n",
    "- Пол: преемущественно мужской;\n",
    "- Количество используемых банковских продуктов - 2 (92% лояльных Банку клиентов);\n",
    "- Активные клиенты (86% лояльных клиентов);\n",
    "- Средний размер баланса - 119 791 руб. (меньше на 157 руб. - несущественное различие);\n",
    "- Средняя зарплата - 99 645руб. (меньше на 2815 руб.)"
   ]
  },
  {
   "cell_type": "markdown",
   "metadata": {},
   "source": [
    "**Сформулировано и проверены две гипотезы:**\n",
    "- Гипотеза №1 - о различии доходов между двумя группами (отток и оставшиеся клиенты)\n",
    "- Гипотеза №2 - о различии в возрасте между двумя группами (отток и оставшиеся клиенты)\n",
    "\n",
    "**Результат проверки Гипотезы №1:**    \n",
    "Новых данных относительно выводов из предыдущих этапов анализа не получено - нулевую гипотезу о том, что между двумя группами (отток и оставшиеся клиенты) нет статистически значимых различий в доходах, отвергнуть не удалось.\n",
    "\n",
    "**Результат проверки Гипотезы №2:**     \n",
    "Отвергаем нулевую гипотезу - между двумя группами (отток и оставшиеся клиенты) есть статистически значимые различия в возрасте, что подтверждается в п. 5.3 исследования:\n",
    "- Средний возраст клиентов в оттоке - 44.8 года, медианный - 45 лет;\n",
    "- Средний возраст оставшихся клиентов - 37.4 лет, медианный - 36 лет"
   ]
  },
  {
   "cell_type": "markdown",
   "metadata": {},
   "source": [
    "**Рекомендации по работе с клиентами в оттоке:**\n",
    "\n",
    "Уточнить корректность и принцип выгрузки данных - вопросы вызывают данные о подозрительно низких зарплатах и пропусках в столбце баланса;\n",
    "\n",
    "Разработка новых продуктов в г. Ростов Великий для возврата клиентов в оттоке и привлечения новых, в том числе работа с коммерческими структурами - предоставление кредитов, ипотеки, зарплатные проекты, льготные периоды в обслуживании дебетовых и кредитных карт и т.п. Разработать новые маркетинговые акции для привлечения клиентов, пересмотр действующих и запуск новых рекламных кампаний в городе.\n",
    "\n",
    "Необходимо придумать акции для женщин - например, программы скидок и кешбэка для популярных среди женщин магазинов (сети магазинов косметики и парфюмерии, салоны красоты, косметологические клиники и т.п.). Таким образом можно внедрить акции для удержания женщин, без разделения по гендерному признаку.\n",
    "\n",
    "Приоритизация работы с клиентами старше 40 лет;\n",
    "\n",
    "Улучшение условий обслуживания для клиентов с бОльшим количеством используемых продуктов - подарки, бонусы, возможности отсрочки платежей без последствий и т.д.\n",
    "\n",
    "Проанализировать работу филиалов и дополнительных офисов в Ростове Великом, в том числе качество и скорость обслуживания физлиц, факты закрытия отделений, количество и удобность месторасположения терминалов и банкоматов - в этом городе каждый третий клиент уходит в отток;\n",
    "\n",
    "Провести анализ конкурентов в г. Ростов Великий - возможно, отток связан с миграцией клиентов в конкурирующий банк;\n",
    "\n",
    "Разработать план мероприятий, нацеленных на своевременную профилактику и предотвращение оттока клиентов из банка;\n",
    "\n",
    "Разработать акции, повышающие активность среди клиентов - стимулирование расчетов физическими лицами безналичным способом с помощью программ кэшбэка, призовых и бонусов на основании частоты использования банковскими продуктами и т.д.;"
   ]
  }
 ],
 "metadata": {
  "ExecuteTimeLog": [
   {
    "duration": 59,
    "start_time": "2022-09-30T11:15:59.270Z"
   },
   {
    "duration": 3,
    "start_time": "2022-10-03T13:11:33.188Z"
   },
   {
    "duration": 72,
    "start_time": "2022-10-03T13:11:54.635Z"
   },
   {
    "duration": 1239,
    "start_time": "2022-10-03T13:16:25.370Z"
   },
   {
    "duration": 107,
    "start_time": "2022-10-03T13:16:54.526Z"
   },
   {
    "duration": 53,
    "start_time": "2022-10-03T13:17:22.494Z"
   },
   {
    "duration": 11,
    "start_time": "2022-10-03T13:17:33.054Z"
   },
   {
    "duration": 48,
    "start_time": "2022-10-03T13:17:51.176Z"
   },
   {
    "duration": 17,
    "start_time": "2022-10-03T13:24:40.219Z"
   },
   {
    "duration": 17,
    "start_time": "2022-10-03T13:24:58.656Z"
   },
   {
    "duration": 14,
    "start_time": "2022-10-03T13:25:15.336Z"
   },
   {
    "duration": 21,
    "start_time": "2022-10-03T13:25:18.762Z"
   },
   {
    "duration": 16,
    "start_time": "2022-10-03T13:25:22.473Z"
   },
   {
    "duration": 18,
    "start_time": "2022-10-03T13:25:32.047Z"
   },
   {
    "duration": 3,
    "start_time": "2022-10-03T13:28:11.509Z"
   },
   {
    "duration": 16,
    "start_time": "2022-10-03T13:28:18.252Z"
   },
   {
    "duration": 17,
    "start_time": "2022-10-03T13:28:37.381Z"
   },
   {
    "duration": 58,
    "start_time": "2022-10-03T13:29:40.588Z"
   },
   {
    "duration": 21,
    "start_time": "2022-10-03T13:30:23.987Z"
   },
   {
    "duration": 19,
    "start_time": "2022-10-03T13:30:27.956Z"
   },
   {
    "duration": 20,
    "start_time": "2022-10-03T13:30:34.035Z"
   },
   {
    "duration": 4,
    "start_time": "2022-10-03T13:31:22.475Z"
   },
   {
    "duration": 77,
    "start_time": "2022-10-03T13:34:01.027Z"
   },
   {
    "duration": 16,
    "start_time": "2022-10-03T13:36:37.358Z"
   },
   {
    "duration": 23,
    "start_time": "2022-10-03T13:37:41.300Z"
   },
   {
    "duration": 46,
    "start_time": "2022-10-03T13:38:15.462Z"
   },
   {
    "duration": 38,
    "start_time": "2022-10-03T13:38:30.214Z"
   },
   {
    "duration": 19,
    "start_time": "2022-10-03T13:54:09.402Z"
   },
   {
    "duration": 15,
    "start_time": "2022-10-03T13:54:21.567Z"
   },
   {
    "duration": 14,
    "start_time": "2022-10-03T13:57:28.661Z"
   },
   {
    "duration": 24,
    "start_time": "2022-10-03T13:57:41.956Z"
   },
   {
    "duration": 26,
    "start_time": "2022-10-03T13:57:55.380Z"
   },
   {
    "duration": 274,
    "start_time": "2022-10-03T13:58:04.644Z"
   },
   {
    "duration": 26,
    "start_time": "2022-10-03T13:58:08.213Z"
   },
   {
    "duration": 25,
    "start_time": "2022-10-03T13:58:18.549Z"
   },
   {
    "duration": 52,
    "start_time": "2022-10-03T13:59:06.565Z"
   },
   {
    "duration": 58,
    "start_time": "2022-10-03T14:00:08.500Z"
   },
   {
    "duration": 29,
    "start_time": "2022-10-03T14:00:25.827Z"
   },
   {
    "duration": 28,
    "start_time": "2022-10-03T14:34:49.697Z"
   },
   {
    "duration": 35,
    "start_time": "2022-10-03T14:34:59.636Z"
   },
   {
    "duration": 29,
    "start_time": "2022-10-03T14:35:04.968Z"
   },
   {
    "duration": 15,
    "start_time": "2022-10-03T14:35:06.809Z"
   },
   {
    "duration": 151,
    "start_time": "2022-10-04T07:04:10.497Z"
   },
   {
    "duration": 46,
    "start_time": "2022-10-04T07:04:34.581Z"
   },
   {
    "duration": 1331,
    "start_time": "2022-10-04T07:04:44.789Z"
   },
   {
    "duration": 102,
    "start_time": "2022-10-04T07:04:46.123Z"
   },
   {
    "duration": 1013,
    "start_time": "2022-10-04T07:04:46.229Z"
   },
   {
    "duration": 0,
    "start_time": "2022-10-04T07:04:47.244Z"
   },
   {
    "duration": 0,
    "start_time": "2022-10-04T07:04:47.247Z"
   },
   {
    "duration": 0,
    "start_time": "2022-10-04T07:04:47.248Z"
   },
   {
    "duration": 0,
    "start_time": "2022-10-04T07:04:47.249Z"
   },
   {
    "duration": 0,
    "start_time": "2022-10-04T07:04:47.250Z"
   },
   {
    "duration": 0,
    "start_time": "2022-10-04T07:04:47.251Z"
   },
   {
    "duration": 0,
    "start_time": "2022-10-04T07:04:47.252Z"
   },
   {
    "duration": 0,
    "start_time": "2022-10-04T07:04:47.253Z"
   },
   {
    "duration": 1,
    "start_time": "2022-10-04T07:04:47.254Z"
   },
   {
    "duration": 26,
    "start_time": "2022-10-04T07:04:52.792Z"
   },
   {
    "duration": 56,
    "start_time": "2022-10-04T07:05:01.809Z"
   },
   {
    "duration": 1081,
    "start_time": "2022-10-04T07:06:13.216Z"
   },
   {
    "duration": 1166,
    "start_time": "2022-10-04T07:06:38.749Z"
   },
   {
    "duration": 55,
    "start_time": "2022-10-04T07:06:39.917Z"
   },
   {
    "duration": 1116,
    "start_time": "2022-10-04T07:06:39.973Z"
   },
   {
    "duration": 0,
    "start_time": "2022-10-04T07:06:41.092Z"
   },
   {
    "duration": 0,
    "start_time": "2022-10-04T07:06:41.093Z"
   },
   {
    "duration": 0,
    "start_time": "2022-10-04T07:06:41.094Z"
   },
   {
    "duration": 0,
    "start_time": "2022-10-04T07:06:41.096Z"
   },
   {
    "duration": 0,
    "start_time": "2022-10-04T07:06:41.097Z"
   },
   {
    "duration": 0,
    "start_time": "2022-10-04T07:06:41.098Z"
   },
   {
    "duration": 0,
    "start_time": "2022-10-04T07:06:41.100Z"
   },
   {
    "duration": 0,
    "start_time": "2022-10-04T07:06:41.102Z"
   },
   {
    "duration": 0,
    "start_time": "2022-10-04T07:06:41.103Z"
   },
   {
    "duration": 0,
    "start_time": "2022-10-04T07:06:41.105Z"
   },
   {
    "duration": 24,
    "start_time": "2022-10-04T07:07:01.884Z"
   },
   {
    "duration": 19,
    "start_time": "2022-10-04T07:07:06.843Z"
   },
   {
    "duration": 38,
    "start_time": "2022-10-04T07:07:08.819Z"
   },
   {
    "duration": 5,
    "start_time": "2022-10-04T07:07:11.244Z"
   },
   {
    "duration": 48,
    "start_time": "2022-10-04T07:07:13.060Z"
   },
   {
    "duration": 17,
    "start_time": "2022-10-04T07:07:15.739Z"
   },
   {
    "duration": 31,
    "start_time": "2022-10-04T07:07:18.620Z"
   },
   {
    "duration": 37,
    "start_time": "2022-10-04T07:07:22.731Z"
   },
   {
    "duration": 21,
    "start_time": "2022-10-04T07:07:24.508Z"
   },
   {
    "duration": 55,
    "start_time": "2022-10-04T07:07:27.180Z"
   },
   {
    "duration": 17,
    "start_time": "2022-10-04T07:07:30.300Z"
   },
   {
    "duration": 16,
    "start_time": "2022-10-04T07:08:15.579Z"
   },
   {
    "duration": 45,
    "start_time": "2022-10-04T07:20:50.704Z"
   },
   {
    "duration": 8,
    "start_time": "2022-10-04T07:21:06.815Z"
   },
   {
    "duration": 67,
    "start_time": "2022-10-04T07:21:21.335Z"
   },
   {
    "duration": 13,
    "start_time": "2022-10-04T07:21:31.231Z"
   },
   {
    "duration": 78,
    "start_time": "2022-10-04T07:21:49.295Z"
   },
   {
    "duration": 17,
    "start_time": "2022-10-04T07:22:02.917Z"
   },
   {
    "duration": 12,
    "start_time": "2022-10-04T07:22:08.950Z"
   },
   {
    "duration": 49,
    "start_time": "2022-10-04T07:23:27.846Z"
   },
   {
    "duration": 12,
    "start_time": "2022-10-04T07:25:29.330Z"
   },
   {
    "duration": 3,
    "start_time": "2022-10-04T07:37:22.794Z"
   },
   {
    "duration": 1468,
    "start_time": "2022-10-05T14:32:27.504Z"
   },
   {
    "duration": 5,
    "start_time": "2022-10-05T14:32:32.829Z"
   },
   {
    "duration": 1282,
    "start_time": "2022-10-05T14:32:38.881Z"
   },
   {
    "duration": 97,
    "start_time": "2022-10-05T14:32:40.165Z"
   },
   {
    "duration": 26,
    "start_time": "2022-10-05T14:32:40.264Z"
   },
   {
    "duration": 19,
    "start_time": "2022-10-05T14:32:40.292Z"
   },
   {
    "duration": 43,
    "start_time": "2022-10-05T14:32:40.312Z"
   },
   {
    "duration": 5,
    "start_time": "2022-10-05T14:32:40.357Z"
   },
   {
    "duration": 71,
    "start_time": "2022-10-05T14:32:40.364Z"
   },
   {
    "duration": 17,
    "start_time": "2022-10-05T14:32:40.437Z"
   },
   {
    "duration": 66,
    "start_time": "2022-10-05T14:32:40.455Z"
   },
   {
    "duration": 36,
    "start_time": "2022-10-05T14:32:40.524Z"
   },
   {
    "duration": 17,
    "start_time": "2022-10-05T14:32:40.561Z"
   },
   {
    "duration": 88,
    "start_time": "2022-10-05T14:32:40.580Z"
   },
   {
    "duration": 17,
    "start_time": "2022-10-05T14:32:40.669Z"
   },
   {
    "duration": 36,
    "start_time": "2022-10-05T14:32:40.688Z"
   },
   {
    "duration": 16,
    "start_time": "2022-10-05T14:32:40.726Z"
   },
   {
    "duration": 12,
    "start_time": "2022-10-05T14:32:40.744Z"
   },
   {
    "duration": 115,
    "start_time": "2022-10-05T14:33:08.021Z"
   },
   {
    "duration": 7,
    "start_time": "2022-10-05T14:34:37.863Z"
   },
   {
    "duration": 2211,
    "start_time": "2022-10-05T14:35:25.146Z"
   },
   {
    "duration": 2182,
    "start_time": "2022-10-05T14:35:46.569Z"
   },
   {
    "duration": 2155,
    "start_time": "2022-10-05T14:36:05.609Z"
   },
   {
    "duration": 2247,
    "start_time": "2022-10-05T14:36:17.361Z"
   },
   {
    "duration": 5,
    "start_time": "2022-10-05T14:36:56.023Z"
   },
   {
    "duration": 2027,
    "start_time": "2022-10-05T14:37:05.161Z"
   },
   {
    "duration": 519,
    "start_time": "2022-10-05T14:37:38.575Z"
   },
   {
    "duration": 47,
    "start_time": "2022-10-05T14:37:59.215Z"
   },
   {
    "duration": 499,
    "start_time": "2022-10-05T14:38:03.967Z"
   },
   {
    "duration": 336,
    "start_time": "2022-10-05T14:38:06.845Z"
   },
   {
    "duration": 2106,
    "start_time": "2022-10-05T14:38:09.976Z"
   },
   {
    "duration": 6,
    "start_time": "2022-10-05T14:38:39.075Z"
   },
   {
    "duration": 1931,
    "start_time": "2022-10-05T14:38:43.959Z"
   },
   {
    "duration": 6,
    "start_time": "2022-10-05T14:39:16.909Z"
   },
   {
    "duration": 2198,
    "start_time": "2022-10-05T14:39:23.518Z"
   },
   {
    "duration": 5,
    "start_time": "2022-10-05T14:40:00.723Z"
   },
   {
    "duration": 2091,
    "start_time": "2022-10-05T14:40:05.470Z"
   },
   {
    "duration": 5,
    "start_time": "2022-10-05T14:40:15.989Z"
   },
   {
    "duration": 2042,
    "start_time": "2022-10-05T14:40:21.295Z"
   },
   {
    "duration": 74,
    "start_time": "2022-10-05T14:40:57.501Z"
   },
   {
    "duration": 1640,
    "start_time": "2022-10-05T14:41:55.003Z"
   },
   {
    "duration": 2189,
    "start_time": "2022-10-05T14:45:14.377Z"
   },
   {
    "duration": 2076,
    "start_time": "2022-10-05T14:45:52.225Z"
   },
   {
    "duration": 2027,
    "start_time": "2022-10-05T14:46:10.302Z"
   },
   {
    "duration": 1872,
    "start_time": "2022-10-05T14:46:20.152Z"
   },
   {
    "duration": 309,
    "start_time": "2022-10-05T14:48:37.154Z"
   },
   {
    "duration": 998,
    "start_time": "2022-10-05T14:48:50.991Z"
   },
   {
    "duration": 942,
    "start_time": "2022-10-05T14:58:16.686Z"
   },
   {
    "duration": 163,
    "start_time": "2022-10-05T14:59:23.837Z"
   },
   {
    "duration": 64,
    "start_time": "2022-10-05T15:00:00.305Z"
   },
   {
    "duration": 155,
    "start_time": "2022-10-05T15:00:23.072Z"
   },
   {
    "duration": 173,
    "start_time": "2022-10-05T15:00:25.588Z"
   },
   {
    "duration": 201,
    "start_time": "2022-10-05T15:00:30.634Z"
   },
   {
    "duration": 254,
    "start_time": "2022-10-05T15:00:39.648Z"
   },
   {
    "duration": 209,
    "start_time": "2022-10-05T15:00:56.525Z"
   },
   {
    "duration": 788,
    "start_time": "2022-10-05T15:01:08.260Z"
   },
   {
    "duration": 5,
    "start_time": "2022-10-05T15:01:49.651Z"
   },
   {
    "duration": 2120,
    "start_time": "2022-10-05T15:01:54.325Z"
   },
   {
    "duration": 705,
    "start_time": "2022-10-05T15:02:02.163Z"
   },
   {
    "duration": 698,
    "start_time": "2022-10-05T15:02:45.424Z"
   },
   {
    "duration": 89,
    "start_time": "2022-10-05T15:03:56.344Z"
   },
   {
    "duration": 55,
    "start_time": "2022-10-05T15:04:00.953Z"
   },
   {
    "duration": 839,
    "start_time": "2022-10-05T15:04:11.681Z"
   },
   {
    "duration": 951,
    "start_time": "2022-10-05T15:04:20.113Z"
   },
   {
    "duration": 690,
    "start_time": "2022-10-05T15:04:26.593Z"
   },
   {
    "duration": 774,
    "start_time": "2022-10-05T15:04:41.152Z"
   },
   {
    "duration": 4,
    "start_time": "2022-10-05T15:05:30.864Z"
   },
   {
    "duration": 2247,
    "start_time": "2022-10-05T15:05:37.132Z"
   },
   {
    "duration": 18,
    "start_time": "2022-10-05T15:05:57.600Z"
   },
   {
    "duration": 4,
    "start_time": "2022-10-05T15:06:02.986Z"
   },
   {
    "duration": 2481,
    "start_time": "2022-10-05T15:06:08.839Z"
   },
   {
    "duration": 678,
    "start_time": "2022-10-05T15:06:15.808Z"
   },
   {
    "duration": 6,
    "start_time": "2022-10-05T15:06:32.640Z"
   },
   {
    "duration": 2116,
    "start_time": "2022-10-05T15:06:39.263Z"
   },
   {
    "duration": 719,
    "start_time": "2022-10-05T15:06:43.998Z"
   },
   {
    "duration": 1896,
    "start_time": "2022-10-05T15:06:52.943Z"
   },
   {
    "duration": 1551,
    "start_time": "2022-10-05T15:17:55.854Z"
   },
   {
    "duration": 1412,
    "start_time": "2022-10-05T15:18:12.021Z"
   },
   {
    "duration": 1300,
    "start_time": "2022-10-05T15:18:26.181Z"
   },
   {
    "duration": 1726,
    "start_time": "2022-10-05T15:18:41.531Z"
   },
   {
    "duration": 2411,
    "start_time": "2022-10-05T15:19:08.585Z"
   },
   {
    "duration": 2031,
    "start_time": "2022-10-05T15:19:25.428Z"
   },
   {
    "duration": 2118,
    "start_time": "2022-10-05T15:19:32.668Z"
   },
   {
    "duration": 1104,
    "start_time": "2022-10-05T15:20:35.843Z"
   },
   {
    "duration": 1104,
    "start_time": "2022-10-05T15:21:22.643Z"
   },
   {
    "duration": 1207,
    "start_time": "2022-10-05T15:21:32.242Z"
   },
   {
    "duration": 1154,
    "start_time": "2022-10-05T15:21:37.394Z"
   },
   {
    "duration": 1127,
    "start_time": "2022-10-05T15:21:43.483Z"
   },
   {
    "duration": 1204,
    "start_time": "2022-10-05T15:21:48.644Z"
   },
   {
    "duration": 1132,
    "start_time": "2022-10-05T15:22:14.970Z"
   },
   {
    "duration": 1169,
    "start_time": "2022-10-05T15:22:42.930Z"
   },
   {
    "duration": 1123,
    "start_time": "2022-10-05T15:24:03.801Z"
   },
   {
    "duration": 1103,
    "start_time": "2022-10-05T15:24:10.216Z"
   },
   {
    "duration": 102,
    "start_time": "2022-10-05T15:24:46.560Z"
   },
   {
    "duration": 4,
    "start_time": "2022-10-05T15:28:58.444Z"
   },
   {
    "duration": 5,
    "start_time": "2022-10-05T15:29:15.435Z"
   },
   {
    "duration": 10,
    "start_time": "2022-10-05T15:29:18.387Z"
   },
   {
    "duration": 4,
    "start_time": "2022-10-05T15:29:42.571Z"
   },
   {
    "duration": 9,
    "start_time": "2022-10-05T15:29:45.538Z"
   },
   {
    "duration": 4,
    "start_time": "2022-10-05T15:30:06.155Z"
   },
   {
    "duration": 5,
    "start_time": "2022-10-05T15:30:22.905Z"
   },
   {
    "duration": 17,
    "start_time": "2022-10-05T15:30:24.170Z"
   },
   {
    "duration": 13,
    "start_time": "2022-10-05T15:31:13.098Z"
   },
   {
    "duration": 61,
    "start_time": "2022-10-05T15:31:36.114Z"
   },
   {
    "duration": 15,
    "start_time": "2022-10-05T15:32:00.482Z"
   },
   {
    "duration": 999,
    "start_time": "2022-10-05T15:32:21.745Z"
   },
   {
    "duration": 431,
    "start_time": "2022-10-05T15:32:54.385Z"
   },
   {
    "duration": 375,
    "start_time": "2022-10-05T15:33:37.752Z"
   },
   {
    "duration": 366,
    "start_time": "2022-10-05T15:33:43.432Z"
   },
   {
    "duration": 372,
    "start_time": "2022-10-05T15:33:47.432Z"
   },
   {
    "duration": 398,
    "start_time": "2022-10-05T15:33:54.976Z"
   },
   {
    "duration": 360,
    "start_time": "2022-10-05T15:33:59.463Z"
   },
   {
    "duration": 505,
    "start_time": "2022-10-05T15:34:33.983Z"
   },
   {
    "duration": 43,
    "start_time": "2022-10-05T15:34:52.063Z"
   },
   {
    "duration": 1238,
    "start_time": "2022-10-06T11:51:21.489Z"
   },
   {
    "duration": 95,
    "start_time": "2022-10-06T11:51:22.729Z"
   },
   {
    "duration": 23,
    "start_time": "2022-10-06T11:51:22.826Z"
   },
   {
    "duration": 17,
    "start_time": "2022-10-06T11:51:22.851Z"
   },
   {
    "duration": 35,
    "start_time": "2022-10-06T11:51:22.870Z"
   },
   {
    "duration": 5,
    "start_time": "2022-10-06T11:51:22.906Z"
   },
   {
    "duration": 66,
    "start_time": "2022-10-06T11:51:22.912Z"
   },
   {
    "duration": 19,
    "start_time": "2022-10-06T11:51:22.980Z"
   },
   {
    "duration": 53,
    "start_time": "2022-10-06T11:51:23.001Z"
   },
   {
    "duration": 33,
    "start_time": "2022-10-06T11:51:23.057Z"
   },
   {
    "duration": 16,
    "start_time": "2022-10-06T11:51:23.091Z"
   },
   {
    "duration": 49,
    "start_time": "2022-10-06T11:51:23.138Z"
   },
   {
    "duration": 16,
    "start_time": "2022-10-06T11:51:23.189Z"
   },
   {
    "duration": 38,
    "start_time": "2022-10-06T11:51:23.206Z"
   },
   {
    "duration": 20,
    "start_time": "2022-10-06T11:51:23.245Z"
   },
   {
    "duration": 13,
    "start_time": "2022-10-06T11:51:23.266Z"
   },
   {
    "duration": 4,
    "start_time": "2022-10-06T11:51:23.281Z"
   },
   {
    "duration": 1826,
    "start_time": "2022-10-06T11:51:23.287Z"
   },
   {
    "duration": 56,
    "start_time": "2022-10-06T11:51:25.114Z"
   },
   {
    "duration": 0,
    "start_time": "2022-10-06T11:51:25.172Z"
   },
   {
    "duration": 0,
    "start_time": "2022-10-06T11:51:25.173Z"
   },
   {
    "duration": 0,
    "start_time": "2022-10-06T11:51:25.174Z"
   },
   {
    "duration": 0,
    "start_time": "2022-10-06T11:51:25.175Z"
   },
   {
    "duration": 0,
    "start_time": "2022-10-06T11:51:25.176Z"
   },
   {
    "duration": 0,
    "start_time": "2022-10-06T11:51:25.177Z"
   },
   {
    "duration": 0,
    "start_time": "2022-10-06T11:51:25.178Z"
   },
   {
    "duration": 724,
    "start_time": "2022-10-06T11:52:20.412Z"
   },
   {
    "duration": 1235,
    "start_time": "2022-10-06T11:52:23.572Z"
   },
   {
    "duration": 1971,
    "start_time": "2022-10-06T11:52:26.876Z"
   },
   {
    "duration": 1164,
    "start_time": "2022-10-06T11:52:32.300Z"
   },
   {
    "duration": 10,
    "start_time": "2022-10-06T11:52:35.955Z"
   },
   {
    "duration": 215,
    "start_time": "2022-10-06T11:52:38.878Z"
   },
   {
    "duration": 14,
    "start_time": "2022-10-06T11:53:12.542Z"
   },
   {
    "duration": 361,
    "start_time": "2022-10-06T11:53:14.715Z"
   },
   {
    "duration": 49,
    "start_time": "2022-10-06T11:53:35.644Z"
   },
   {
    "duration": 98,
    "start_time": "2022-10-06T11:54:34.635Z"
   },
   {
    "duration": 59,
    "start_time": "2022-10-06T11:54:53.609Z"
   },
   {
    "duration": 34,
    "start_time": "2022-10-06T11:54:57.876Z"
   },
   {
    "duration": 47,
    "start_time": "2022-10-06T11:56:29.937Z"
   },
   {
    "duration": 33,
    "start_time": "2022-10-06T11:56:42.524Z"
   },
   {
    "duration": 149,
    "start_time": "2022-10-06T12:03:19.794Z"
   },
   {
    "duration": 341,
    "start_time": "2022-10-06T12:04:05.193Z"
   },
   {
    "duration": 359,
    "start_time": "2022-10-06T12:04:56.049Z"
   },
   {
    "duration": 343,
    "start_time": "2022-10-06T12:05:13.681Z"
   },
   {
    "duration": 197,
    "start_time": "2022-10-06T12:06:10.528Z"
   },
   {
    "duration": 198,
    "start_time": "2022-10-06T12:06:16.752Z"
   },
   {
    "duration": 275,
    "start_time": "2022-10-06T12:06:23.135Z"
   },
   {
    "duration": 354,
    "start_time": "2022-10-06T12:06:28.152Z"
   },
   {
    "duration": 342,
    "start_time": "2022-10-06T12:07:27.815Z"
   },
   {
    "duration": 354,
    "start_time": "2022-10-06T12:07:36.423Z"
   },
   {
    "duration": 371,
    "start_time": "2022-10-06T12:07:50.606Z"
   },
   {
    "duration": 11,
    "start_time": "2022-10-06T12:08:22.239Z"
   },
   {
    "duration": 113,
    "start_time": "2022-10-06T12:08:57.286Z"
   },
   {
    "duration": 119,
    "start_time": "2022-10-06T12:09:03.112Z"
   },
   {
    "duration": 66,
    "start_time": "2022-10-06T12:09:29.341Z"
   },
   {
    "duration": 45,
    "start_time": "2022-10-06T12:09:40.445Z"
   },
   {
    "duration": 97,
    "start_time": "2022-10-06T12:09:44.631Z"
   },
   {
    "duration": 12,
    "start_time": "2022-10-06T12:09:51.366Z"
   },
   {
    "duration": 13,
    "start_time": "2022-10-06T12:09:55.901Z"
   },
   {
    "duration": 12,
    "start_time": "2022-10-06T12:10:03.301Z"
   },
   {
    "duration": 12,
    "start_time": "2022-10-06T12:10:40.261Z"
   },
   {
    "duration": 15,
    "start_time": "2022-10-06T12:10:57.493Z"
   },
   {
    "duration": 12,
    "start_time": "2022-10-06T12:11:28.721Z"
   },
   {
    "duration": 74,
    "start_time": "2022-10-06T12:12:52.400Z"
   },
   {
    "duration": 470,
    "start_time": "2022-10-06T12:14:09.617Z"
   },
   {
    "duration": 462,
    "start_time": "2022-10-06T12:14:15.558Z"
   },
   {
    "duration": 509,
    "start_time": "2022-10-06T12:18:06.225Z"
   },
   {
    "duration": 528,
    "start_time": "2022-10-06T12:18:22.966Z"
   },
   {
    "duration": 455,
    "start_time": "2022-10-06T12:18:47.523Z"
   },
   {
    "duration": 380,
    "start_time": "2022-10-06T12:18:51.892Z"
   },
   {
    "duration": 461,
    "start_time": "2022-10-06T12:19:08.476Z"
   },
   {
    "duration": 10,
    "start_time": "2022-10-06T12:19:40.292Z"
   },
   {
    "duration": 11,
    "start_time": "2022-10-06T12:20:29.587Z"
   },
   {
    "duration": 10,
    "start_time": "2022-10-06T12:20:39.107Z"
   },
   {
    "duration": 21,
    "start_time": "2022-10-06T12:25:36.335Z"
   },
   {
    "duration": 78,
    "start_time": "2022-10-06T12:33:25.713Z"
   },
   {
    "duration": 86,
    "start_time": "2022-10-06T12:34:13.346Z"
   },
   {
    "duration": 51,
    "start_time": "2022-10-06T12:38:59.793Z"
   },
   {
    "duration": 1271,
    "start_time": "2022-10-06T12:42:50.030Z"
   },
   {
    "duration": 61,
    "start_time": "2022-10-06T12:42:51.303Z"
   },
   {
    "duration": 28,
    "start_time": "2022-10-06T12:42:51.365Z"
   },
   {
    "duration": 42,
    "start_time": "2022-10-06T12:42:51.395Z"
   },
   {
    "duration": 38,
    "start_time": "2022-10-06T12:42:51.440Z"
   },
   {
    "duration": 5,
    "start_time": "2022-10-06T12:42:51.479Z"
   },
   {
    "duration": 83,
    "start_time": "2022-10-06T12:42:51.486Z"
   },
   {
    "duration": 19,
    "start_time": "2022-10-06T12:42:51.572Z"
   },
   {
    "duration": 64,
    "start_time": "2022-10-06T12:42:51.594Z"
   },
   {
    "duration": 41,
    "start_time": "2022-10-06T12:42:51.661Z"
   },
   {
    "duration": 44,
    "start_time": "2022-10-06T12:42:51.704Z"
   },
   {
    "duration": 52,
    "start_time": "2022-10-06T12:42:51.749Z"
   },
   {
    "duration": 47,
    "start_time": "2022-10-06T12:42:51.802Z"
   },
   {
    "duration": 8,
    "start_time": "2022-10-06T12:42:51.851Z"
   },
   {
    "duration": 25,
    "start_time": "2022-10-06T12:42:51.861Z"
   },
   {
    "duration": 21,
    "start_time": "2022-10-06T12:42:51.888Z"
   },
   {
    "duration": 12,
    "start_time": "2022-10-06T12:42:51.911Z"
   },
   {
    "duration": 1979,
    "start_time": "2022-10-06T12:42:51.924Z"
   },
   {
    "duration": 818,
    "start_time": "2022-10-06T12:42:53.905Z"
   },
   {
    "duration": 1339,
    "start_time": "2022-10-06T12:42:54.725Z"
   },
   {
    "duration": 1914,
    "start_time": "2022-10-06T12:42:56.066Z"
   },
   {
    "duration": 1303,
    "start_time": "2022-10-06T12:42:57.981Z"
   },
   {
    "duration": 11,
    "start_time": "2022-10-06T12:42:59.286Z"
   },
   {
    "duration": 16,
    "start_time": "2022-10-06T12:42:59.299Z"
   },
   {
    "duration": 404,
    "start_time": "2022-10-06T12:42:59.316Z"
   },
   {
    "duration": 39,
    "start_time": "2022-10-06T12:42:59.722Z"
   },
   {
    "duration": 36,
    "start_time": "2022-10-06T12:42:59.763Z"
   },
   {
    "duration": 462,
    "start_time": "2022-10-06T12:42:59.839Z"
   },
   {
    "duration": 13,
    "start_time": "2022-10-06T12:43:00.302Z"
   },
   {
    "duration": 444,
    "start_time": "2022-10-06T12:43:00.318Z"
   },
   {
    "duration": 11,
    "start_time": "2022-10-06T12:43:00.764Z"
   },
   {
    "duration": 418,
    "start_time": "2022-10-06T13:40:47.056Z"
   },
   {
    "duration": 387,
    "start_time": "2022-10-06T13:41:16.290Z"
   },
   {
    "duration": 18,
    "start_time": "2022-10-06T14:38:05.225Z"
   },
   {
    "duration": 2904,
    "start_time": "2022-10-06T14:39:16.367Z"
   },
   {
    "duration": 2313,
    "start_time": "2022-10-06T14:39:32.032Z"
   },
   {
    "duration": 85,
    "start_time": "2022-10-06T14:48:31.379Z"
   },
   {
    "duration": 2227,
    "start_time": "2022-10-06T14:49:03.727Z"
   },
   {
    "duration": 2246,
    "start_time": "2022-10-06T14:49:42.382Z"
   },
   {
    "duration": 64,
    "start_time": "2022-10-06T14:50:57.271Z"
   },
   {
    "duration": 2369,
    "start_time": "2022-10-06T14:51:07.733Z"
   },
   {
    "duration": 1252,
    "start_time": "2022-10-07T11:52:22.976Z"
   },
   {
    "duration": 164,
    "start_time": "2022-10-07T11:52:24.230Z"
   },
   {
    "duration": 20,
    "start_time": "2022-10-07T11:52:24.395Z"
   },
   {
    "duration": 14,
    "start_time": "2022-10-07T11:52:24.417Z"
   },
   {
    "duration": 28,
    "start_time": "2022-10-07T11:52:24.433Z"
   },
   {
    "duration": 3,
    "start_time": "2022-10-07T11:52:24.463Z"
   },
   {
    "duration": 61,
    "start_time": "2022-10-07T11:52:24.467Z"
   },
   {
    "duration": 14,
    "start_time": "2022-10-07T11:52:24.529Z"
   },
   {
    "duration": 25,
    "start_time": "2022-10-07T11:52:24.545Z"
   },
   {
    "duration": 29,
    "start_time": "2022-10-07T11:52:24.605Z"
   },
   {
    "duration": 16,
    "start_time": "2022-10-07T11:52:24.636Z"
   },
   {
    "duration": 71,
    "start_time": "2022-10-07T11:52:24.654Z"
   },
   {
    "duration": 12,
    "start_time": "2022-10-07T11:52:24.727Z"
   },
   {
    "duration": 5,
    "start_time": "2022-10-07T11:52:24.741Z"
   },
   {
    "duration": 11,
    "start_time": "2022-10-07T11:52:24.748Z"
   },
   {
    "duration": 9,
    "start_time": "2022-10-07T11:52:24.761Z"
   },
   {
    "duration": 36,
    "start_time": "2022-10-07T11:52:24.771Z"
   },
   {
    "duration": 1577,
    "start_time": "2022-10-07T11:52:24.808Z"
   },
   {
    "duration": 634,
    "start_time": "2022-10-07T11:52:26.386Z"
   },
   {
    "duration": 1148,
    "start_time": "2022-10-07T11:52:27.021Z"
   },
   {
    "duration": 1617,
    "start_time": "2022-10-07T11:52:28.171Z"
   },
   {
    "duration": 1041,
    "start_time": "2022-10-07T11:52:29.790Z"
   },
   {
    "duration": 10,
    "start_time": "2022-10-07T11:52:30.834Z"
   },
   {
    "duration": 26,
    "start_time": "2022-10-07T11:52:30.846Z"
   },
   {
    "duration": 350,
    "start_time": "2022-10-07T11:52:30.873Z"
   },
   {
    "duration": 30,
    "start_time": "2022-10-07T11:52:31.225Z"
   },
   {
    "duration": 49,
    "start_time": "2022-10-07T11:52:31.258Z"
   },
   {
    "duration": 329,
    "start_time": "2022-10-07T11:52:31.311Z"
   },
   {
    "duration": 12,
    "start_time": "2022-10-07T11:52:31.642Z"
   },
   {
    "duration": 350,
    "start_time": "2022-10-07T11:52:31.655Z"
   },
   {
    "duration": 10,
    "start_time": "2022-10-07T11:52:32.007Z"
   },
   {
    "duration": 45,
    "start_time": "2022-10-07T12:41:27.964Z"
   },
   {
    "duration": 1406,
    "start_time": "2022-10-07T12:41:38.068Z"
   },
   {
    "duration": 99,
    "start_time": "2022-10-07T12:41:39.476Z"
   },
   {
    "duration": 25,
    "start_time": "2022-10-07T12:41:39.577Z"
   },
   {
    "duration": 19,
    "start_time": "2022-10-07T12:41:39.604Z"
   },
   {
    "duration": 49,
    "start_time": "2022-10-07T12:41:39.625Z"
   },
   {
    "duration": 5,
    "start_time": "2022-10-07T12:41:39.675Z"
   },
   {
    "duration": 70,
    "start_time": "2022-10-07T12:41:39.681Z"
   },
   {
    "duration": 17,
    "start_time": "2022-10-07T12:41:39.752Z"
   },
   {
    "duration": 28,
    "start_time": "2022-10-07T12:41:39.771Z"
   },
   {
    "duration": 72,
    "start_time": "2022-10-07T12:41:39.802Z"
   },
   {
    "duration": 18,
    "start_time": "2022-10-07T12:41:39.876Z"
   },
   {
    "duration": 84,
    "start_time": "2022-10-07T12:41:39.896Z"
   },
   {
    "duration": 19,
    "start_time": "2022-10-07T12:41:39.982Z"
   },
   {
    "duration": 40,
    "start_time": "2022-10-07T12:41:40.003Z"
   },
   {
    "duration": 14,
    "start_time": "2022-10-07T12:41:40.045Z"
   },
   {
    "duration": 13,
    "start_time": "2022-10-07T12:41:40.061Z"
   },
   {
    "duration": 11,
    "start_time": "2022-10-07T12:41:40.076Z"
   },
   {
    "duration": 1985,
    "start_time": "2022-10-07T12:41:40.089Z"
   },
   {
    "duration": 785,
    "start_time": "2022-10-07T12:41:42.076Z"
   },
   {
    "duration": 1338,
    "start_time": "2022-10-07T12:41:42.863Z"
   },
   {
    "duration": 1925,
    "start_time": "2022-10-07T12:41:44.203Z"
   },
   {
    "duration": 1218,
    "start_time": "2022-10-07T12:41:46.130Z"
   },
   {
    "duration": 5,
    "start_time": "2022-10-07T12:41:51.104Z"
   },
   {
    "duration": 925,
    "start_time": "2022-10-07T12:41:56.711Z"
   },
   {
    "duration": 12,
    "start_time": "2022-10-07T12:44:28.121Z"
   },
   {
    "duration": 12,
    "start_time": "2022-10-07T12:44:39.894Z"
   },
   {
    "duration": 13,
    "start_time": "2022-10-07T12:44:41.479Z"
   },
   {
    "duration": 8,
    "start_time": "2022-10-07T12:44:53.614Z"
   },
   {
    "duration": 5,
    "start_time": "2022-10-07T12:45:03.702Z"
   },
   {
    "duration": 54,
    "start_time": "2022-10-07T12:45:03.714Z"
   },
   {
    "duration": 27,
    "start_time": "2022-10-07T12:45:03.770Z"
   },
   {
    "duration": 41,
    "start_time": "2022-10-07T12:45:03.799Z"
   },
   {
    "duration": 36,
    "start_time": "2022-10-07T12:45:03.841Z"
   },
   {
    "duration": 4,
    "start_time": "2022-10-07T12:45:03.880Z"
   },
   {
    "duration": 72,
    "start_time": "2022-10-07T12:45:03.886Z"
   },
   {
    "duration": 17,
    "start_time": "2022-10-07T12:45:03.959Z"
   },
   {
    "duration": 69,
    "start_time": "2022-10-07T12:45:03.978Z"
   },
   {
    "duration": 36,
    "start_time": "2022-10-07T12:45:04.049Z"
   },
   {
    "duration": 17,
    "start_time": "2022-10-07T12:45:04.087Z"
   },
   {
    "duration": 83,
    "start_time": "2022-10-07T12:45:04.105Z"
   },
   {
    "duration": 16,
    "start_time": "2022-10-07T12:45:04.190Z"
   },
   {
    "duration": 37,
    "start_time": "2022-10-07T12:45:04.207Z"
   },
   {
    "duration": 13,
    "start_time": "2022-10-07T12:45:04.247Z"
   },
   {
    "duration": 13,
    "start_time": "2022-10-07T12:45:04.261Z"
   },
   {
    "duration": 5,
    "start_time": "2022-10-07T12:45:04.276Z"
   },
   {
    "duration": 1960,
    "start_time": "2022-10-07T12:45:04.283Z"
   },
   {
    "duration": 764,
    "start_time": "2022-10-07T12:45:06.245Z"
   },
   {
    "duration": 1410,
    "start_time": "2022-10-07T12:45:07.010Z"
   },
   {
    "duration": 1762,
    "start_time": "2022-10-07T12:45:08.421Z"
   },
   {
    "duration": 1180,
    "start_time": "2022-10-07T12:45:10.186Z"
   },
   {
    "duration": 16,
    "start_time": "2022-10-07T12:45:11.368Z"
   },
   {
    "duration": 19,
    "start_time": "2022-10-07T12:45:15.701Z"
   },
   {
    "duration": 20,
    "start_time": "2022-10-07T12:45:31.102Z"
   },
   {
    "duration": 1454,
    "start_time": "2022-10-07T12:46:29.149Z"
   },
   {
    "duration": 11,
    "start_time": "2022-10-07T12:54:47.720Z"
   },
   {
    "duration": 5,
    "start_time": "2022-10-07T12:55:03.256Z"
   },
   {
    "duration": 51,
    "start_time": "2022-10-07T12:55:03.267Z"
   },
   {
    "duration": 20,
    "start_time": "2022-10-07T12:55:03.320Z"
   },
   {
    "duration": 16,
    "start_time": "2022-10-07T12:55:03.341Z"
   },
   {
    "duration": 34,
    "start_time": "2022-10-07T12:55:03.358Z"
   },
   {
    "duration": 5,
    "start_time": "2022-10-07T12:55:03.394Z"
   },
   {
    "duration": 67,
    "start_time": "2022-10-07T12:55:03.400Z"
   },
   {
    "duration": 15,
    "start_time": "2022-10-07T12:55:03.469Z"
   },
   {
    "duration": 57,
    "start_time": "2022-10-07T12:55:03.486Z"
   },
   {
    "duration": 32,
    "start_time": "2022-10-07T12:55:03.544Z"
   },
   {
    "duration": 19,
    "start_time": "2022-10-07T12:55:03.577Z"
   },
   {
    "duration": 88,
    "start_time": "2022-10-07T12:55:03.598Z"
   },
   {
    "duration": 19,
    "start_time": "2022-10-07T12:55:03.688Z"
   },
   {
    "duration": 38,
    "start_time": "2022-10-07T12:55:03.708Z"
   },
   {
    "duration": 16,
    "start_time": "2022-10-07T12:55:03.750Z"
   },
   {
    "duration": 15,
    "start_time": "2022-10-07T12:55:03.767Z"
   },
   {
    "duration": 6,
    "start_time": "2022-10-07T12:55:03.783Z"
   },
   {
    "duration": 1934,
    "start_time": "2022-10-07T12:55:03.790Z"
   },
   {
    "duration": 633,
    "start_time": "2022-10-07T12:55:05.726Z"
   },
   {
    "duration": 1345,
    "start_time": "2022-10-07T12:55:06.360Z"
   },
   {
    "duration": 1909,
    "start_time": "2022-10-07T12:55:07.707Z"
   },
   {
    "duration": 28,
    "start_time": "2022-10-07T12:55:09.617Z"
   },
   {
    "duration": 1329,
    "start_time": "2022-10-07T12:55:30.567Z"
   },
   {
    "duration": 55,
    "start_time": "2022-10-07T12:59:26.293Z"
   },
   {
    "duration": 15,
    "start_time": "2022-10-07T13:23:35.396Z"
   },
   {
    "duration": 5,
    "start_time": "2022-10-07T13:23:53.384Z"
   },
   {
    "duration": 51,
    "start_time": "2022-10-07T13:23:53.394Z"
   },
   {
    "duration": 22,
    "start_time": "2022-10-07T13:23:53.447Z"
   },
   {
    "duration": 18,
    "start_time": "2022-10-07T13:23:53.471Z"
   },
   {
    "duration": 56,
    "start_time": "2022-10-07T13:23:53.491Z"
   },
   {
    "duration": 4,
    "start_time": "2022-10-07T13:23:53.549Z"
   },
   {
    "duration": 43,
    "start_time": "2022-10-07T13:23:53.555Z"
   },
   {
    "duration": 45,
    "start_time": "2022-10-07T13:23:53.600Z"
   },
   {
    "duration": 27,
    "start_time": "2022-10-07T13:23:53.646Z"
   },
   {
    "duration": 32,
    "start_time": "2022-10-07T13:23:53.675Z"
   },
   {
    "duration": 43,
    "start_time": "2022-10-07T13:23:53.709Z"
   },
   {
    "duration": 50,
    "start_time": "2022-10-07T13:23:53.753Z"
   },
   {
    "duration": 46,
    "start_time": "2022-10-07T13:23:53.804Z"
   },
   {
    "duration": 7,
    "start_time": "2022-10-07T13:23:53.852Z"
   },
   {
    "duration": 15,
    "start_time": "2022-10-07T13:23:53.862Z"
   },
   {
    "duration": 11,
    "start_time": "2022-10-07T13:23:53.879Z"
   },
   {
    "duration": 5,
    "start_time": "2022-10-07T13:23:53.891Z"
   },
   {
    "duration": 1884,
    "start_time": "2022-10-07T13:23:53.898Z"
   },
   {
    "duration": 616,
    "start_time": "2022-10-07T13:23:55.783Z"
   },
   {
    "duration": 13,
    "start_time": "2022-10-07T13:23:56.401Z"
   },
   {
    "duration": 125106,
    "start_time": "2022-10-07T13:31:20.833Z"
   },
   {
    "duration": 52,
    "start_time": "2022-10-07T13:34:18.196Z"
   },
   {
    "duration": 775,
    "start_time": "2022-10-07T13:34:24.740Z"
   },
   {
    "duration": 641,
    "start_time": "2022-10-07T13:35:04.308Z"
   },
   {
    "duration": 556,
    "start_time": "2022-10-07T13:36:01.924Z"
   },
   {
    "duration": 532,
    "start_time": "2022-10-07T13:36:12.580Z"
   },
   {
    "duration": 737,
    "start_time": "2022-10-07T13:36:38.603Z"
   },
   {
    "duration": 48,
    "start_time": "2022-10-07T13:39:37.814Z"
   },
   {
    "duration": 1230,
    "start_time": "2022-10-07T13:39:46.679Z"
   },
   {
    "duration": 56,
    "start_time": "2022-10-07T13:39:47.911Z"
   },
   {
    "duration": 23,
    "start_time": "2022-10-07T13:39:47.968Z"
   },
   {
    "duration": 17,
    "start_time": "2022-10-07T13:39:47.993Z"
   },
   {
    "duration": 60,
    "start_time": "2022-10-07T13:39:48.011Z"
   },
   {
    "duration": 5,
    "start_time": "2022-10-07T13:39:48.073Z"
   },
   {
    "duration": 64,
    "start_time": "2022-10-07T13:39:48.079Z"
   },
   {
    "duration": 16,
    "start_time": "2022-10-07T13:39:48.145Z"
   },
   {
    "duration": 30,
    "start_time": "2022-10-07T13:39:48.162Z"
   },
   {
    "duration": 72,
    "start_time": "2022-10-07T13:39:48.195Z"
   },
   {
    "duration": 17,
    "start_time": "2022-10-07T13:39:48.268Z"
   },
   {
    "duration": 83,
    "start_time": "2022-10-07T13:39:48.287Z"
   },
   {
    "duration": 17,
    "start_time": "2022-10-07T13:39:48.372Z"
   },
   {
    "duration": 7,
    "start_time": "2022-10-07T13:39:48.390Z"
   },
   {
    "duration": 41,
    "start_time": "2022-10-07T13:39:48.399Z"
   },
   {
    "duration": 14,
    "start_time": "2022-10-07T13:39:48.441Z"
   },
   {
    "duration": 11,
    "start_time": "2022-10-07T13:39:48.456Z"
   },
   {
    "duration": 1998,
    "start_time": "2022-10-07T13:39:48.469Z"
   },
   {
    "duration": 749,
    "start_time": "2022-10-07T13:39:50.468Z"
   },
   {
    "duration": 49,
    "start_time": "2022-10-07T13:40:53.673Z"
   },
   {
    "duration": 58808,
    "start_time": "2022-10-07T13:40:56.421Z"
   },
   {
    "duration": 4,
    "start_time": "2022-10-07T13:42:42.540Z"
   },
   {
    "duration": 20,
    "start_time": "2022-10-07T13:42:51.419Z"
   },
   {
    "duration": 4,
    "start_time": "2022-10-07T13:43:06.036Z"
   },
   {
    "duration": 5,
    "start_time": "2022-10-07T13:43:09.707Z"
   },
   {
    "duration": 5,
    "start_time": "2022-10-07T13:43:21.635Z"
   },
   {
    "duration": 5,
    "start_time": "2022-10-07T13:43:23.583Z"
   },
   {
    "duration": 76,
    "start_time": "2022-10-07T13:46:21.170Z"
   },
   {
    "duration": 612,
    "start_time": "2022-10-07T13:46:55.498Z"
   },
   {
    "duration": 1290,
    "start_time": "2022-10-07T13:47:17.960Z"
   },
   {
    "duration": 21,
    "start_time": "2022-10-07T13:49:35.310Z"
   },
   {
    "duration": 148,
    "start_time": "2022-10-07T13:49:43.254Z"
   },
   {
    "duration": 14,
    "start_time": "2022-10-07T13:50:17.797Z"
   },
   {
    "duration": 16,
    "start_time": "2022-10-07T13:50:21.805Z"
   },
   {
    "duration": 137,
    "start_time": "2022-10-07T13:52:49.251Z"
   },
   {
    "duration": 85,
    "start_time": "2022-10-07T13:54:02.186Z"
   },
   {
    "duration": 9,
    "start_time": "2022-10-07T13:54:06.844Z"
   },
   {
    "duration": 9,
    "start_time": "2022-10-07T13:54:13.490Z"
   },
   {
    "duration": 927,
    "start_time": "2022-10-07T13:54:56.810Z"
   },
   {
    "duration": 881,
    "start_time": "2022-10-07T13:55:12.890Z"
   },
   {
    "duration": 9,
    "start_time": "2022-10-07T13:55:23.848Z"
   },
   {
    "duration": 1283,
    "start_time": "2022-10-07T13:55:36.376Z"
   },
   {
    "duration": 1228,
    "start_time": "2022-10-07T13:56:14.176Z"
   },
   {
    "duration": 1294,
    "start_time": "2022-10-07T13:56:30.032Z"
   },
   {
    "duration": 1062,
    "start_time": "2022-10-07T13:56:36.448Z"
   },
   {
    "duration": 17,
    "start_time": "2022-10-07T13:59:04.894Z"
   },
   {
    "duration": 16,
    "start_time": "2022-10-07T13:59:09.135Z"
   },
   {
    "duration": 17,
    "start_time": "2022-10-07T13:59:29.399Z"
   },
   {
    "duration": 962,
    "start_time": "2022-10-07T13:59:50.158Z"
   },
   {
    "duration": 1990,
    "start_time": "2022-10-07T14:00:04.063Z"
   },
   {
    "duration": 16,
    "start_time": "2022-10-07T14:01:54.612Z"
   },
   {
    "duration": 1880,
    "start_time": "2022-10-07T14:02:20.211Z"
   },
   {
    "duration": 162,
    "start_time": "2022-10-07T14:02:30.516Z"
   },
   {
    "duration": 1775,
    "start_time": "2022-10-07T14:02:48.147Z"
   },
   {
    "duration": 21,
    "start_time": "2022-10-07T14:03:30.707Z"
   },
   {
    "duration": 136,
    "start_time": "2022-10-07T14:03:44.939Z"
   },
   {
    "duration": 133,
    "start_time": "2022-10-07T14:03:50.842Z"
   },
   {
    "duration": 133,
    "start_time": "2022-10-07T14:05:32.888Z"
   },
   {
    "duration": 134,
    "start_time": "2022-10-07T14:05:40.112Z"
   },
   {
    "duration": 68,
    "start_time": "2022-10-07T14:08:04.599Z"
   },
   {
    "duration": 2064,
    "start_time": "2022-10-07T14:09:55.071Z"
   },
   {
    "duration": 167,
    "start_time": "2022-10-07T14:13:31.373Z"
   },
   {
    "duration": 2027,
    "start_time": "2022-10-07T14:13:46.626Z"
   },
   {
    "duration": 1758,
    "start_time": "2022-10-07T14:15:19.137Z"
   },
   {
    "duration": 2146,
    "start_time": "2022-10-07T14:15:37.633Z"
   },
   {
    "duration": 535,
    "start_time": "2022-10-07T14:17:43.344Z"
   },
   {
    "duration": 76,
    "start_time": "2022-10-07T14:19:32.317Z"
   },
   {
    "duration": 62,
    "start_time": "2022-10-07T14:19:44.725Z"
   },
   {
    "duration": 1307,
    "start_time": "2022-10-07T14:22:18.555Z"
   },
   {
    "duration": 1115,
    "start_time": "2022-10-07T14:27:05.961Z"
   },
   {
    "duration": 60,
    "start_time": "2022-10-07T14:27:07.078Z"
   },
   {
    "duration": 31,
    "start_time": "2022-10-07T14:27:07.140Z"
   },
   {
    "duration": 24,
    "start_time": "2022-10-07T14:27:07.173Z"
   },
   {
    "duration": 65,
    "start_time": "2022-10-07T14:27:07.199Z"
   },
   {
    "duration": 8,
    "start_time": "2022-10-07T14:27:07.266Z"
   },
   {
    "duration": 73,
    "start_time": "2022-10-07T14:27:07.275Z"
   },
   {
    "duration": 22,
    "start_time": "2022-10-07T14:27:07.350Z"
   },
   {
    "duration": 69,
    "start_time": "2022-10-07T14:27:07.374Z"
   },
   {
    "duration": 35,
    "start_time": "2022-10-07T14:27:07.445Z"
   },
   {
    "duration": 16,
    "start_time": "2022-10-07T14:27:07.482Z"
   },
   {
    "duration": 90,
    "start_time": "2022-10-07T14:27:07.500Z"
   },
   {
    "duration": 19,
    "start_time": "2022-10-07T14:27:07.591Z"
   },
   {
    "duration": 9,
    "start_time": "2022-10-07T14:27:07.638Z"
   },
   {
    "duration": 14,
    "start_time": "2022-10-07T14:27:07.649Z"
   },
   {
    "duration": 12,
    "start_time": "2022-10-07T14:27:07.665Z"
   },
   {
    "duration": 5,
    "start_time": "2022-10-07T14:27:07.679Z"
   },
   {
    "duration": 1883,
    "start_time": "2022-10-07T14:27:07.686Z"
   },
   {
    "duration": 715,
    "start_time": "2022-10-07T14:27:09.571Z"
   },
   {
    "duration": 1267,
    "start_time": "2022-10-07T14:27:10.288Z"
   },
   {
    "duration": 1753,
    "start_time": "2022-10-07T14:27:11.557Z"
   },
   {
    "duration": 43,
    "start_time": "2022-10-07T14:27:13.312Z"
   },
   {
    "duration": 1585,
    "start_time": "2022-10-07T14:27:13.358Z"
   },
   {
    "duration": 36,
    "start_time": "2022-10-07T14:27:14.945Z"
   },
   {
    "duration": 62,
    "start_time": "2022-10-07T14:27:14.983Z"
   },
   {
    "duration": 394,
    "start_time": "2022-10-07T14:27:15.047Z"
   },
   {
    "duration": 17,
    "start_time": "2022-10-07T14:27:15.443Z"
   },
   {
    "duration": 479,
    "start_time": "2022-10-07T14:27:15.465Z"
   },
   {
    "duration": 14,
    "start_time": "2022-10-07T14:27:15.946Z"
   },
   {
    "duration": 1105,
    "start_time": "2022-10-07T19:03:47.757Z"
   },
   {
    "duration": 56,
    "start_time": "2022-10-07T19:03:48.863Z"
   },
   {
    "duration": 23,
    "start_time": "2022-10-07T19:03:48.921Z"
   },
   {
    "duration": 15,
    "start_time": "2022-10-07T19:03:48.945Z"
   },
   {
    "duration": 35,
    "start_time": "2022-10-07T19:03:48.962Z"
   },
   {
    "duration": 4,
    "start_time": "2022-10-07T19:03:48.999Z"
   },
   {
    "duration": 70,
    "start_time": "2022-10-07T19:03:49.004Z"
   },
   {
    "duration": 14,
    "start_time": "2022-10-07T19:03:49.076Z"
   },
   {
    "duration": 54,
    "start_time": "2022-10-07T19:03:49.091Z"
   },
   {
    "duration": 31,
    "start_time": "2022-10-07T19:03:49.146Z"
   },
   {
    "duration": 15,
    "start_time": "2022-10-07T19:03:49.178Z"
   },
   {
    "duration": 86,
    "start_time": "2022-10-07T19:03:49.195Z"
   },
   {
    "duration": 15,
    "start_time": "2022-10-07T19:03:49.282Z"
   },
   {
    "duration": 36,
    "start_time": "2022-10-07T19:03:49.299Z"
   },
   {
    "duration": 14,
    "start_time": "2022-10-07T19:03:49.337Z"
   },
   {
    "duration": 10,
    "start_time": "2022-10-07T19:03:49.353Z"
   },
   {
    "duration": 4,
    "start_time": "2022-10-07T19:03:49.365Z"
   },
   {
    "duration": 1895,
    "start_time": "2022-10-07T19:03:49.370Z"
   },
   {
    "duration": 697,
    "start_time": "2022-10-07T19:03:51.267Z"
   },
   {
    "duration": 1281,
    "start_time": "2022-10-07T19:03:51.966Z"
   },
   {
    "duration": 1717,
    "start_time": "2022-10-07T19:03:53.249Z"
   },
   {
    "duration": 19,
    "start_time": "2022-10-07T19:03:54.967Z"
   },
   {
    "duration": 1602,
    "start_time": "2022-10-07T19:03:54.987Z"
   },
   {
    "duration": 35,
    "start_time": "2022-10-07T19:03:56.591Z"
   },
   {
    "duration": 34,
    "start_time": "2022-10-07T19:03:56.627Z"
   },
   {
    "duration": 392,
    "start_time": "2022-10-07T19:03:56.663Z"
   },
   {
    "duration": 13,
    "start_time": "2022-10-07T19:03:57.056Z"
   },
   {
    "duration": 384,
    "start_time": "2022-10-07T19:03:57.070Z"
   },
   {
    "duration": 11,
    "start_time": "2022-10-07T19:03:57.456Z"
   }
  ],
  "kernelspec": {
   "display_name": "Python 3 (ipykernel)",
   "language": "python",
   "name": "python3"
  },
  "language_info": {
   "codemirror_mode": {
    "name": "ipython",
    "version": 3
   },
   "file_extension": ".py",
   "mimetype": "text/x-python",
   "name": "python",
   "nbconvert_exporter": "python",
   "pygments_lexer": "ipython3",
   "version": "3.9.7"
  },
  "toc": {
   "base_numbering": 1,
   "nav_menu": {},
   "number_sections": true,
   "sideBar": true,
   "skip_h1_title": true,
   "title_cell": "Table of Contents",
   "title_sidebar": "Contents",
   "toc_cell": true,
   "toc_position": {
    "height": "calc(100% - 180px)",
    "left": "10px",
    "top": "150px",
    "width": "364.883px"
   },
   "toc_section_display": true,
   "toc_window_display": true
  }
 },
 "nbformat": 4,
 "nbformat_minor": 2
}
